{
 "cells": [
  {
   "cell_type": "markdown",
   "metadata": {
    "colab_type": "text",
    "id": "sM_sjZNr4Dua"
   },
   "source": [
    "# Lecture 5 - Exercises\n",
    "# Topic - Sets, Tuples, Dictionaries and Random Numbers\n",
    "\n"
   ]
  },
  {
   "cell_type": "markdown",
   "metadata": {},
   "source": [
    "### Tuples"
   ]
  },
  {
   "cell_type": "markdown",
   "metadata": {},
   "source": [
    "1. Create a tuple ```tup1```with 5 numbers. Print the result.\n",
    "2. create a tuple ```tup2``` with 2 strings. Print the result.\n",
    "3. create a tuple ```tup3``` that is the concatenation of ```tup1``` and ```tup2```. Print the result."
   ]
  },
  {
   "cell_type": "code",
   "execution_count": null,
   "metadata": {},
   "outputs": [],
   "source": []
  },
  {
   "cell_type": "markdown",
   "metadata": {},
   "source": [
    "Try changing the value of the first element of ```tup3```. What happens? Why?"
   ]
  },
  {
   "cell_type": "markdown",
   "metadata": {},
   "source": [
    "Let ```tup4 = (1, 2, [4,5,6])```\n",
    "\n",
    "Try to change the value 1 for 10 instead. What happens?\n",
    "\n",
    "Try to change the value 6 for 20 instead. What happens?"
   ]
  },
  {
   "cell_type": "code",
   "execution_count": null,
   "metadata": {},
   "outputs": [],
   "source": []
  },
  {
   "cell_type": "markdown",
   "metadata": {},
   "source": [
    "### Sets"
   ]
  },
  {
   "cell_type": "markdown",
   "metadata": {},
   "source": [
    "- Create one set ```set1``` with five country names and another one ```set2``` with 3 country names\n",
    "- Create a set ```set3``` that is the union of both sets. Print it.\n",
    "- Answering without coding, what would be the output of ```set3.issubset(set1)```? Verify your answer.\n",
    "- Create a set ```set4``` that is the intersection of both sets. Print it.\n",
    "- What would be the output of ```set4.issubset(set2)``` ? Verify your answer.\n"
   ]
  },
  {
   "cell_type": "code",
   "execution_count": null,
   "metadata": {},
   "outputs": [],
   "source": []
  },
  {
   "cell_type": "markdown",
   "metadata": {},
   "source": [
    "- Add two elements to ```set1```\n",
    "- Remove one element from set2\n"
   ]
  },
  {
   "cell_type": "code",
   "execution_count": null,
   "metadata": {},
   "outputs": [],
   "source": []
  },
  {
   "cell_type": "markdown",
   "metadata": {},
   "source": [
    "Write a function ```elem_in_set```that takes as arguments a set ```s``` and an element ```elem```, and returns if that element is included in the set. It should return a boolean value.\n"
   ]
  },
  {
   "cell_type": "code",
   "execution_count": null,
   "metadata": {},
   "outputs": [],
   "source": []
  },
  {
   "cell_type": "markdown",
   "metadata": {},
   "source": [
    "### Dictionaries"
   ]
  },
  {
   "cell_type": "markdown",
   "metadata": {},
   "source": [
    "Given the following dictionary:\n",
    "\n",
    "```inventory = {\n",
    "    'gold' : 500,\n",
    "    'pouch' : ['flint', 'twine', 'gemstone'],\n",
    "    'backpack' : ['xylophone','dagger', 'bedroll','bread loaf']\n",
    "}```\n",
    "\n",
    "- Add a key to inventory called ```pocket```.\n",
    "- Set the value of ```pocket``` to be a list consisting of the strings 'seashell', 'strange berry', and 'lint'.\n"
   ]
  },
  {
   "cell_type": "code",
   "execution_count": null,
   "metadata": {},
   "outputs": [],
   "source": []
  },
  {
   "cell_type": "markdown",
   "metadata": {},
   "source": [
    "Follow the steps bellow: \n",
    "\n",
    "-Create a new dictionary called ```prices``` using {} format like the example above.\n",
    "\n",
    "Put these values in your ```prices``` dictionary:\n",
    "```\n",
    "- \"banana\": 4,\n",
    "- \"apple\": 2,\n",
    "- \"orange\": 1.5,\n",
    "- \"pear\": 3\n",
    "```\n",
    "\n",
    "Loop through each key in ```prices```. For each key, print out the key along with its price. Print the answer in the following format:\n",
    "```\n",
    "apple\n",
    "price: 2\n",
    "--------\n",
    "```\n"
   ]
  },
  {
   "cell_type": "code",
   "execution_count": null,
   "metadata": {},
   "outputs": [],
   "source": []
  },
  {
   "cell_type": "markdown",
   "metadata": {},
   "source": [
    "Follow the steps below:\n",
    "- Create a new dictionary ```stock``` using {} format.\n",
    "\n",
    "Put the same keys as above in the dictionary (\"banana\", \"apple\", \"orange\", \"pear\"). This dictionary will store how many fruits there is in stock. Use these as corresponding values:\n",
    "- There is 4 bananas\n",
    "- There is 7 apples\n",
    "- There is 10 oranges\n",
    "- There is only 1 pear\n",
    "\n",
    "Loop through each key in ```stock```. For each key, print out the key along with its stock information. Print the answer in the following format :\n",
    "```\n",
    "apple\n",
    "stock: 7\n",
    "--------\n",
    "```\n"
   ]
  },
  {
   "cell_type": "code",
   "execution_count": null,
   "metadata": {},
   "outputs": [],
   "source": []
  },
  {
   "cell_type": "markdown",
   "metadata": {},
   "source": [
    "Using the ```prices``` and ```stock``` dictionaries defined above, loop thourgh each key (using only 1 ```for``` loop) in ```prices``` and print out the key along its price *and* stock information. (There should not be any KeyError as both dictionaries have the same keys).\n",
    "\n",
    "Print the answer in the following format :\n",
    "\n",
    "```\n",
    "apple\n",
    "price: 2\n",
    "stock: 7\n",
    "--------\n",
    "```"
   ]
  },
  {
   "cell_type": "code",
   "execution_count": null,
   "metadata": {},
   "outputs": [],
   "source": []
  },
  {
   "cell_type": "markdown",
   "metadata": {},
   "source": [
    "Let's determine how much money you would make if you sold all of your food.\n",
    "\n",
    "Create a variable called ```total``` and set it to zero.\n",
    "Loop through the ```prices``` dictionaries. For each key in ```prices```, multiply the number in ```prices``` by the number in ```stock```. Print that value and then add it to ```total```.\n",
    "\n",
    "Finally, outside your loop, print ```total```."
   ]
  },
  {
   "cell_type": "code",
   "execution_count": null,
   "metadata": {},
   "outputs": [],
   "source": []
  },
  {
   "cell_type": "markdown",
   "metadata": {},
   "source": [
    "Follow the steps:\n",
    "\n",
    "First, make a list called groceries with the values \"banana\",\"orange\", and \"apple\".\n",
    "Define this two dictionaries:\n",
    "```\n",
    "stock = {\n",
    "    \"banana\": 6,\n",
    "    \"apple\": 0,\n",
    "    \"orange\": 32,\n",
    "    \"pear\": 15\n",
    "}\n",
    "```\n",
    "\n",
    "\n",
    "```\n",
    "prices = {\n",
    "    \"banana\": 4,\n",
    "    \"apple\": 2,\n",
    "    \"orange\": 1.5,\n",
    "    \"pear\": 3\n",
    "}\n",
    "```\n",
    "Define a function ```compute_bill``` that takes one list argument ```food``` as input (for example, ```list=[\"apple\", \"orange\", \"orange\", \"pear\"]```). In the function, create a variable ```total``` with an initial value of zero. For each item in the food list, add the price of that item to ```total```. Finally, return the ```total```. Ignore whether or not the item you're billing for is in stock. Note that your function should work for any food list.\n"
   ]
  },
  {
   "cell_type": "code",
   "execution_count": null,
   "metadata": {},
   "outputs": [],
   "source": []
  },
  {
   "cell_type": "markdown",
   "metadata": {},
   "source": [
    "Make the following changes to your ```compute_bill``` function:\n",
    "- While you loop through each item of ```food```, only add the price of the item to ```total``` if the item's stock count is greater than zero.\n",
    "- If the item is in ```stock``` and after you add the price to the total, subtract one from the item's stock count."
   ]
  },
  {
   "cell_type": "code",
   "execution_count": null,
   "metadata": {},
   "outputs": [],
   "source": []
  },
  {
   "cell_type": "markdown",
   "metadata": {},
   "source": [
    "### Random numbers"
   ]
  },
  {
   "cell_type": "markdown",
   "metadata": {},
   "source": [
    "- Import random"
   ]
  },
  {
   "cell_type": "code",
   "execution_count": null,
   "metadata": {},
   "outputs": [],
   "source": []
  },
  {
   "cell_type": "markdown",
   "metadata": {},
   "source": [
    "Generate a roll of dices. "
   ]
  },
  {
   "cell_type": "code",
   "execution_count": null,
   "metadata": {},
   "outputs": [],
   "source": []
  },
  {
   "cell_type": "markdown",
   "metadata": {},
   "source": [
    "Generate a random binary number (random coin flip)"
   ]
  },
  {
   "cell_type": "code",
   "execution_count": null,
   "metadata": {},
   "outputs": [],
   "source": []
  },
  {
   "cell_type": "markdown",
   "metadata": {},
   "source": [
    "Generate a random float number between 0 and 1\n"
   ]
  },
  {
   "cell_type": "code",
   "execution_count": null,
   "metadata": {},
   "outputs": [],
   "source": []
  },
  {
   "cell_type": "markdown",
   "metadata": {},
   "source": [
    "Generate a random selection from a list of three names ```names=[\"Joe\", \"John\", \"Jim\"]```"
   ]
  },
  {
   "cell_type": "code",
   "execution_count": null,
   "metadata": {},
   "outputs": [],
   "source": []
  }
 ],
 "metadata": {
  "colab": {
   "collapsed_sections": [],
   "default_view": {},
   "name": "4_Exercices.ipynb",
   "provenance": [],
   "version": "0.3.2",
   "views": {}
  },
  "kernelspec": {
   "display_name": "Python 3",
   "language": "python",
   "name": "python3"
  },
  "language_info": {
   "codemirror_mode": {
    "name": "ipython",
    "version": 3
   },
   "file_extension": ".py",
   "mimetype": "text/x-python",
   "name": "python",
   "nbconvert_exporter": "python",
   "pygments_lexer": "ipython3",
   "version": "3.6.5"
  }
 },
 "nbformat": 4,
 "nbformat_minor": 1
}
