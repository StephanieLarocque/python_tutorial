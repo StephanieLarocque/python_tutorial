{
 "cells": [
  {
   "cell_type": "markdown",
   "metadata": {
    "colab_type": "text",
    "id": "sM_sjZNr4Dua"
   },
   "source": [
    "# Lecture 4 - Exercices\n",
    "# Topic : Strings and Lists"
   ]
  },
  {
   "cell_type": "markdown",
   "metadata": {
    "colab_type": "text",
    "id": "oLo1NBv54Duc"
   },
   "source": [
    "Write a function that takes a string as an arguments and outputs the characters backwards, one per line."
   ]
  },
  {
   "cell_type": "code",
   "execution_count": null,
   "metadata": {
    "colab": {
     "autoexec": {
      "startup": false,
      "wait_interval": 0
     }
    },
    "colab_type": "code",
    "id": "jMji9u-W4Due"
   },
   "outputs": [],
   "source": []
  },
  {
   "cell_type": "markdown",
   "metadata": {
    "colab_type": "text",
    "id": "AhpscohD4Dul"
   },
   "source": [
    "A palindromic number or a numerical palindrome is a number that remains the same when its digits are reversed. For example 16461 is a palindromic number because you will get the same number where the digits are reversed, on the other hand 12345 is not a palindromic number because reversing the digits give 54321 which is not the same as 12345. Write a python code which determines whether a given number is palindromic or not."
   ]
  },
  {
   "cell_type": "code",
   "execution_count": null,
   "metadata": {},
   "outputs": [],
   "source": []
  },
  {
   "cell_type": "markdown",
   "metadata": {
    "colab": {
     "autoexec": {
      "startup": false,
      "wait_interval": 0
     }
    },
    "colab_type": "code",
    "id": "imltpbBT4Dun"
   },
   "source": [
    "Create a program that takes a string and returns the amount of words and characters contained in that string."
   ]
  },
  {
   "cell_type": "code",
   "execution_count": null,
   "metadata": {},
   "outputs": [],
   "source": [
    "def word_count(text):\n",
    "    # Return the amount of words and characters in the variable text."
   ]
  },
  {
   "cell_type": "markdown",
   "metadata": {
    "colab_type": "text",
    "id": "nk1N--v80NUQ"
   },
   "source": [
    "Write a Python program to check the validity of password input by users. Go to the editor\n",
    "Validation :\n",
    "\n",
    "- At least 1 letter between [a-z] and 1 letter between [A-Z].\n",
    "- At least 1 number between [0-9].\n",
    "- At least 1 character from [$#@].\n",
    "- Minimum length 6 characters.\n",
    "- Maximum length 16 characters."
   ]
  },
  {
   "cell_type": "code",
   "execution_count": null,
   "metadata": {
    "colab": {
     "autoexec": {
      "startup": false,
      "wait_interval": 0
     },
     "base_uri": "https://localhost:8080/",
     "height": 37
    },
    "colab_type": "code",
    "executionInfo": {
     "elapsed": 537,
     "status": "ok",
     "timestamp": 1530632760721,
     "user": {
      "displayName": "Stephanie Larocque",
      "photoUrl": "https://lh3.googleusercontent.com/a/default-user=s128",
      "userId": "104636356411980802491"
     },
     "user_tz": 240
    },
    "id": "pTIQaUKX0NtC",
    "outputId": "16654f34-3dbe-448c-f9df-d3f29b5542cd"
   },
   "outputs": [],
   "source": [
    "# You can verify your answers using these sample passwords\n",
    "password1 = \"Hello\"   #not valid\n",
    "password2 = \"Hello2$\" #valid\n",
    "password3 = \"HelloHelloHello123$#@\" # not valid\n",
    "password4 = \"HelloHello123\" #not valid\n",
    "password5 = \"Hello123!!!!\" #not valid\n",
    "\n",
    "\n",
    "def valid_password(password):\n",
    "    return False"
   ]
  },
  {
   "cell_type": "markdown",
   "metadata": {},
   "source": [
    "Write a Python program to print a specified list after removing the 1st and 3rd and 4th elements (indexes 0, 2 and 3).\n",
    "\n",
    "Sample list: ```['Red', 'Green', 'White', 'Black', 'Blue', 'Yellow']```\n",
    "\n",
    "Expected output: ```['Green', 'Blue', 'Yellow']```"
   ]
  },
  {
   "cell_type": "code",
   "execution_count": null,
   "metadata": {},
   "outputs": [],
   "source": []
  },
  {
   "cell_type": "markdown",
   "metadata": {},
   "source": [
    "Write a Python program to select an item randomly from a list.\n",
    "\n",
    "Hint: use import random and random.choice"
   ]
  },
  {
   "cell_type": "code",
   "execution_count": null,
   "metadata": {},
   "outputs": [],
   "source": [
    "import random\n",
    "def remove_random(list1):\n",
    "    # Use random.choice to remove an item from the list. Use help(random.choice) to see how the function works."
   ]
  },
  {
   "cell_type": "markdown",
   "metadata": {
    "colab_type": "text",
    "id": "OScjEut_4Dut"
   },
   "source": [
    "Complete the following function that adds up all the positive values in a list of integers. For example, if list a contains the elements 3,−3,5,2,−1, and 2, the call sum_positive(a) would evaluate to 12, since 3+5+2+2 = 12. The function returns zero if the list is empty."
   ]
  },
  {
   "cell_type": "code",
   "execution_count": null,
   "metadata": {
    "colab": {
     "autoexec": {
      "startup": false,
      "wait_interval": 0
     }
    },
    "colab_type": "code",
    "id": "Azykr8bT4Duu"
   },
   "outputs": [],
   "source": [
    "def sum_positive(a):\n",
    "    # Add your code..."
   ]
  },
  {
   "cell_type": "markdown",
   "metadata": {
    "colab_type": "text",
    "id": "ZQacwYqZ4Dux"
   },
   "source": [
    "Complete the following function that counts the even numbers in a list of integers. For example, if\n",
    "list a contains the elements 3,5,2,−1, and 2, the call count_evens(a) would evaluate to 4, since\n",
    "2+2 = 4. The function returns zero if the list is empty. The function does not affect the contents of\n",
    "the list."
   ]
  },
  {
   "cell_type": "code",
   "execution_count": null,
   "metadata": {
    "colab": {
     "autoexec": {
      "startup": false,
      "wait_interval": 0
     }
    },
    "colab_type": "code",
    "id": "u3vvqHtB4Duy",
    "outputId": "bd757048-17a6-4a24-da49-4de37f482a5b"
   },
   "outputs": [],
   "source": [
    "def count_evens(a):\n",
    "    # Add your code..."
   ]
  },
  {
   "cell_type": "markdown",
   "metadata": {},
   "source": [
    "Write a Python program to replace the last element in a list with another list.\n",
    "\n",
    "Sample data: ```[1, 3, 5, 7, 0, 10], [2, 4, 6, 8]```\n",
    "\n",
    "Expected output: ```[1, 3, 5, 7, 9, [2, 4, 6, 8]]```"
   ]
  },
  {
   "cell_type": "code",
   "execution_count": null,
   "metadata": {},
   "outputs": [],
   "source": [
    "def replace_last_element(list1, list2):\n",
    "    # Write the code to replace last element of list1 with list2"
   ]
  },
  {
   "cell_type": "markdown",
   "metadata": {},
   "source": [
    "Write a Python program to replace to add elements of a second list after elements of the first list.\n",
    "\n",
    "Sample data: ```[1, 3, 5, 7, 0, 10], [2, 4, 6, 8]```\n",
    "\n",
    "Expected output: ```[1, 3, 5, 7, 9, 10, 2, 4, 6, 8]```\n",
    "\n",
    "Hint: use append function of the list. For more information, use help([].append)."
   ]
  },
  {
   "cell_type": "code",
   "execution_count": null,
   "metadata": {},
   "outputs": [],
   "source": [
    "def append_list(list1, list2):\n",
    "    # Write the code to add items from list2 to the end of list1"
   ]
  },
  {
   "cell_type": "markdown",
   "metadata": {},
   "source": [
    "Write a Python function that takes a list and returns a new list with unique elements of the first list."
   ]
  },
  {
   "cell_type": "code",
   "execution_count": null,
   "metadata": {},
   "outputs": [],
   "source": [
    "def unique_elements(list1):\n",
    "    # Write code to return a list of unique elements in a given list."
   ]
  },
  {
   "cell_type": "markdown",
   "metadata": {
    "colab_type": "text",
    "id": "jtuuXfvp4Du2"
   },
   "source": [
    "Write a function named *print_big_enough* that accepts two parameters, a list of numbers and a number. The function should print, in order, all the elements in the list that are at least as large as the\n",
    "second parameter."
   ]
  },
  {
   "cell_type": "code",
   "execution_count": null,
   "metadata": {
    "colab": {
     "autoexec": {
      "startup": false,
      "wait_interval": 0
     }
    },
    "colab_type": "code",
    "id": "6wjHUclH4Du4"
   },
   "outputs": [],
   "source": []
  },
  {
   "cell_type": "markdown",
   "metadata": {
    "colab_type": "text",
    "id": "sx14FnvO4Du7"
   },
   "source": [
    "Write a function named *reverse* that reorders the contents of a list so they are reversed from their original order. a is a list. Note that your function must physically rearrange the elements within the list, not just print the elements in reverse order."
   ]
  },
  {
   "cell_type": "code",
   "execution_count": null,
   "metadata": {
    "colab": {
     "autoexec": {
      "startup": false,
      "wait_interval": 0
     }
    },
    "colab_type": "code",
    "id": "wHpwk0Du4Du7"
   },
   "outputs": [],
   "source": []
  },
  {
   "cell_type": "markdown",
   "metadata": {},
   "source": [
    "Write a function that takes a list of numbers and adds their sum in the end of the list."
   ]
  },
  {
   "cell_type": "code",
   "execution_count": null,
   "metadata": {},
   "outputs": [],
   "source": [
    "def add(list1):\n",
    "    # Write a function to add the sum of the existing items as the last item in the list."
   ]
  },
  {
   "cell_type": "markdown",
   "metadata": {},
   "source": [
    "Write a function that takes a list of integers and removes all odd numbers from the list."
   ]
  },
  {
   "cell_type": "code",
   "execution_count": null,
   "metadata": {},
   "outputs": [],
   "source": [
    "def filter_odd(list1):\n",
    "    # Write a function that removes odd numbers from the list."
   ]
  },
  {
   "cell_type": "markdown",
   "metadata": {
    "colab_type": "text",
    "id": "Gl1VTO8y4Du_"
   },
   "source": [
    "How can you represent a matrix in python?"
   ]
  },
  {
   "cell_type": "code",
   "execution_count": null,
   "metadata": {
    "colab": {
     "autoexec": {
      "startup": false,
      "wait_interval": 0
     }
    },
    "colab_type": "code",
    "id": "J0Pa_VBg4DvA"
   },
   "outputs": [],
   "source": []
  },
  {
   "cell_type": "markdown",
   "metadata": {
    "colab_type": "text",
    "id": "U3dNZbhp4DvE"
   },
   "source": [
    "Write a python program to find the trace of any square matrix. The trace is the sum of numbers on the main diagonal."
   ]
  },
  {
   "cell_type": "code",
   "execution_count": null,
   "metadata": {
    "colab": {
     "autoexec": {
      "startup": false,
      "wait_interval": 0
     }
    },
    "colab_type": "code",
    "id": "jAdBrIMb4DvF"
   },
   "outputs": [],
   "source": []
  },
  {
   "cell_type": "markdown",
   "metadata": {
    "colab_type": "text",
    "id": "NNZlr_LX4DvH"
   },
   "source": [
    "Using list comprehensions in python, \n",
    "- generate and print the list of even numbers less than 300\n",
    "- generate and print the list of odd numbers less that 300\n",
    "- generate a list of multiples of 3 which are less than 300\n",
    "- generate a list of common multiples of 3 and 4 which are less than 500"
   ]
  },
  {
   "cell_type": "code",
   "execution_count": null,
   "metadata": {
    "colab": {
     "autoexec": {
      "startup": false,
      "wait_interval": 0
     }
    },
    "colab_type": "code",
    "id": "57febFaz4DvI"
   },
   "outputs": [],
   "source": []
  },
  {
   "cell_type": "markdown",
   "metadata": {},
   "source": [
    "Write a Python program that takes a list of numbers and changes each number to its square (power to 2)."
   ]
  },
  {
   "cell_type": "code",
   "execution_count": null,
   "metadata": {},
   "outputs": [],
   "source": [
    "def square_list(list1):\n",
    "    # Write a code to square numbers inside a list."
   ]
  },
  {
   "cell_type": "markdown",
   "metadata": {
    "colab_type": "text",
    "id": "8htup14TZS3L"
   },
   "source": [
    "Game Preferences\n",
    "\n",
    "1- Make a list that includes 3 or 4 games that you like to play.\n",
    "\n",
    "2- Print a statement that tells the user what games you like.\n",
    "\n",
    "3- Ask the user to tell you a game they like, and store the game in a variable such as ```\n",
    "new_game ```\n",
    "\n",
    "4- Add the user's game to your list.\n",
    "\n",
    "5- Print a new statement that lists all of the games that we like to play (we means you and your user)."
   ]
  },
  {
   "cell_type": "code",
   "execution_count": null,
   "metadata": {
    "colab": {
     "autoexec": {
      "startup": false,
      "wait_interval": 0
     }
    },
    "colab_type": "code",
    "id": "V39ODS5X4DvK"
   },
   "outputs": [],
   "source": []
  },
  {
   "cell_type": "markdown",
   "metadata": {
    "colab_type": "text",
    "id": "yEo6v4kg4DvN"
   },
   "source": [
    "Create a list, using list comprehension, that contains all the integers from 2 to 100 that can be exactly divided by 4."
   ]
  },
  {
   "cell_type": "code",
   "execution_count": null,
   "metadata": {
    "colab": {
     "autoexec": {
      "startup": false,
      "wait_interval": 0
     }
    },
    "colab_type": "code",
    "id": "yX_qiHUO4DvO"
   },
   "outputs": [],
   "source": []
  },
  {
   "cell_type": "markdown",
   "metadata": {},
   "source": [
    "Given a list containing numbers and strings, use list comprehension to return a list containing only numbers in the list.\n",
    "\n",
    "Sample input : ```lst = [1, \"hi\", 3.5, \"tuesday\", 4.5, 1000]```\n",
    "\n",
    "Output : ```[1,  3.5, 4.5, 1000]```"
   ]
  },
  {
   "cell_type": "code",
   "execution_count": null,
   "metadata": {},
   "outputs": [],
   "source": [
    "def only_numbers(list1):\n",
    "    # Use list comprehension to return only numbers contained in the list."
   ]
  },
  {
   "cell_type": "markdown",
   "metadata": {},
   "source": [
    "Given the list lst = [10, -4, 11, 29].\n",
    "- What expression represents the very first element of $lst$?\n",
    "- What expression represents the very last element of $lst$?\n",
    "- What is $lst$[0]?\n",
    "- What is $lst$[3]?\n",
    "- What is $lst$[-1]?\n",
    "- What is $lst$[-4]?\n",
    "- What is $lst$[1:3]?\n",
    "- What is $lst$[0:2]?\n",
    "- What is $lst$[-3:-1]?\n",
    "- Is $lst$[3.0] is legal or illegal?"
   ]
  },
  {
   "cell_type": "code",
   "execution_count": null,
   "metadata": {},
   "outputs": [],
   "source": []
  }
 ],
 "metadata": {
  "colab": {
   "collapsed_sections": [],
   "default_view": {},
   "name": "4_Exercices.ipynb",
   "provenance": [],
   "version": "0.3.2",
   "views": {}
  },
  "kernelspec": {
   "display_name": "Python 3",
   "language": "python",
   "name": "python3"
  },
  "language_info": {
   "codemirror_mode": {
    "name": "ipython",
    "version": 3
   },
   "file_extension": ".py",
   "mimetype": "text/x-python",
   "name": "python",
   "nbconvert_exporter": "python",
   "pygments_lexer": "ipython3",
   "version": "3.6.5"
  }
 },
 "nbformat": 4,
 "nbformat_minor": 1
}
