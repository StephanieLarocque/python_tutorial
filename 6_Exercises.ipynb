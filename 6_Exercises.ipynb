{
 "cells": [
  {
   "cell_type": "markdown",
   "metadata": {
    "colab_type": "text",
    "id": "z0n6d-irgUdo"
   },
   "source": [
    "# Lecture 6 - Exercises\n",
    "# Topic - Classes"
   ]
  },
  {
   "cell_type": "markdown",
   "metadata": {
    "colab_type": "text",
    "id": "ndLqYP8sgUdt"
   },
   "source": [
    "## Solids "
   ]
  },
  {
   "cell_type": "markdown",
   "metadata": {
    "colab_type": "text",
    "id": "ucybEA-3gUdw"
   },
   "source": [
    "Write a class named ```Rectangle``` that takes ```width``` and ```length``` in the constructor and store it as instance attributes. Write two methods ```area``` and ```perimeter``` that respectively computes the area and perimeter of the rectangle.\n",
    "\n",
    "Recall that area = width\\*length and perimeter = 2\\*(width + length)"
   ]
  },
  {
   "cell_type": "code",
   "execution_count": 0,
   "metadata": {
    "colab": {
     "autoexec": {
      "startup": false,
      "wait_interval": 0
     }
    },
    "colab_type": "code",
    "id": "H52DTvfUgUdz"
   },
   "outputs": [],
   "source": [
    "class Rectangle():\n",
    "    \n",
    "    def __init__(self, width, length):\n",
    "        # Store width and length as instance attributes\n",
    "        self.width = width\n",
    "        self.length = length\n",
    "        pass\n",
    "    \n",
    "    def area(self):\n",
    "        # Return the area of the rectangle\n",
    "        return \n",
    "    \n",
    "    def perimeter(self):\n",
    "        # Return the volume of the rectangle\n",
    "        return "
   ]
  },
  {
   "cell_type": "code",
   "execution_count": 0,
   "metadata": {
    "colab": {
     "autoexec": {
      "startup": false,
      "wait_interval": 0
     }
    },
    "colab_type": "code",
    "id": "XPSLxmzMgUd6"
   },
   "outputs": [],
   "source": [
    "# This should not yield any error\n",
    "\n",
    "rec = Rectangle(10, 12)\n",
    "\n",
    "print(\"Width :\", rec.width, \"Length :\", rec.length)\n",
    "print(\"Area is\", rec.area())\n",
    "print(\"Perimeter is\", rec.perimeter())"
   ]
  },
  {
   "cell_type": "markdown",
   "metadata": {
    "colab_type": "text",
    "id": "K4PrFknegUd-"
   },
   "source": [
    "Write a class named ```Cube``` that takes ```edge``` in the constructor and store it as instance attribute. Write two methods ```area``` and ```volume``` that respectively computes the area and perimeter of the cube.\n",
    "\n",
    "HINT : You can use the area and volume functions you wrote in lecture 3"
   ]
  },
  {
   "cell_type": "code",
   "execution_count": 0,
   "metadata": {
    "colab": {
     "autoexec": {
      "startup": false,
      "wait_interval": 0
     }
    },
    "colab_type": "code",
    "id": "nX96CMSmgUeA"
   },
   "outputs": [],
   "source": [
    "class Cube():\n",
    "    \n",
    "    def __init__(self, edge):\n",
    "        pass\n",
    "    \n",
    "    def area():\n",
    "        pass\n",
    "    \n",
    "    def volume():\n",
    "        pass"
   ]
  },
  {
   "cell_type": "code",
   "execution_count": 0,
   "metadata": {
    "colab": {
     "autoexec": {
      "startup": false,
      "wait_interval": 0
     }
    },
    "colab_type": "code",
    "id": "gyl4x9nwgUeD"
   },
   "outputs": [],
   "source": [
    "c = Cube(5)\n",
    "\n",
    "print(\"Edge is\", c.edge)\n",
    "print(\"Area is\", c.area())\n",
    "print(\"Perimeter is\", c.perimeter())"
   ]
  },
  {
   "cell_type": "markdown",
   "metadata": {
    "colab_type": "text",
    "id": "KvyOLMlpgUeI"
   },
   "source": [
    "Write a class named ```Cylinder``` that takes ```radius``` and ```height``` in the constructor and store it as instance attributes. Write two methods ```area``` and ```volume``` that respectively computes the area and perimeter of the cylinder.\n",
    "\n",
    "HINT : You can use the area and volume functions you wrote in lecture 3"
   ]
  },
  {
   "cell_type": "code",
   "execution_count": 0,
   "metadata": {
    "colab": {
     "autoexec": {
      "startup": false,
      "wait_interval": 0
     }
    },
    "colab_type": "code",
    "id": "mpEJVxsrgUeJ"
   },
   "outputs": [],
   "source": [
    "class Cylinder():\n",
    "    \n",
    "    def __init__(self, radius, height):\n",
    "        #Complete the constructor\n",
    "        pass\n",
    "    \n",
    "    # Add the area and volume methods"
   ]
  },
  {
   "cell_type": "code",
   "execution_count": 0,
   "metadata": {
    "colab": {
     "autoexec": {
      "startup": false,
      "wait_interval": 0
     }
    },
    "colab_type": "code",
    "id": "tfgkWK3JgUeN"
   },
   "outputs": [],
   "source": [
    "cyl = Cylinder(5)\n",
    "\n",
    "print(\"Radius is\", cyl.radius, \"Height is\", cyl.height)\n",
    "print(\"Area is\", cyl.area())\n",
    "print(\"Perimeter is\", cyl.perimeter())"
   ]
  },
  {
   "cell_type": "markdown",
   "metadata": {
    "colab_type": "text",
    "id": "lGufmCOsgUeR"
   },
   "source": [
    "Write a class named ```Sphere``` that takes ```radius``` in the constructor and store it as instance attributes. Write two methods ```area``` and ```volume``` that respectively computes the area and perimeter of the sphere.\n",
    "\n",
    "HINT : You can use the area and volume functions you wrote in lecture 3"
   ]
  },
  {
   "cell_type": "code",
   "execution_count": 0,
   "metadata": {
    "colab": {
     "autoexec": {
      "startup": false,
      "wait_interval": 0
     }
    },
    "colab_type": "code",
    "id": "0IGP3abmgUeS"
   },
   "outputs": [],
   "source": [
    "class Sphere():\n",
    "    pass\n",
    "    # constructor\n",
    "    \n",
    "    # area method\n",
    "    \n",
    "    # volume method"
   ]
  },
  {
   "cell_type": "code",
   "execution_count": 0,
   "metadata": {
    "colab": {
     "autoexec": {
      "startup": false,
      "wait_interval": 0
     }
    },
    "colab_type": "code",
    "id": "Wb_ipch6gUeW"
   },
   "outputs": [],
   "source": [
    "s = Sphere(2)\n",
    "\n",
    "print(\"Radius is\", s.radius)\n",
    "print(\"Area is\", s.area())\n",
    "print(\"Perimeter is\", s.perimeter())"
   ]
  },
  {
   "cell_type": "markdown",
   "metadata": {
    "colab_type": "text",
    "id": "d6Z02jn_gUeZ"
   },
   "source": [
    "Write a class named ```Cone``` that takes ```radius```, ```slant_height``` and ```heigth``` in the constructor and store it as instance attributes. Write two methods ```area``` and ```volume``` that respectively computes the area and perimeter of the cylinder.\n",
    "\n",
    "HINT : You can use the area and volume functions you wrote in lecture 3"
   ]
  },
  {
   "cell_type": "code",
   "execution_count": 0,
   "metadata": {
    "colab": {
     "autoexec": {
      "startup": false,
      "wait_interval": 0
     }
    },
    "colab_type": "code",
    "id": "5J4_3PyqgUeb"
   },
   "outputs": [],
   "source": [
    "# Define your class here"
   ]
  },
  {
   "cell_type": "code",
   "execution_count": 0,
   "metadata": {
    "colab": {
     "autoexec": {
      "startup": false,
      "wait_interval": 0
     }
    },
    "colab_type": "code",
    "id": "WdeuZA2_gUed"
   },
   "outputs": [],
   "source": [
    "c = Cone(radius = 3, slant = 5, height = 4)\n",
    "\n",
    "print(\"Radius is\", c.radius, \"Height is\", c.height, \"Slant height is\", c.slant)\n",
    "print(\"Area is\", c.area())\n",
    "print(\"Perimeter is\", c.perimeter())"
   ]
  },
  {
   "cell_type": "markdown",
   "metadata": {
    "colab_type": "text",
    "id": "zeSwAvsKgUef"
   },
   "source": [
    "Write a class named ```Pyramid``` that takes ```base``` (side length) and ```slant_height``` in the constructor and store it as instance attributes. Write two methods ```area``` and ```volume``` that respectively computes the area and perimeter of the pyramid.\n",
    "\n",
    "HINT : You can use the area and volume functions you wrote in lecture 3"
   ]
  },
  {
   "cell_type": "code",
   "execution_count": 0,
   "metadata": {
    "colab": {
     "autoexec": {
      "startup": false,
      "wait_interval": 0
     }
    },
    "colab_type": "code",
    "id": "7aiEXoeZgUeg"
   },
   "outputs": [],
   "source": [
    "# Define your class here"
   ]
  },
  {
   "cell_type": "code",
   "execution_count": 0,
   "metadata": {
    "colab": {
     "autoexec": {
      "startup": false,
      "wait_interval": 0
     }
    },
    "colab_type": "code",
    "id": "O51Ja_9TgUei"
   },
   "outputs": [],
   "source": [
    "# Instantiate an object and test your methods"
   ]
  },
  {
   "cell_type": "code",
   "execution_count": null,
   "metadata": {},
   "outputs": [],
   "source": []
  },
  {
   "cell_type": "markdown",
   "metadata": {},
   "source": [
    "## Other exercise"
   ]
  },
  {
   "cell_type": "markdown",
   "metadata": {},
   "source": [
    "Follow the steps:\n",
    "\n",
    "- Create a class, ```Triangle```. Its ```__init__()``` method should take ```self```, ```angle1```, ```angle2```, and ```angle3``` as arguments. Make sure to set these appropriately in the body of the ```__init__()``` method.\n",
    "- Create a variable named ```number_of_sides``` in the constructor and set it equal to 3.\n",
    "- Create a method named ```check_angles```. The sum of a triangle's three angles is 180. It should return True if the sum of ```self.angle1```, ```self.angle2```, and ```self.angle3``` is equal 180, and False otherwise.\n",
    "- Create a variable named ```my_triangle``` and set it equal to a new instance of your ```Triangle``` class. Pass it three angles that sum to 180 (e.g. 90, 30, 60).\n",
    "- Print out ```my_triangle.number_of_sides``` and print out ```my_triangle.check_angles()```."
   ]
  },
  {
   "cell_type": "code",
   "execution_count": null,
   "metadata": {},
   "outputs": [],
   "source": []
  },
  {
   "cell_type": "code",
   "execution_count": null,
   "metadata": {},
   "outputs": [],
   "source": []
  },
  {
   "cell_type": "markdown",
   "metadata": {
    "colab_type": "text",
    "id": "Z4s_YYmIgUeo"
   },
   "source": [
    "## Player Class (extra material)"
   ]
  },
  {
   "cell_type": "markdown",
   "metadata": {
    "colab_type": "text",
    "id": "WFKrAp7fgUep"
   },
   "source": [
    "Define a *Player* class. Define the following methods step by step and always verify your functions before going on the next step. You can use the ```print``` function to debug.\n",
    "\n",
    "- The constructor must take the following parameters and store them as object attribute :\n",
    "    1. a string ```name```\n",
    "    2. an integer ```health``` that indicates the number of lives he has (must be >0)\n",
    "    3. an integer ```strength``` that indicates the power of its attack over other players (between 1 and 10)\n",
    "\n",
    "\n",
    "- Define a method named ```is_alive``` that returns a boolean ```True``` if the player is alive (health>0) or ```False``` if the player is dead (health = 0).\n",
    "\n",
    "\n",
    "- Define a method named ```increase_strength``` that increase the ```strength``` of the player of 1 point (for a maximum of 10 points of strength) if the player is able to predict the outcome of a dice roll. Use ```input``` to ask the user to give the result of a dice roll (1, 2, 3, 4, 5 or 6) and then compare it to a random integer between 1, 2, 3, 4, 5 and 6.\n",
    "\n",
    "HINT1 : Remember that ```input``` gives a *string*. If you want to compare it with a number, don't forget to cast it. \n",
    "\n",
    "HINT2 : Use the function ```random.randint(1,6)``` to simulate a random roll dice.\n",
    "\n",
    "\n",
    "- Define a method named ```gain_life``` that increase the ```health``` of the player of 1 point if a random integer picked between 1 and 100 is greater than 80. Otherwise, don't change its health. \n",
    "\n",
    "HINT : Use the function ```random.randint(1,100)``` to draw a random integer. \n",
    "\n",
    "- Define a method named ```attack``` that takes a second player (named ```other_player```) as argument. Our player (the ```self``` player) should attack the second player and remove ```self.strength``` lives from ```other_player.health```. The other player's health should not be below 0.\n"
   ]
  },
  {
   "cell_type": "code",
   "execution_count": 0,
   "metadata": {
    "colab": {
     "autoexec": {
      "startup": false,
      "wait_interval": 0
     }
    },
    "colab_type": "code",
    "id": "1UdMfGhRgUeq"
   },
   "outputs": [],
   "source": [
    "# Needed to use the random.randint() function\n",
    "import random"
   ]
  },
  {
   "cell_type": "code",
   "execution_count": 0,
   "metadata": {
    "colab": {
     "autoexec": {
      "startup": false,
      "wait_interval": 0
     }
    },
    "colab_type": "code",
    "id": "bC8holU4gUet"
   },
   "outputs": [],
   "source": [
    "class Player():\n",
    "    \n",
    "    # Constructor. Follow the instructions above for the parameters\n",
    "    def __init__():\n",
    "        pass\n",
    "    \n",
    "    \n",
    "    # The __str__ function allows to beautifully print the player\n",
    "    # You don't need to change anything in this function\n",
    "    def __str__(self):\n",
    "        return \"My name is \" + self.name + \". I have \" + str(self.health) + \" lives and my strength is \" + str(self.strength)\n",
    "    \n",
    "    \n",
    "    \n",
    "    # Define the other methods here"
   ]
  },
  {
   "cell_type": "markdown",
   "metadata": {},
   "source": [
    "The following cells should all work without error once the Player Class will be done. While doing it, you will be able to run the cells below (starting at the top one)."
   ]
  },
  {
   "cell_type": "code",
   "execution_count": 0,
   "metadata": {
    "colab": {
     "autoexec": {
      "startup": false,
      "wait_interval": 0
     }
    },
    "colab_type": "code",
    "id": "YXNvNtcMgUew"
   },
   "outputs": [],
   "source": [
    "# Define 2 players here\n",
    "player1 = Player(name = \"CoolPlayer\", health = 12, strength = 3)\n",
    "player2 = # here"
   ]
  },
  {
   "cell_type": "code",
   "execution_count": 0,
   "metadata": {
    "colab": {
     "autoexec": {
      "startup": false,
      "wait_interval": 0
     }
    },
    "colab_type": "code",
    "id": "QaFUP9nigUez"
   },
   "outputs": [],
   "source": [
    "# Test the print function\n",
    "print(player1)\n",
    "print(player2)"
   ]
  },
  {
   "cell_type": "code",
   "execution_count": 0,
   "metadata": {
    "colab": {
     "autoexec": {
      "startup": false,
      "wait_interval": 0
     }
    },
    "colab_type": "code",
    "id": "1oStJz0QgUe2"
   },
   "outputs": [],
   "source": [
    "# Test the is_alive method for player 1\n",
    "print(player1.is_alive())\n",
    "\n",
    "#Test the is_alive method for player 2\n",
    "print(player2.is_alive())"
   ]
  },
  {
   "cell_type": "code",
   "execution_count": 0,
   "metadata": {
    "colab": {
     "autoexec": {
      "startup": false,
      "wait_interval": 0
     }
    },
    "colab_type": "code",
    "id": "83Xq0OBTgUe4"
   },
   "outputs": [],
   "source": [
    "# Test the increase_strength for both players\n",
    "print(player1)\n",
    "player1.increase_strength()\n",
    "print(player1)\n",
    "\n",
    "print(player2)\n",
    "player2.increase_strength()\n",
    "print(player2)"
   ]
  },
  {
   "cell_type": "code",
   "execution_count": 0,
   "metadata": {
    "colab": {
     "autoexec": {
      "startup": false,
      "wait_interval": 0
     }
    },
    "colab_type": "code",
    "id": "5AwKX0aggUe6"
   },
   "outputs": [],
   "source": [
    "# Test the gain_life for both players\n",
    "print(player1)\n",
    "player1.gain_life()\n",
    "print(player1)\n",
    "\n",
    "print(player2)\n",
    "player2.gain_life()\n",
    "print(player2)"
   ]
  },
  {
   "cell_type": "code",
   "execution_count": 0,
   "metadata": {
    "colab": {
     "autoexec": {
      "startup": false,
      "wait_interval": 0
     }
    },
    "colab_type": "code",
    "id": "soOv3ozTgUe-"
   },
   "outputs": [],
   "source": [
    "# Test the attack for both players\n",
    "print(player1)\n",
    "print(player2)\n",
    "print(player1.name, \"attacks\", player2.name)\n",
    "\n",
    "player1.attack(player2)\n",
    "\n",
    "print(player1)\n",
    "print(player2)"
   ]
  },
  {
   "cell_type": "code",
   "execution_count": 0,
   "metadata": {
    "colab": {
     "autoexec": {
      "startup": false,
      "wait_interval": 0
     }
    },
    "colab_type": "code",
    "id": "8UyN2HvNgUfD"
   },
   "outputs": [],
   "source": []
  }
 ],
 "metadata": {
  "colab": {
   "collapsed_sections": [],
   "default_view": {},
   "name": "6_Exercices.ipynb",
   "provenance": [],
   "version": "0.3.2",
   "views": {}
  },
  "kernelspec": {
   "display_name": "Python 3",
   "language": "python",
   "name": "python3"
  },
  "language_info": {
   "codemirror_mode": {
    "name": "ipython",
    "version": 3
   },
   "file_extension": ".py",
   "mimetype": "text/x-python",
   "name": "python",
   "nbconvert_exporter": "python",
   "pygments_lexer": "ipython3",
   "version": "3.6.5"
  }
 },
 "nbformat": 4,
 "nbformat_minor": 1
}
