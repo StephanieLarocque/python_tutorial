{
 "cells": [
  {
   "cell_type": "markdown",
   "metadata": {
    "colab_type": "text",
    "id": "wr1CS-bUMXCW"
   },
   "source": [
    "# Lecture 1 - Theory\n",
    "\n",
    "# Topic : Variables, Types, Basic Arithmetics Operators"
   ]
  },
  {
   "cell_type": "markdown",
   "metadata": {},
   "source": [
    "- To skip a line, press Enter\n",
    "- To run a cell, press Shift + Enter\n",
    "- To change the cell type, press Cell\\Cell Type\\ [Markdown/code/etc]\n"
   ]
  },
  {
   "cell_type": "markdown",
   "metadata": {
    "colab_type": "text",
    "id": "5WVeAT8wMXCa"
   },
   "source": [
    "## Variables"
   ]
  },
  {
   "cell_type": "markdown",
   "metadata": {
    "colab_type": "text",
    "id": "zcBAgw9EMXCc"
   },
   "source": [
    "\n",
    "\n",
    "When we assign variables, we use the = symbol. The name of the variable goes to the left while the value of it goes to the right. A variable can have a short name (for example a, b, c, x or y) or a more descriptive name (age, carname, total_volume). Rules for Python variables:\n",
    "- A variable name must start with a letter or the underscore character\n",
    "- A variable name cannot start with a number\n",
    "- A variable name can only contain alpha-numeric characters and underscores (A-z, 0-9, and _ )\n",
    "- Variable names are case-sensitive (age, Age and AGE are three different variables)"
   ]
  },
  {
   "cell_type": "code",
   "execution_count": 1,
   "metadata": {
    "colab": {
     "autoexec": {
      "startup": false,
      "wait_interval": 0
     },
     "base_uri": "https://localhost:8080/",
     "height": 35
    },
    "colab_type": "code",
    "executionInfo": {
     "elapsed": 3139,
     "status": "ok",
     "timestamp": 1531758451796,
     "user": {
      "displayName": "Simon Guiroy",
      "photoUrl": "//lh4.googleusercontent.com/-JA1Do3Su2d4/AAAAAAAAAAI/AAAAAAAAAdE/LzdgJ0kR1Dw/s50-c-k-no/photo.jpg",
      "userId": "112028306624519358161"
     },
     "user_tz": 0
    },
    "id": "QJWlWqZa1487",
    "outputId": "5898397b-b989-4f81-9610-1b0f947712b9"
   },
   "outputs": [
    {
     "name": "stdout",
     "output_type": "stream",
     "text": [
      "Variable a is : 1\n"
     ]
    }
   ],
   "source": [
    "# Means that variable a contains the integer 1\n",
    "# <--- This means that the following line is a comment\n",
    "\n",
    "\n",
    "a = 1 \n",
    "print(\"Variable a is :\", a) #Print result"
   ]
  },
  {
   "cell_type": "code",
   "execution_count": 2,
   "metadata": {
    "colab": {
     "autoexec": {
      "startup": false,
      "wait_interval": 0
     },
     "base_uri": "https://localhost:8080/",
     "height": 35
    },
    "colab_type": "code",
    "executionInfo": {
     "elapsed": 773,
     "status": "ok",
     "timestamp": 1531758490667,
     "user": {
      "displayName": "Simon Guiroy",
      "photoUrl": "//lh4.googleusercontent.com/-JA1Do3Su2d4/AAAAAAAAAAI/AAAAAAAAAdE/LzdgJ0kR1Dw/s50-c-k-no/photo.jpg",
      "userId": "112028306624519358161"
     },
     "user_tz": 0
    },
    "id": "jIVRj5iw15IB",
    "outputId": "55ed2a07-8545-49dd-9082-927fb6c3e3eb"
   },
   "outputs": [
    {
     "name": "stdout",
     "output_type": "stream",
     "text": [
      "Variable b is : 3.5\n"
     ]
    }
   ],
   "source": [
    "# Means that variable b contains the number 3.5\n",
    "b = 3.5 \n",
    "print(\"Variable b is :\", b)"
   ]
  },
  {
   "cell_type": "code",
   "execution_count": 3,
   "metadata": {
    "colab": {
     "autoexec": {
      "startup": false,
      "wait_interval": 0
     },
     "base_uri": "https://localhost:8080/",
     "height": 52
    },
    "colab_type": "code",
    "executionInfo": {
     "elapsed": 920,
     "status": "ok",
     "timestamp": 1531758542376,
     "user": {
      "displayName": "Simon Guiroy",
      "photoUrl": "//lh4.googleusercontent.com/-JA1Do3Su2d4/AAAAAAAAAAI/AAAAAAAAAdE/LzdgJ0kR1Dw/s50-c-k-no/photo.jpg",
      "userId": "112028306624519358161"
     },
     "user_tz": 0
    },
    "id": "R2twUw6qMXCd",
    "outputId": "a8970ac1-39ee-4081-903f-bcb47fbc17f4"
   },
   "outputs": [
    {
     "name": "stdout",
     "output_type": "stream",
     "text": [
      "Variable c is : Hello everyone!\n",
      "Hello everyone\n"
     ]
    }
   ],
   "source": [
    "# Means that variable contains the sentence (string) \"Hello everyone!\"\n",
    "c = \"Hello everyone!\" \n",
    "print (\"Variable c is :\", c)\n",
    "print (\"Hello\" + \" \" + \"everyone\")"
   ]
  },
  {
   "cell_type": "markdown",
   "metadata": {
    "colab_type": "text",
    "id": "onKx-P-7MXCr"
   },
   "source": [
    "It is allowed to change the value of a variable by re-assigning it:"
   ]
  },
  {
   "cell_type": "code",
   "execution_count": 4,
   "metadata": {
    "colab": {
     "autoexec": {
      "startup": false,
      "wait_interval": 0
     },
     "base_uri": "https://localhost:8080/",
     "height": 35
    },
    "colab_type": "code",
    "executionInfo": {
     "elapsed": 752,
     "status": "ok",
     "timestamp": 1531745641161,
     "user": {
      "displayName": "Simon Guiroy",
      "photoUrl": "//lh4.googleusercontent.com/-JA1Do3Su2d4/AAAAAAAAAAI/AAAAAAAAAdE/LzdgJ0kR1Dw/s50-c-k-no/photo.jpg",
      "userId": "112028306624519358161"
     },
     "user_tz": 0
    },
    "id": "QE6aZDKlJ2Jc",
    "outputId": "6669731e-b3a2-4499-d2d6-341981742076"
   },
   "outputs": [
    {
     "name": "stdout",
     "output_type": "stream",
     "text": [
      "2\n"
     ]
    }
   ],
   "source": [
    "a = 2\n",
    "print (a)"
   ]
  },
  {
   "cell_type": "code",
   "execution_count": 5,
   "metadata": {
    "colab": {
     "autoexec": {
      "startup": false,
      "wait_interval": 0
     },
     "base_uri": "https://localhost:8080/",
     "height": 35
    },
    "colab_type": "code",
    "executionInfo": {
     "elapsed": 3111,
     "status": "ok",
     "timestamp": 1531745907967,
     "user": {
      "displayName": "Simon Guiroy",
      "photoUrl": "//lh4.googleusercontent.com/-JA1Do3Su2d4/AAAAAAAAAAI/AAAAAAAAAdE/LzdgJ0kR1Dw/s50-c-k-no/photo.jpg",
      "userId": "112028306624519358161"
     },
     "user_tz": 0
    },
    "id": "C4OPTpa9MXCt",
    "outputId": "8415d47b-ed6d-4413-97de-dfd651931aba"
   },
   "outputs": [
    {
     "name": "stdout",
     "output_type": "stream",
     "text": [
      "var1 is : 5\n"
     ]
    }
   ],
   "source": [
    "var1 = 5\n",
    "print(\"var1 is :\", var1)"
   ]
  },
  {
   "cell_type": "code",
   "execution_count": 6,
   "metadata": {
    "colab": {
     "autoexec": {
      "startup": false,
      "wait_interval": 0
     },
     "base_uri": "https://localhost:8080/",
     "height": 35
    },
    "colab_type": "code",
    "executionInfo": {
     "elapsed": 769,
     "status": "ok",
     "timestamp": 1531745929506,
     "user": {
      "displayName": "Simon Guiroy",
      "photoUrl": "//lh4.googleusercontent.com/-JA1Do3Su2d4/AAAAAAAAAAI/AAAAAAAAAdE/LzdgJ0kR1Dw/s50-c-k-no/photo.jpg",
      "userId": "112028306624519358161"
     },
     "user_tz": 0
    },
    "id": "dnyruQ_WMXC3",
    "outputId": "decfc8b2-081d-4800-d0fd-a238fab5fea8"
   },
   "outputs": [
    {
     "name": "stdout",
     "output_type": "stream",
     "text": [
      "var1 is now : 18\n"
     ]
    }
   ],
   "source": [
    "var1 = 18\n",
    "print(\"var1 is now :\", var1)"
   ]
  },
  {
   "cell_type": "code",
   "execution_count": 7,
   "metadata": {
    "colab": {
     "autoexec": {
      "startup": false,
      "wait_interval": 0
     },
     "base_uri": "https://localhost:8080/",
     "height": 35
    },
    "colab_type": "code",
    "executionInfo": {
     "elapsed": 856,
     "status": "ok",
     "timestamp": 1531745935639,
     "user": {
      "displayName": "Simon Guiroy",
      "photoUrl": "//lh4.googleusercontent.com/-JA1Do3Su2d4/AAAAAAAAAAI/AAAAAAAAAdE/LzdgJ0kR1Dw/s50-c-k-no/photo.jpg",
      "userId": "112028306624519358161"
     },
     "user_tz": 0
    },
    "id": "jkMoMIiBMXC8",
    "outputId": "c4058d37-449a-4580-e402-e2e1cbc8d19f"
   },
   "outputs": [
    {
     "name": "stdout",
     "output_type": "stream",
     "text": [
      "var1 is now : 0.0001\n"
     ]
    }
   ],
   "source": [
    "var1 = \"0.0001\"\n",
    "print(\"var1 is now :\", var1)"
   ]
  },
  {
   "cell_type": "markdown",
   "metadata": {
    "colab_type": "text",
    "id": "vAXZT8TyMXDC"
   },
   "source": [
    "### Names of variables\n",
    "\n",
    "There is restrictions concerning the names that the variables can have. Some keywords are protected (for example, a variable cannot be named *if*, *else*, *for*, *list*, *str*, *print*, *in*, etc). A variable can end with numbers but cannot start with numbers.\n",
    "\n"
   ]
  },
  {
   "cell_type": "code",
   "execution_count": 8,
   "metadata": {
    "colab": {
     "autoexec": {
      "startup": false,
      "wait_interval": 0
     },
     "base_uri": "https://localhost:8080/",
     "height": 52
    },
    "colab_type": "code",
    "executionInfo": {
     "elapsed": 816,
     "status": "ok",
     "timestamp": 1531746155370,
     "user": {
      "displayName": "Simon Guiroy",
      "photoUrl": "//lh4.googleusercontent.com/-JA1Do3Su2d4/AAAAAAAAAAI/AAAAAAAAAdE/LzdgJ0kR1Dw/s50-c-k-no/photo.jpg",
      "userId": "112028306624519358161"
     },
     "user_tz": 0
    },
    "id": "pFY9w7XN2LFN",
    "outputId": "f8ef0460-2dcd-4721-d716-07c653152a8d"
   },
   "outputs": [
    {
     "name": "stdout",
     "output_type": "stream",
     "text": [
      "Variable hello5 is 3\n",
      "Variable _hello5 is 4\n"
     ]
    }
   ],
   "source": [
    "hello5 = 3\n",
    "print(\"Variable hello5 is\", hello5)\n",
    "_hello5 = 4\n",
    "print(\"Variable _hello5 is\", _hello5)"
   ]
  },
  {
   "cell_type": "markdown",
   "metadata": {
    "colab_type": "text",
    "id": "5oQ0uExY2Tx-"
   },
   "source": [
    "### Assigning a variable to another variable"
   ]
  },
  {
   "cell_type": "code",
   "execution_count": 9,
   "metadata": {
    "colab": {
     "autoexec": {
      "startup": false,
      "wait_interval": 0
     },
     "base_uri": "https://localhost:8080/",
     "height": 69
    },
    "colab_type": "code",
    "executionInfo": {
     "elapsed": 822,
     "status": "ok",
     "timestamp": 1531758700179,
     "user": {
      "displayName": "Simon Guiroy",
      "photoUrl": "//lh4.googleusercontent.com/-JA1Do3Su2d4/AAAAAAAAAAI/AAAAAAAAAdE/LzdgJ0kR1Dw/s50-c-k-no/photo.jpg",
      "userId": "112028306624519358161"
     },
     "user_tz": 0
    },
    "id": "2DC3Mm1aOlLi",
    "outputId": "d2bf2395-b987-427d-bdb4-cb5008d53292"
   },
   "outputs": [
    {
     "name": "stdout",
     "output_type": "stream",
     "text": [
      "a 5  hello\n",
      "b 7\n",
      "c 5\n"
     ]
    }
   ],
   "source": [
    "a = 5\n",
    "b = 7\n",
    "c = a\n",
    "print(\"a\", a, \"\", \"hello\")\n",
    "print(\"b\", b)\n",
    "print(\"c\", c)"
   ]
  },
  {
   "cell_type": "code",
   "execution_count": 10,
   "metadata": {
    "colab": {
     "autoexec": {
      "startup": false,
      "wait_interval": 0
     },
     "base_uri": "https://localhost:8080/",
     "height": 52
    },
    "colab_type": "code",
    "executionInfo": {
     "elapsed": 761,
     "status": "ok",
     "timestamp": 1531746228897,
     "user": {
      "displayName": "Simon Guiroy",
      "photoUrl": "//lh4.googleusercontent.com/-JA1Do3Su2d4/AAAAAAAAAAI/AAAAAAAAAdE/LzdgJ0kR1Dw/s50-c-k-no/photo.jpg",
      "userId": "112028306624519358161"
     },
     "user_tz": 0
    },
    "id": "xUrlYbqDMBmf",
    "outputId": "231a8b46-948d-4524-8bc7-85c4fd983003"
   },
   "outputs": [
    {
     "name": "stdout",
     "output_type": "stream",
     "text": [
      "15\n",
      "5\n"
     ]
    }
   ],
   "source": [
    "a = 15\n",
    "print (a)\n",
    "print (c)"
   ]
  },
  {
   "cell_type": "code",
   "execution_count": 11,
   "metadata": {
    "colab": {
     "autoexec": {
      "startup": false,
      "wait_interval": 0
     }
    },
    "colab_type": "code",
    "id": "_XpoHFWnOlUv"
   },
   "outputs": [
    {
     "name": "stdout",
     "output_type": "stream",
     "text": [
      "a 9\n",
      "b 7\n",
      "c 5\n"
     ]
    }
   ],
   "source": [
    "a = 9\n",
    "print(\"a\", a)\n",
    "print(\"b\", b)\n",
    "print(\"c\", c)"
   ]
  },
  {
   "cell_type": "markdown",
   "metadata": {
    "colab_type": "text",
    "id": "WxAvIwaoMXDC"
   },
   "source": [
    "## Input-Output\n",
    "\n",
    "### Output : Print function\n",
    "\n",
    "The **print** function takes an arbitrary number of arguments and return its evaluation."
   ]
  },
  {
   "cell_type": "code",
   "execution_count": 12,
   "metadata": {
    "colab": {
     "autoexec": {
      "startup": false,
      "wait_interval": 0
     },
     "base_uri": "https://localhost:8080/",
     "height": 35
    },
    "colab_type": "code",
    "executionInfo": {
     "elapsed": 824,
     "status": "ok",
     "timestamp": 1531746529506,
     "user": {
      "displayName": "Simon Guiroy",
      "photoUrl": "//lh4.googleusercontent.com/-JA1Do3Su2d4/AAAAAAAAAAI/AAAAAAAAAdE/LzdgJ0kR1Dw/s50-c-k-no/photo.jpg",
      "userId": "112028306624519358161"
     },
     "user_tz": 0
    },
    "id": "vQK6z__2MXDD",
    "outputId": "1cf9c15d-f603-4287-9a5e-526235c3bd73"
   },
   "outputs": [
    {
     "name": "stdout",
     "output_type": "stream",
     "text": [
      "4\n"
     ]
    }
   ],
   "source": [
    "a = 4\n",
    "b = 5\n",
    "c = 7\n",
    "print(a)"
   ]
  },
  {
   "cell_type": "code",
   "execution_count": 13,
   "metadata": {
    "colab": {
     "autoexec": {
      "startup": false,
      "wait_interval": 0
     },
     "base_uri": "https://localhost:8080/",
     "height": 35
    },
    "colab_type": "code",
    "executionInfo": {
     "elapsed": 759,
     "status": "ok",
     "timestamp": 1531746532965,
     "user": {
      "displayName": "Simon Guiroy",
      "photoUrl": "//lh4.googleusercontent.com/-JA1Do3Su2d4/AAAAAAAAAAI/AAAAAAAAAdE/LzdgJ0kR1Dw/s50-c-k-no/photo.jpg",
      "userId": "112028306624519358161"
     },
     "user_tz": 0
    },
    "id": "ct0y2GISMXDI",
    "outputId": "446904d2-3889-48d2-d966-294864d71187"
   },
   "outputs": [
    {
     "name": "stdout",
     "output_type": "stream",
     "text": [
      "5\n"
     ]
    }
   ],
   "source": [
    "print(b)"
   ]
  },
  {
   "cell_type": "code",
   "execution_count": 14,
   "metadata": {
    "colab": {
     "autoexec": {
      "startup": false,
      "wait_interval": 0
     },
     "base_uri": "https://localhost:8080/",
     "height": 35
    },
    "colab_type": "code",
    "executionInfo": {
     "elapsed": 748,
     "status": "ok",
     "timestamp": 1531746538073,
     "user": {
      "displayName": "Simon Guiroy",
      "photoUrl": "//lh4.googleusercontent.com/-JA1Do3Su2d4/AAAAAAAAAAI/AAAAAAAAAdE/LzdgJ0kR1Dw/s50-c-k-no/photo.jpg",
      "userId": "112028306624519358161"
     },
     "user_tz": 0
    },
    "id": "7pP0yrrAMXDO",
    "outputId": "2e53f1fa-04e6-4db5-d666-190c9041830a"
   },
   "outputs": [
    {
     "name": "stdout",
     "output_type": "stream",
     "text": [
      "9\n"
     ]
    }
   ],
   "source": [
    "print(a+b)"
   ]
  },
  {
   "cell_type": "code",
   "execution_count": 15,
   "metadata": {
    "colab": {
     "autoexec": {
      "startup": false,
      "wait_interval": 0
     },
     "base_uri": "https://localhost:8080/",
     "height": 35
    },
    "colab_type": "code",
    "executionInfo": {
     "elapsed": 924,
     "status": "ok",
     "timestamp": 1531746555418,
     "user": {
      "displayName": "Simon Guiroy",
      "photoUrl": "//lh4.googleusercontent.com/-JA1Do3Su2d4/AAAAAAAAAAI/AAAAAAAAAdE/LzdgJ0kR1Dw/s50-c-k-no/photo.jpg",
      "userId": "112028306624519358161"
     },
     "user_tz": 0
    },
    "id": "gGK6iN77NXgq",
    "outputId": "9ce22d41-bc27-4373-bece-26f5dd62c435"
   },
   "outputs": [
    {
     "data": {
      "text/plain": [
       "9"
      ]
     },
     "execution_count": 15,
     "metadata": {},
     "output_type": "execute_result"
    }
   ],
   "source": [
    "a+b"
   ]
  },
  {
   "cell_type": "code",
   "execution_count": 16,
   "metadata": {
    "colab": {
     "autoexec": {
      "startup": false,
      "wait_interval": 0
     },
     "base_uri": "https://localhost:8080/",
     "height": 35
    },
    "colab_type": "code",
    "executionInfo": {
     "elapsed": 969,
     "status": "ok",
     "timestamp": 1531746690328,
     "user": {
      "displayName": "Simon Guiroy",
      "photoUrl": "//lh4.googleusercontent.com/-JA1Do3Su2d4/AAAAAAAAAAI/AAAAAAAAAdE/LzdgJ0kR1Dw/s50-c-k-no/photo.jpg",
      "userId": "112028306624519358161"
     },
     "user_tz": 0
    },
    "id": "t2SnP7uJMXDU",
    "outputId": "706e0383-2d44-466f-b9d5-ec8aa5413e83"
   },
   "outputs": [
    {
     "name": "stdout",
     "output_type": "stream",
     "text": [
      "4 5 7\n"
     ]
    }
   ],
   "source": [
    "print(a, b, c)"
   ]
  },
  {
   "cell_type": "markdown",
   "metadata": {
    "colab_type": "text",
    "id": "9mno5_vKMXDY"
   },
   "source": [
    "Different ways of printing values of specific variables."
   ]
  },
  {
   "cell_type": "code",
   "execution_count": 17,
   "metadata": {
    "colab": {
     "autoexec": {
      "startup": false,
      "wait_interval": 0
     },
     "base_uri": "https://localhost:8080/",
     "height": 69
    },
    "colab_type": "code",
    "executionInfo": {
     "elapsed": 820,
     "status": "ok",
     "timestamp": 1531746730019,
     "user": {
      "displayName": "Simon Guiroy",
      "photoUrl": "//lh4.googleusercontent.com/-JA1Do3Su2d4/AAAAAAAAAAI/AAAAAAAAAdE/LzdgJ0kR1Dw/s50-c-k-no/photo.jpg",
      "userId": "112028306624519358161"
     },
     "user_tz": 0
    },
    "id": "n0Tso7GjMXDZ",
    "outputId": "daffff56-0350-4436-a04a-6d2838556bd6"
   },
   "outputs": [
    {
     "name": "stdout",
     "output_type": "stream",
     "text": [
      "Values of the variables were 4 5\n",
      "Values of the variables were45\n",
      "Values of the variables were a = 4 et b = 5\n"
     ]
    }
   ],
   "source": [
    "print(\"Values of the variables were\", a, b)\n",
    "print(\"Values of the variables were\" + str(a) + str(b) )\n",
    "print(\"Values of the variables were a = \" + str(a) + \" et b = \" + str(b) )"
   ]
  },
  {
   "cell_type": "markdown",
   "metadata": {
    "colab_type": "text",
    "id": "ODHoIU3-MXDe"
   },
   "source": [
    "### Input\n",
    "\n",
    "In order to query the user, we can use the **input** function. The **input** function always returns a *string* variable. In order to use the input as a number, we must cast it or evaluate it (with *eval*)."
   ]
  },
  {
   "cell_type": "code",
   "execution_count": 18,
   "metadata": {
    "colab": {
     "autoexec": {
      "startup": false,
      "wait_interval": 0
     },
     "base_uri": "https://localhost:8080/",
     "height": 35
    },
    "colab_type": "code",
    "executionInfo": {
     "elapsed": 22568,
     "status": "ok",
     "timestamp": 1531746850629,
     "user": {
      "displayName": "Simon Guiroy",
      "photoUrl": "//lh4.googleusercontent.com/-JA1Do3Su2d4/AAAAAAAAAAI/AAAAAAAAAdE/LzdgJ0kR1Dw/s50-c-k-no/photo.jpg",
      "userId": "112028306624519358161"
     },
     "user_tz": 0
    },
    "id": "oWvSpSKtMXDf",
    "outputId": "39d6c25b-1aab-4edd-8c15-5b2c1e66ebfb"
   },
   "outputs": [
    {
     "name": "stdout",
     "output_type": "stream",
     "text": [
      "Please write your name : Stephanie\n"
     ]
    }
   ],
   "source": [
    "name = input(\"Please write your name : \")"
   ]
  },
  {
   "cell_type": "code",
   "execution_count": 19,
   "metadata": {
    "colab": {
     "autoexec": {
      "startup": false,
      "wait_interval": 0
     },
     "base_uri": "https://localhost:8080/",
     "height": 35
    },
    "colab_type": "code",
    "executionInfo": {
     "elapsed": 921,
     "status": "ok",
     "timestamp": 1531749323943,
     "user": {
      "displayName": "Simon Guiroy",
      "photoUrl": "//lh4.googleusercontent.com/-JA1Do3Su2d4/AAAAAAAAAAI/AAAAAAAAAdE/LzdgJ0kR1Dw/s50-c-k-no/photo.jpg",
      "userId": "112028306624519358161"
     },
     "user_tz": 0
    },
    "id": "yjihqSjdMXDj",
    "outputId": "ea89ea86-4bac-43b5-bb00-645ec277e7b8"
   },
   "outputs": [
    {
     "name": "stdout",
     "output_type": "stream",
     "text": [
      "Stephanie\n"
     ]
    }
   ],
   "source": [
    "print(name)"
   ]
  },
  {
   "cell_type": "code",
   "execution_count": 20,
   "metadata": {
    "colab": {
     "autoexec": {
      "startup": false,
      "wait_interval": 0
     },
     "base_uri": "https://localhost:8080/",
     "height": 35
    },
    "colab_type": "code",
    "executionInfo": {
     "elapsed": 5415,
     "status": "ok",
     "timestamp": 1531749876818,
     "user": {
      "displayName": "Simon Guiroy",
      "photoUrl": "//lh4.googleusercontent.com/-JA1Do3Su2d4/AAAAAAAAAAI/AAAAAAAAAdE/LzdgJ0kR1Dw/s50-c-k-no/photo.jpg",
      "userId": "112028306624519358161"
     },
     "user_tz": 0
    },
    "id": "m_DZdbvWMXDm",
    "outputId": "1dfdf632-4e7f-4eb5-cbae-34d723867ef0"
   },
   "outputs": [
    {
     "name": "stdout",
     "output_type": "stream",
     "text": [
      "How old are you ? : 50\n"
     ]
    }
   ],
   "source": [
    "age = input(\"How old are you ? : \")"
   ]
  },
  {
   "cell_type": "code",
   "execution_count": 21,
   "metadata": {
    "colab": {
     "autoexec": {
      "startup": false,
      "wait_interval": 0
     },
     "base_uri": "https://localhost:8080/",
     "height": 52
    },
    "colab_type": "code",
    "executionInfo": {
     "elapsed": 767,
     "status": "ok",
     "timestamp": 1531749908495,
     "user": {
      "displayName": "Simon Guiroy",
      "photoUrl": "//lh4.googleusercontent.com/-JA1Do3Su2d4/AAAAAAAAAAI/AAAAAAAAAdE/LzdgJ0kR1Dw/s50-c-k-no/photo.jpg",
      "userId": "112028306624519358161"
     },
     "user_tz": 0
    },
    "id": "XGhb780CMXDq",
    "outputId": "b7e27a4c-0115-470e-c6b0-7cc44d779ad9"
   },
   "outputs": [
    {
     "name": "stdout",
     "output_type": "stream",
     "text": [
      "50 <class 'str'>\n",
      "50 <class 'int'>\n"
     ]
    }
   ],
   "source": [
    "print(age, type(age))\n",
    "age = int(age)\n",
    "print(age, type(age))\n"
   ]
  },
  {
   "cell_type": "markdown",
   "metadata": {
    "colab_type": "text",
    "id": "0Kr2Z2yRMXDu"
   },
   "source": [
    "## Types of variables\n",
    "\n",
    "A variable is container that contains something. The type of a variable refers to the type of its content. \n",
    "Today we will cover 3 types of variables :\n",
    "\n",
    "1. Integer : 1, 2, 0, -5, -12, 1038\n",
    "2. Float : 1.34, -0.56, 10.0, 1454.6\n",
    "3. String (sequence of characters): \"Hello\", \"Ghana\", \"How are you?\", \"15 years old\", \"14.5\"\n",
    "\n",
    "\n",
    "**Question : Of what type are the following variables?**\n",
    "1. a = 14\n",
    "2. b = 14.0\n",
    "3. c = -5\n",
    "4. d = \"World\"\n",
    "5. e = 7.5\n",
    "6. f = \"14\"\n",
    "\n",
    "**Answers:**\n"
   ]
  },
  {
   "cell_type": "code",
   "execution_count": 22,
   "metadata": {
    "colab": {
     "autoexec": {
      "startup": false,
      "wait_interval": 0
     }
    },
    "colab_type": "code",
    "id": "fugeNx3HMXDv"
   },
   "outputs": [
    {
     "name": "stdout",
     "output_type": "stream",
     "text": [
      "a is of type <class 'int'>\n"
     ]
    }
   ],
   "source": [
    "a = 14\n",
    "print(\"a is of type\", type(a))"
   ]
  },
  {
   "cell_type": "code",
   "execution_count": 23,
   "metadata": {
    "colab": {
     "autoexec": {
      "startup": false,
      "wait_interval": 0
     }
    },
    "colab_type": "code",
    "id": "dJiKusoZMXDz"
   },
   "outputs": [
    {
     "name": "stdout",
     "output_type": "stream",
     "text": [
      "b is of type <class 'float'>\n"
     ]
    }
   ],
   "source": [
    "b = 14.0\n",
    "print(\"b is of type\", type(b))"
   ]
  },
  {
   "cell_type": "code",
   "execution_count": 24,
   "metadata": {
    "colab": {
     "autoexec": {
      "startup": false,
      "wait_interval": 0
     }
    },
    "colab_type": "code",
    "id": "ORoj6dAeMXD7"
   },
   "outputs": [
    {
     "name": "stdout",
     "output_type": "stream",
     "text": [
      "c is of type <class 'int'>\n"
     ]
    }
   ],
   "source": [
    "c = -5\n",
    "print(\"c is of type\", type(c))"
   ]
  },
  {
   "cell_type": "code",
   "execution_count": 25,
   "metadata": {
    "colab": {
     "autoexec": {
      "startup": false,
      "wait_interval": 0
     }
    },
    "colab_type": "code",
    "id": "hI2AYfDbMXEG"
   },
   "outputs": [
    {
     "name": "stdout",
     "output_type": "stream",
     "text": [
      "d is of type <class 'str'>\n"
     ]
    }
   ],
   "source": [
    "d = \"World\"\n",
    "print(\"d is of type\", type(d))"
   ]
  },
  {
   "cell_type": "code",
   "execution_count": 26,
   "metadata": {
    "colab": {
     "autoexec": {
      "startup": false,
      "wait_interval": 0
     }
    },
    "colab_type": "code",
    "id": "AEyjy6lLMXEQ"
   },
   "outputs": [
    {
     "name": "stdout",
     "output_type": "stream",
     "text": [
      "e is of type <class 'float'>\n"
     ]
    }
   ],
   "source": [
    "e = 7.5\n",
    "print(\"e is of type\", type(e))"
   ]
  },
  {
   "cell_type": "code",
   "execution_count": 27,
   "metadata": {
    "colab": {
     "autoexec": {
      "startup": false,
      "wait_interval": 0
     }
    },
    "colab_type": "code",
    "id": "hahR9ddoMXEW"
   },
   "outputs": [
    {
     "name": "stdout",
     "output_type": "stream",
     "text": [
      "f is of type <class 'str'>\n"
     ]
    }
   ],
   "source": [
    "f = \"14\"\n",
    "print(\"f is of type\", type(f))"
   ]
  },
  {
   "cell_type": "markdown",
   "metadata": {
    "colab_type": "text",
    "id": "qpIfyie5MXEc"
   },
   "source": [
    "#### Cast of variables\n",
    "\n",
    "If a variable *a* is an integer, we can cast it (change its type) as a float or as a string as follows:"
   ]
  },
  {
   "cell_type": "code",
   "execution_count": 28,
   "metadata": {
    "colab": {
     "autoexec": {
      "startup": false,
      "wait_interval": 0
     }
    },
    "colab_type": "code",
    "id": "AK5lJZbzMXEe"
   },
   "outputs": [
    {
     "name": "stdout",
     "output_type": "stream",
     "text": [
      "variable a : 3 <class 'int'>\n",
      "variable a casted as a float : 3.0 <class 'float'>\n",
      "variable a casted as a string : 3 <class 'str'>\n"
     ]
    }
   ],
   "source": [
    "a = 3\n",
    "print(\"variable a :\", a, type(a))\n",
    "print(\"variable a casted as a float :\", float(a), type(float(a)))\n",
    "print(\"variable a casted as a string :\", str(a), type(str(a)))"
   ]
  },
  {
   "cell_type": "code",
   "execution_count": 29,
   "metadata": {
    "colab": {
     "autoexec": {
      "startup": false,
      "wait_interval": 0
     }
    },
    "colab_type": "code",
    "id": "ZrRjGIaSMXEk"
   },
   "outputs": [
    {
     "name": "stdout",
     "output_type": "stream",
     "text": [
      "variable b : 5.0\n",
      "variable b casted as an integer : 5 <class 'int'>\n",
      "variable b casted as a string : 5.0 <class 'str'>\n"
     ]
    }
   ],
   "source": [
    "b = 5.0\n",
    "print(\"variable b :\", b)\n",
    "print(\"variable b casted as an integer :\", int(b), type(int(b)))\n",
    "print(\"variable b casted as a string :\", str(b), type(str(b)))"
   ]
  },
  {
   "cell_type": "code",
   "execution_count": 30,
   "metadata": {
    "colab": {
     "autoexec": {
      "startup": false,
      "wait_interval": 0
     }
    },
    "colab_type": "code",
    "id": "Nq-CO3pDMXEs"
   },
   "outputs": [
    {
     "name": "stdout",
     "output_type": "stream",
     "text": [
      "variable c : 7.0\n",
      "variable c evaluated as a float 7.0 <class 'float'>\n",
      "variable c evaluated and then casted as an integer : 7 <class 'int'>\n"
     ]
    }
   ],
   "source": [
    "c = \"7.0\"\n",
    "print(\"variable c :\", c)\n",
    "print(\"variable c evaluated as a float\", eval(c), type(eval(c)))\n",
    "print(\"variable c evaluated and then casted as an integer :\", \n",
    "      int(eval(c)), type(int(eval(c))))"
   ]
  },
  {
   "cell_type": "markdown",
   "metadata": {
    "colab_type": "text",
    "id": "hvCCOtR2MXEy"
   },
   "source": [
    "## Basic Arithmetics Operators"
   ]
  },
  {
   "cell_type": "markdown",
   "metadata": {
    "colab_type": "text",
    "id": "FRI2sHPZMXEz"
   },
   "source": [
    "Like in mathematics, for **integers** and **float**, the + symbol stands for addition, - symbol stands for substraction, * symbol stands for multiplication and / symbol stands for division. \\\\\n",
    "\n",
    "If the variable is a **string**, then the + symbol stands for concatenation.\n"
   ]
  },
  {
   "cell_type": "markdown",
   "metadata": {
    "colab_type": "text",
    "id": "Dnn8FIUNCDnB"
   },
   "source": [
    "#### Operators +, -, *, /"
   ]
  },
  {
   "cell_type": "code",
   "execution_count": 31,
   "metadata": {
    "colab": {
     "autoexec": {
      "startup": false,
      "wait_interval": 0
     },
     "base_uri": "https://localhost:8080/",
     "height": 104
    },
    "colab_type": "code",
    "executionInfo": {
     "elapsed": 1164,
     "status": "ok",
     "timestamp": 1531750191450,
     "user": {
      "displayName": "Simon Guiroy",
      "photoUrl": "//lh4.googleusercontent.com/-JA1Do3Su2d4/AAAAAAAAAAI/AAAAAAAAAdE/LzdgJ0kR1Dw/s50-c-k-no/photo.jpg",
      "userId": "112028306624519358161"
     },
     "user_tz": 0
    },
    "id": "SR28hw6HMXEz",
    "outputId": "902732ec-6bd4-40ef-c3b9-231c9ac65485"
   },
   "outputs": [
    {
     "name": "stdout",
     "output_type": "stream",
     "text": [
      "a + b is ... 12\n",
      "c - d is ... 15.5\n",
      "a * c is ... 50.0\n",
      "a / c is ... 0.5\n",
      "result 186.0\n"
     ]
    }
   ],
   "source": [
    "# Integer and float operations\n",
    "a = 5\n",
    "b = 7\n",
    "c = 10.0\n",
    "d = -5.5\n",
    "\n",
    "print(\"a + b is ...\", a+b)\n",
    "print(\"c - d is ...\", c-d)\n",
    "print(\"a * c is ...\", a*c)\n",
    "print(\"a / c is ...\", a/c)\n",
    "\n",
    "#We can also store the result before using it in the print function \n",
    "result = (a+b)*(c-d)\n",
    "print(\"result\", result)\n",
    "\n"
   ]
  },
  {
   "cell_type": "code",
   "execution_count": 32,
   "metadata": {
    "colab": {
     "autoexec": {
      "startup": false,
      "wait_interval": 0
     },
     "base_uri": "https://localhost:8080/",
     "height": 35
    },
    "colab_type": "code",
    "executionInfo": {
     "elapsed": 910,
     "status": "ok",
     "timestamp": 1531750238458,
     "user": {
      "displayName": "Simon Guiroy",
      "photoUrl": "//lh4.googleusercontent.com/-JA1Do3Su2d4/AAAAAAAAAAI/AAAAAAAAAdE/LzdgJ0kR1Dw/s50-c-k-no/photo.jpg",
      "userId": "112028306624519358161"
     },
     "user_tz": 0
    },
    "id": "MBfLL66M8oAE",
    "outputId": "5a986ef5-bf03-4241-fa4b-5aba9343d44c"
   },
   "outputs": [
    {
     "name": "stdout",
     "output_type": "stream",
     "text": [
      "2\n"
     ]
    }
   ],
   "source": [
    "a = 5\n",
    "a = a -3\n",
    "print(a)"
   ]
  },
  {
   "cell_type": "code",
   "execution_count": 33,
   "metadata": {
    "colab": {
     "autoexec": {
      "startup": false,
      "wait_interval": 0
     },
     "base_uri": "https://localhost:8080/",
     "height": 69
    },
    "colab_type": "code",
    "executionInfo": {
     "elapsed": 811,
     "status": "ok",
     "timestamp": 1531750404948,
     "user": {
      "displayName": "Simon Guiroy",
      "photoUrl": "//lh4.googleusercontent.com/-JA1Do3Su2d4/AAAAAAAAAAI/AAAAAAAAAdE/LzdgJ0kR1Dw/s50-c-k-no/photo.jpg",
      "userId": "112028306624519358161"
     },
     "user_tz": 0
    },
    "id": "zJXz5T0IMXE2",
    "outputId": "a5a8b884-584d-4175-d641-8fe514d7985d"
   },
   "outputs": [
    {
     "name": "stdout",
     "output_type": "stream",
     "text": [
      "Summer2018\n",
      "Summer2018!!!\n",
      "20182018\n"
     ]
    }
   ],
   "source": [
    "# String operations\n",
    "string1 = \"Summer\"\n",
    "string2 = \"2018\"\n",
    "string3 = \"!!!\"\n",
    "\n",
    "print(string1+string2)\n",
    "print(string1+string2+string3)\n",
    "print(string2+string2)"
   ]
  },
  {
   "cell_type": "markdown",
   "metadata": {
    "colab_type": "text",
    "id": "oyhn30o9MXE4"
   },
   "source": [
    "#### Operators += and -=\n",
    "\n",
    "When we want to modify a variable's value by adding or substracting something to it, we could use\n",
    "\n",
    "\n",
    "\n",
    "```\n",
    "a = 5 # a is 5\n",
    "a = a - 2 # a is now 3\n",
    "```\n",
    "\n",
    "There is a quicker way to do it:\n",
    "\n",
    "\n",
    "\n",
    "```\n",
    "a = 5\n",
    "a -= 2 # equivalent to a = a - 2\n",
    "```\n",
    "\n",
    "\n",
    "\n"
   ]
  },
  {
   "cell_type": "code",
   "execution_count": 34,
   "metadata": {
    "colab": {
     "autoexec": {
      "startup": false,
      "wait_interval": 0
     }
    },
    "colab_type": "code",
    "id": "fZGHiAoPCrwo"
   },
   "outputs": [
    {
     "name": "stdout",
     "output_type": "stream",
     "text": [
      "variable a 10 variable b 5\n"
     ]
    }
   ],
   "source": [
    "a = 10\n",
    "b = 5\n",
    "print(\"variable a\", a, \"variable b\", b)\n"
   ]
  },
  {
   "cell_type": "code",
   "execution_count": 35,
   "metadata": {
    "colab": {
     "autoexec": {
      "startup": false,
      "wait_interval": 0
     }
    },
    "colab_type": "code",
    "id": "iea-ZdA3C2As"
   },
   "outputs": [
    {
     "name": "stdout",
     "output_type": "stream",
     "text": [
      "variable a is now 15\n"
     ]
    }
   ],
   "source": [
    "a = a + 5\n",
    "print(\"variable a is now\", a)"
   ]
  },
  {
   "cell_type": "code",
   "execution_count": 36,
   "metadata": {
    "colab": {
     "autoexec": {
      "startup": false,
      "wait_interval": 0
     },
     "base_uri": "https://localhost:8080/",
     "height": 35
    },
    "colab_type": "code",
    "executionInfo": {
     "elapsed": 848,
     "status": "ok",
     "timestamp": 1531750682810,
     "user": {
      "displayName": "Simon Guiroy",
      "photoUrl": "//lh4.googleusercontent.com/-JA1Do3Su2d4/AAAAAAAAAAI/AAAAAAAAAdE/LzdgJ0kR1Dw/s50-c-k-no/photo.jpg",
      "userId": "112028306624519358161"
     },
     "user_tz": 0
    },
    "id": "4gmuTzSGC3yi",
    "outputId": "cbbb49ef-cfe8-4b79-d030-ccb15aa7763a"
   },
   "outputs": [
    {
     "name": "stdout",
     "output_type": "stream",
     "text": [
      "variable a is now 19\n"
     ]
    }
   ],
   "source": [
    "a += 4\n",
    "print(\"variable a is now\", a)"
   ]
  },
  {
   "cell_type": "code",
   "execution_count": 37,
   "metadata": {
    "colab": {
     "autoexec": {
      "startup": false,
      "wait_interval": 0
     }
    },
    "colab_type": "code",
    "id": "WgaqtelCC34-"
   },
   "outputs": [
    {
     "name": "stdout",
     "output_type": "stream",
     "text": [
      "variable b is now 24\n"
     ]
    }
   ],
   "source": [
    "b = a + b\n",
    "print(\"variable b is now\", b)"
   ]
  },
  {
   "cell_type": "code",
   "execution_count": 38,
   "metadata": {
    "colab": {
     "autoexec": {
      "startup": false,
      "wait_interval": 0
     }
    },
    "colab_type": "code",
    "id": "svmjVVPhMXE5"
   },
   "outputs": [
    {
     "name": "stdout",
     "output_type": "stream",
     "text": [
      "i is now 1\n"
     ]
    }
   ],
   "source": [
    "i = 0\n",
    "j = 2\n",
    "\n",
    "#i = i + 5\n",
    "#i += 5\n",
    "\n",
    "i+=1 # equivalent to i = i+1\n",
    "print(\"i is now\", i)\n"
   ]
  },
  {
   "cell_type": "code",
   "execution_count": 39,
   "metadata": {
    "colab": {
     "autoexec": {
      "startup": false,
      "wait_interval": 0
     }
    },
    "colab_type": "code",
    "id": "eR0XKAdTDCOe"
   },
   "outputs": [
    {
     "name": "stdout",
     "output_type": "stream",
     "text": [
      "j is now -8\n"
     ]
    }
   ],
   "source": [
    "j-=10\n",
    "print(\"j is now\", j)\n"
   ]
  },
  {
   "cell_type": "code",
   "execution_count": 40,
   "metadata": {
    "colab": {
     "autoexec": {
      "startup": false,
      "wait_interval": 0
     }
    },
    "colab_type": "code",
    "id": "9jX_mgdOMXE9"
   },
   "outputs": [
    {
     "name": "stdout",
     "output_type": "stream",
     "text": [
      "k=i+j is -7\n"
     ]
    }
   ],
   "source": [
    "k = i + j\n",
    "print(\"k=i+j is\", k)"
   ]
  }
 ],
 "metadata": {
  "colab": {
   "collapsed_sections": [
    "vAXZT8TyMXDC",
    "5oQ0uExY2Tx-"
   ],
   "default_view": {},
   "name": "1_Theory.ipynb",
   "provenance": [],
   "version": "0.3.2",
   "views": {}
  },
  "kernelspec": {
   "display_name": "Python 3",
   "language": "python",
   "name": "python3"
  },
  "language_info": {
   "codemirror_mode": {
    "name": "ipython",
    "version": 3
   },
   "file_extension": ".py",
   "mimetype": "text/x-python",
   "name": "python",
   "nbconvert_exporter": "python",
   "pygments_lexer": "ipython3",
   "version": "3.6.5"
  }
 },
 "nbformat": 4,
 "nbformat_minor": 1
}
