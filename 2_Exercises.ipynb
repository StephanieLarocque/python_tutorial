{
 "cells": [
  {
   "cell_type": "markdown",
   "metadata": {
    "colab_type": "text",
    "id": "KN1OkuudxXc_"
   },
   "source": [
    "# Lecture 2 - Problem Solving\n",
    "# Topic : Boolean expression, Conditional Execution & Control Flow\n",
    "\n",
    "Ref : https://www.w3resource.com/python-exercises/python-conditional-statements-and-loop-exercises.php"
   ]
  },
  {
   "cell_type": "markdown",
   "metadata": {
    "colab_type": "text",
    "id": "4OLNNemkxXdA"
   },
   "source": [
    "Given the following definitions:\n",
    "\n",
    "\n",
    "```\n",
    "x = 3\n",
    "y = 5\n",
    "z = 7\n",
    "```\n",
    "\n",
    "\n",
    "\n",
    "Predict the outcome of the following Boolean expressions and then verify your answers :\n",
    "\n",
    "\n",
    "```\n",
    "1. x == 3\n",
    "2. x < y\n",
    "3. x >= y\n",
    "4. x <= y\n",
    "5. x != y - 2\n",
    "6. x < 10\n",
    "7. x >= 0 and x < 10\n",
    "8. x < 0 and x < 10\n",
    "9. x >= 0 and x < 2\n",
    "10. x < 0 or x < 10\n",
    "11. x > 0 or x < 10\n",
    "12. x < 0 or x > 10\n",
    "```\n",
    "\n",
    "\n"
   ]
  },
  {
   "cell_type": "code",
   "execution_count": null,
   "metadata": {
    "colab": {
     "autoexec": {
      "startup": false,
      "wait_interval": 0
     }
    },
    "colab_type": "code",
    "id": "XFaBlkhnxXdG"
   },
   "outputs": [],
   "source": []
  },
  {
   "cell_type": "code",
   "execution_count": null,
   "metadata": {
    "colab": {
     "autoexec": {
      "startup": false,
      "wait_interval": 0
     }
    },
    "colab_type": "code",
    "id": "0DVZCKLRxXdJ"
   },
   "outputs": [],
   "source": []
  },
  {
   "cell_type": "markdown",
   "metadata": {
    "colab_type": "text",
    "id": "zIS5XI9yxXdM"
   },
   "source": [
    "Write a Python program that requests five integer values from the user. It then prints the maximum and minimum values entered. \n",
    "\n",
    "For example, if the user enters the values 3, 2, 5, 0, and 1, the program would indicate that 5 is the maximum and 0 is the minimum. \n",
    "\n",
    "Your program should handle ties properly; for example, if the user enters 2, 4 2, 3 and 3, the program should report 2 as the minimum and 4 as maximum."
   ]
  },
  {
   "cell_type": "code",
   "execution_count": null,
   "metadata": {
    "colab": {
     "autoexec": {
      "startup": false,
      "wait_interval": 0
     }
    },
    "colab_type": "code",
    "id": "J9SKnlbGxXdM"
   },
   "outputs": [],
   "source": []
  },
  {
   "cell_type": "markdown",
   "metadata": {
    "colab_type": "text",
    "id": "rBMzXC5GxXdP"
   },
   "source": [
    "Write a Python program that requests five integer values from the user. It then prints one of two things: if any of the values entered are duplicates, it prints ```DUPLICATES```; otherwise, it prints ```ALL UNIQUE```.\n"
   ]
  },
  {
   "cell_type": "code",
   "execution_count": null,
   "metadata": {
    "colab": {
     "autoexec": {
      "startup": false,
      "wait_interval": 0
     }
    },
    "colab_type": "code",
    "id": "fyB-I6z2zJBF"
   },
   "outputs": [],
   "source": []
  },
  {
   "cell_type": "markdown",
   "metadata": {
    "colab_type": "text",
    "id": "ChwWnPfvzIQb"
   },
   "source": [
    "Write a Python program to find those numbers which are divisible by 7 and multiple of 5, between 1500 and 2700 (both included)."
   ]
  },
  {
   "cell_type": "code",
   "execution_count": null,
   "metadata": {
    "colab": {
     "autoexec": {
      "startup": false,
      "wait_interval": 0
     }
    },
    "colab_type": "code",
    "id": "w7rb2FDDxXdP"
   },
   "outputs": [],
   "source": []
  },
  {
   "cell_type": "markdown",
   "metadata": {
    "colab_type": "text",
    "id": "p-hapc46xXdS"
   },
   "source": [
    " Write a program to find the sum of the first 20 elements of the Fibonacci series.\n",
    " \n",
    "-The first two terms of the series are 0 and 1, and the next term is the sum of the previous two terms.\n"
   ]
  },
  {
   "cell_type": "code",
   "execution_count": null,
   "metadata": {
    "colab": {
     "autoexec": {
      "startup": false,
      "wait_interval": 0
     }
    },
    "colab_type": "code",
    "id": "enwgmtXbxXdS"
   },
   "outputs": [],
   "source": []
  },
  {
   "cell_type": "markdown",
   "metadata": {
    "colab_type": "text",
    "id": "gawZxjFDxXdU"
   },
   "source": [
    "A soccer team is looking for girls from ages 10 to 12 to play on their team. Write a program to ask the user’s age and if male or female. Display a message indicating whether the person is eligible to play on the team.\n",
    "- Make the program so that it doesn’t ask for the age unless the user is a girl.\n"
   ]
  },
  {
   "cell_type": "code",
   "execution_count": null,
   "metadata": {
    "colab": {
     "autoexec": {
      "startup": false,
      "wait_interval": 0
     }
    },
    "colab_type": "code",
    "id": "6ZFmSFQxxXdV"
   },
   "outputs": [],
   "source": []
  },
  {
   "cell_type": "markdown",
   "metadata": {
    "colab_type": "text",
    "id": "fioZBzabxXdX"
   },
   "source": [
    "A store is having a sale. They’re giving 10 percent off purchases of 10\\\\$ or lower and 20 percent off purchases of greater than 10\\\\$. Write a program that asks the price and displays the discount and the final price."
   ]
  },
  {
   "cell_type": "code",
   "execution_count": null,
   "metadata": {
    "colab": {
     "autoexec": {
      "startup": false,
      "wait_interval": 0
     }
    },
    "colab_type": "code",
    "id": "lW49fQm0xXdY"
   },
   "outputs": [],
   "source": []
  },
  {
   "cell_type": "markdown",
   "metadata": {
    "colab_type": "text",
    "id": "CH59qKkmxXda"
   },
   "source": [
    "Write a Python program that requests an integer value from the user. If the value is between 1 and 100 inclusive, print ”OK;” otherwise, print ”Out of range.”\n"
   ]
  },
  {
   "cell_type": "code",
   "execution_count": null,
   "metadata": {
    "colab": {
     "autoexec": {
      "startup": false,
      "wait_interval": 0
     }
    },
    "colab_type": "code",
    "id": "HKuivWLqxXdc"
   },
   "outputs": [],
   "source": []
  },
  {
   "cell_type": "markdown",
   "metadata": {
    "colab_type": "text",
    "id": "0OG95T8PxXde"
   },
   "source": [
    "Write a program to print the 2X multiplication table up the 5X multiplication table. The output should look like:\n",
    "```\n",
    "5 x 1 = 5                                                               \n",
    "5 x 2 = 10                                                              \n",
    "5 x 3 = 15                                                              \n",
    "5 x 4 = 20\n",
    "...\n",
    "5 x 10 = 50\n",
    "```\n",
    "\n",
    "\n"
   ]
  },
  {
   "cell_type": "code",
   "execution_count": null,
   "metadata": {
    "colab": {
     "autoexec": {
      "startup": false,
      "wait_interval": 0
     }
    },
    "colab_type": "code",
    "id": "qy7fO_rlxXde"
   },
   "outputs": [],
   "source": []
  },
  {
   "cell_type": "markdown",
   "metadata": {
    "colab_type": "text",
    "id": "UayBchdVxXdh"
   },
   "source": [
    "Iterate through 1 and 100 and print all the multiples of 5, first with a ```for``` loop and then with a ```while``` loop, using condition ```if```. Do the same thing with the multiples of 7."
   ]
  },
  {
   "cell_type": "code",
   "execution_count": null,
   "metadata": {
    "colab": {
     "autoexec": {
      "startup": false,
      "wait_interval": 0
     }
    },
    "colab_type": "code",
    "id": "BsZzaEW9xXdi"
   },
   "outputs": [],
   "source": []
  },
  {
   "cell_type": "markdown",
   "metadata": {
    "colab_type": "text",
    "id": "LbwCI7-OxXdk"
   },
   "source": [
    "Use 2 nested ```for``` loops to print all the possible outcomes of 2 successives dice rolls.\n",
    "\n",
    "For example, the output could be \"First dice was a 2 and scond dice was a 4 for a sum of 6!\""
   ]
  },
  {
   "cell_type": "code",
   "execution_count": null,
   "metadata": {
    "colab": {
     "autoexec": {
      "startup": false,
      "wait_interval": 0
     }
    },
    "colab_type": "code",
    "id": "EfGzGoyexXdl"
   },
   "outputs": [],
   "source": []
  },
  {
   "cell_type": "markdown",
   "metadata": {
    "colab_type": "text",
    "id": "o4C7z-3kxXdn"
   },
   "source": [
    "Calculate the area of a rectangle of length between 1, 2, 3 and 4 and of height between 5,6,7,8 by using 2 nested ```for``` loops. Then, for every possibility of lengthxheight, print something similar to:\n",
    "- The area of the rectangle is ... since the length was ... and the height was ..."
   ]
  },
  {
   "cell_type": "code",
   "execution_count": null,
   "metadata": {
    "colab": {
     "autoexec": {
      "startup": false,
      "wait_interval": 0
     }
    },
    "colab_type": "code",
    "id": "yefqnqeFxXdo"
   },
   "outputs": [],
   "source": []
  },
  {
   "cell_type": "markdown",
   "metadata": {
    "colab_type": "text",
    "id": "86lMnTijxz0z"
   },
   "source": [
    "Write a Python program to guess a number between 1 to 9. \n",
    "User is prompted to enter a guess. If the user guesses wrong then the prompt appears again until the guess is correct, on successful guess, user will get a \"Well guessed!\" message, and the program will exit.\n",
    "\n",
    "HINT1 : Use the function ```random.randint()``` to produce a random number between 1 and 9. \n",
    "\n",
    "HINT2 : Prompt the user using ```input()``` function. Remember that the ```input``` function returns a string."
   ]
  },
  {
   "cell_type": "code",
   "execution_count": null,
   "metadata": {
    "colab": {
     "autoexec": {
      "startup": false,
      "wait_interval": 0
     }
    },
    "colab_type": "code",
    "id": "04CeSpwuxXdq"
   },
   "outputs": [],
   "source": []
  },
  {
   "cell_type": "markdown",
   "metadata": {
    "colab_type": "text",
    "id": "FfTAfvgby0Nd"
   },
   "source": [
    "Write a Python program to construct the following pattern, using a nested for loop.\n",
    "\n",
    "#\n",
    "##\n",
    "###\n",
    "####\n",
    "#####\n",
    "####\n",
    "###\n",
    "##\n",
    "\n",
    "#"
   ]
  },
  {
   "cell_type": "markdown",
   "metadata": {
    "colab_type": "text",
    "id": "FAkKgOMnzUfD"
   },
   "source": [
    " Write a Python program to count the number of even and odd numbers from a series of numbers. \n",
    " \n",
    "Sample numbers : numbers = (1, 2, 3, 4, 5, 6, 7, 8, 9) \n",
    "\n",
    "Expected Output : \n",
    "\n",
    "Number of even numbers : 5\n",
    "\n",
    "Number of odd numbers : 4"
   ]
  },
  {
   "cell_type": "code",
   "execution_count": 1,
   "metadata": {
    "colab": {
     "autoexec": {
      "startup": false,
      "wait_interval": 0
     }
    },
    "colab_type": "code",
    "id": "ehgcBDGXydyu"
   },
   "outputs": [],
   "source": [
    "numbers = (1, 2, 3, 4, 5, 6, 7, 8, 9)\n",
    "# Here"
   ]
  },
  {
   "cell_type": "markdown",
   "metadata": {
    "colab_type": "text",
    "id": "IYBbfyKyzk8V"
   },
   "source": [
    "Write a Python program which iterates the integers from 1 to 50. For multiples of three print \"Fizz\" instead of the number and for the multiples of five print \"Buzz\". For numbers which are multiples of both three and five print \"FizzBuzz\".\n",
    "\n",
    "*Sample Output *: \n",
    "\n",
    "\n",
    "```\n",
    "fizzbuzz\n",
    "1\n",
    "2\n",
    "fizz\n",
    "4 \n",
    "buzz\n",
    "```\n",
    "\n",
    "\n",
    "\n"
   ]
  },
  {
   "cell_type": "code",
   "execution_count": null,
   "metadata": {
    "colab": {
     "autoexec": {
      "startup": false,
      "wait_interval": 0
     }
    },
    "colab_type": "code",
    "id": "DcjA6EOVz3-z"
   },
   "outputs": [],
   "source": []
  },
  {
   "cell_type": "markdown",
   "metadata": {
    "colab_type": "text",
    "id": "jA40nxIyz3n-"
   },
   "source": [
    "Write a Python program to construct the following pattern, using a nested for loop.\n",
    "\n",
    "```\n",
    "1\n",
    "22\n",
    "333\n",
    "4444\n",
    "55555\n",
    "666666\n",
    "7777777\n",
    "88888888\n",
    "999999999\n",
    "```\n",
    "\n"
   ]
  },
  {
   "cell_type": "code",
   "execution_count": null,
   "metadata": {
    "colab": {
     "autoexec": {
      "startup": false,
      "wait_interval": 0
     }
    },
    "colab_type": "code",
    "id": "Tj7n7yCd2u_I"
   },
   "outputs": [],
   "source": []
  },
  {
   "cell_type": "markdown",
   "metadata": {
    "colab_type": "text",
    "id": "eUIIiBDAUzyd"
   },
   "source": [
    "Growing Strength\n",
    "\n",
    "1- Make a variable called strength, and set its initial value to 5.\n",
    "\n",
    "2- Print a message reporting the player's strength.\n",
    "\n",
    "3- Set up a while loop that runs until the player's strength increases to a value such as 10.\n",
    " \n",
    "4- Inside the while loop, print a message that reports the player's current strength.\n",
    "\n",
    "5- Inside the while loop, write a statement that increases the player's strength of 1.\n",
    " \n",
    "6- Outside the while loop, print a message reporting that the player has grown too strong, and that they have moved up to a new level of the game.\n"
   ]
  },
  {
   "cell_type": "code",
   "execution_count": null,
   "metadata": {
    "colab": {
     "autoexec": {
      "startup": false,
      "wait_interval": 0
     }
    },
    "colab_type": "code",
    "id": "93jw50DYAhQ6"
   },
   "outputs": [],
   "source": []
  },
  {
   "cell_type": "markdown",
   "metadata": {
    "colab_type": "text",
    "id": "BLhFH6NuVNSB"
   },
   "source": [
    "Complete the code below. The program should print the following :\n",
    "\n",
    "- If the user chose '1', the output should be \"Here's a bicycle. Have fun!\"\n",
    "- If the user chose '2', the output should be \"Here are some running shoos. Run fast!\"\n",
    "- If the user chose '3', the output should be \"Here's a map. Can you leave a trip plan for us?\"\n",
    "- If the user chose 'q', the output should be \"Thanks for playing. See you later.\"\n",
    "- Else, the output should be \"I don't understant that choice, please try again\"\n"
   ]
  },
  {
   "cell_type": "code",
   "execution_count": 2,
   "metadata": {
    "colab": {
     "autoexec": {
      "startup": false,
      "wait_interval": 0
     },
     "base_uri": "https://localhost:8080/",
     "height": 302
    },
    "colab_type": "code",
    "executionInfo": {
     "elapsed": 11265,
     "status": "ok",
     "timestamp": 1530893298320,
     "user": {
      "displayName": "Stephanie Larocque",
      "photoUrl": "https://lh3.googleusercontent.com/a/default-user=s128",
      "userId": "104636356411980802491"
     },
     "user_tz": 240
    },
    "id": "V1IWoX7fAqHh",
    "outputId": "196ab927-1de1-4840-d2ee-ce54ba11bb87"
   },
   "outputs": [
    {
     "name": "stdout",
     "output_type": "stream",
     "text": [
      "\n",
      "Welcome to the nature center. What would you like to do?\n",
      "\n",
      "[1] Enter 1 to take a bicycle ride.\n",
      "[2] Enter 2 to go for a run.\n",
      "[3] Enter 3 to climb a mountain.\n",
      "[q] Enter q to quit.\n",
      "\n",
      "What would you like to do? q\n",
      "Thanks again, bye now.\n"
     ]
    }
   ],
   "source": [
    "# Give the user some context.\n",
    "print(\"\\nWelcome to the nature center. What would you like to do?\")\n",
    "\n",
    "# Set an initial value for choice other than the value for 'quit'.\n",
    "choice = ''\n",
    "\n",
    "# Start a loop that runs until the user enters the value for 'quit'.\n",
    "while choice != 'q':\n",
    "  \n",
    "    # Give all the choices in a series of print statements.\n",
    "    print(\"\\n[1] Enter 1 to take a bicycle ride.\")\n",
    "    print(\"[2] Enter 2 to go for a run.\")\n",
    "    print(\"[3] Enter 3 to climb a mountain.\")\n",
    "    print(\"[q] Enter q to quit.\")\n",
    "    \n",
    "    # Ask for the user's choice.\n",
    "    choice = input(\"\\nWhat would you like to do? \")\n",
    "    \n",
    "    # Respond to the user's choice.\n",
    "    \n",
    "    # COMPLETE HERE\n",
    "    \n",
    "    \n",
    "# Print a message that we are all finished.\n",
    "print(\"Thanks again, bye now.\")"
   ]
  },
  {
   "cell_type": "code",
   "execution_count": null,
   "metadata": {
    "colab": {
     "autoexec": {
      "startup": false,
      "wait_interval": 0
     }
    },
    "colab_type": "code",
    "id": "KggA8Eh0WbOR"
   },
   "outputs": [],
   "source": []
  }
 ],
 "metadata": {
  "colab": {
   "collapsed_sections": [],
   "default_view": {},
   "name": "2_Exercices.ipynb",
   "provenance": [],
   "version": "0.3.2",
   "views": {}
  },
  "kernelspec": {
   "display_name": "Python 3",
   "language": "python",
   "name": "python3"
  },
  "language_info": {
   "codemirror_mode": {
    "name": "ipython",
    "version": 3
   },
   "file_extension": ".py",
   "mimetype": "text/x-python",
   "name": "python",
   "nbconvert_exporter": "python",
   "pygments_lexer": "ipython3",
   "version": "3.6.5"
  }
 },
 "nbformat": 4,
 "nbformat_minor": 1
}
