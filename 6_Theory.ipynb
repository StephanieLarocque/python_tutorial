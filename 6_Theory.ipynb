{
 "cells": [
  {
   "cell_type": "markdown",
   "metadata": {},
   "source": [
    "# Lecture 6 : Theory\n",
    "\n",
    "# Topic - Classes\n",
    "\n",
    "ref https://www.programiz.com/python-programming/object-oriented-programming"
   ]
  },
  {
   "cell_type": "markdown",
   "metadata": {},
   "source": [
    "Python is a Object-Oriented Programming language. An object has 2 characteristics:\n",
    "- attributes\n",
    "- behavior\n",
    "\n",
    "For example, a Parrot is an object (in a Python way):\n",
    "- name, age, color are attributes\n",
    "- singing, dancing are behaviors\n",
    "\n",
    "\n",
    "A ```class``` is a blueprint for the object."
   ]
  },
  {
   "cell_type": "code",
   "execution_count": 1,
   "metadata": {},
   "outputs": [],
   "source": [
    "# Empty class\n",
    "class Parrot:\n",
    "    pass"
   ]
  },
  {
   "cell_type": "markdown",
   "metadata": {},
   "source": [
    "An *object* (instance) is an instatiation of a class. When a *class* is defined, only the description for the object is defined. "
   ]
  },
  {
   "cell_type": "code",
   "execution_count": 2,
   "metadata": {},
   "outputs": [],
   "source": [
    "# Here, obj is object of class Parrot\n",
    "obj = Parrot()"
   ]
  },
  {
   "cell_type": "markdown",
   "metadata": {},
   "source": [
    "### Example 1 : Creating Class and Object in Python"
   ]
  },
  {
   "cell_type": "markdown",
   "metadata": {},
   "source": [
    "In the code snippet below, we create a class with name ```Parrot```. Then, we define attributes. The attributes are a characteristic of an object.\n",
    "\n",
    "Then, we create instances of the Parrot class. Here, blu and woo are references (value) to our new objects.\n",
    "\n",
    "Then, we access the class attribute using ```__class __.species```. Class attributes are same for all instances of a class. \n",
    "\n",
    "Similarly, we access the instance attributes using ```blu.name``` and ```blu.age```. However, instance attributes are different for every instance of a class."
   ]
  },
  {
   "cell_type": "code",
   "execution_count": 3,
   "metadata": {},
   "outputs": [],
   "source": [
    "class Parrot :\n",
    "    \n",
    "    # class attribute\n",
    "    # same for all instances\n",
    "    species = \"bird\"\n",
    "    \n",
    "    # instance attribute\n",
    "    def __init__(self, name, age):\n",
    "        self.name = name\n",
    "        self.age = age\n",
    "        \n",
    "# Instatiate the Parrot class\n",
    "blu = Parrot(\"Blu\", 10)\n",
    "woo = Parrot(\"Woo\", 15)"
   ]
  },
  {
   "cell_type": "code",
   "execution_count": 4,
   "metadata": {},
   "outputs": [
    {
     "name": "stdout",
     "output_type": "stream",
     "text": [
      "Blue is a bird\n",
      "Woo is a bird\n"
     ]
    }
   ],
   "source": [
    "# access the class attributes\n",
    "print(\"Blu is a\", blu.__class__.species)\n",
    "print(\"Woo is a\", woo.__class__.species)"
   ]
  },
  {
   "cell_type": "code",
   "execution_count": 6,
   "metadata": {},
   "outputs": [
    {
     "name": "stdout",
     "output_type": "stream",
     "text": [
      "Blu is 10 years old\n",
      "Woo is 15 years old\n"
     ]
    }
   ],
   "source": [
    "# access the instance attributes\n",
    "print(blu.name, \"is\", blu.age, \"years old\")\n",
    "print(woo.name, \"is\", woo.age, \"years old\")"
   ]
  },
  {
   "cell_type": "markdown",
   "metadata": {},
   "source": [
    "## Methods\n",
    "\n",
    "Methods are functions defined inside the body of a class. They are used to define the behaviors of an object.\n",
    "\n",
    "### Example 2 : Creating Methods in Python"
   ]
  },
  {
   "cell_type": "markdown",
   "metadata": {},
   "source": [
    "In the code snippet below, we added two methods i.e ```sing()``` and ```dance()``` and 2 attributes. These are called instance method because they are called on an instance object i.e blu."
   ]
  },
  {
   "cell_type": "code",
   "execution_count": 6,
   "metadata": {},
   "outputs": [],
   "source": [
    "class Parrot :\n",
    "    \n",
    "    # class attribute\n",
    "    # same for all instances\n",
    "    species = \"bird\"\n",
    "    \n",
    "    # instance attribute\n",
    "    def __init__(self, name, age):\n",
    "        self.name = name\n",
    "        self.age = age\n",
    "        self.nb_dances = 0\n",
    "        self.known_songs =[]\n",
    "        \n",
    "    def sing(self, song):\n",
    "        self.known_songs.append(song)\n",
    "        return self.name + \" sings \" + song\n",
    "    \n",
    "    def dance(self):\n",
    "        self.nb_dances += 1\n",
    "        return self.name + \" is now dancing\""
   ]
  },
  {
   "cell_type": "code",
   "execution_count": 9,
   "metadata": {},
   "outputs": [
    {
     "name": "stdout",
     "output_type": "stream",
     "text": [
      "Blu sings Happy\n",
      "Known songs: ['Happy']\n",
      "Blu is now dancing nb of dances 1\n",
      "Blu is now dancing nb of dances 2\n"
     ]
    }
   ],
   "source": [
    "# instantiate the object\n",
    "blu = Parrot(\"Blu\", 10)\n",
    "\n",
    "#call our instance methods\n",
    "print(blu.sing(\"Happy\"))\n",
    "print(\"Known songs:\", blu.known_songs)\n",
    "print(blu.dance(), \"nb of dances\", blu.nb_dances)\n",
    "print(blu.dance(), \"nb of dances\", blu.nb_dances)\n",
    "\n"
   ]
  },
  {
   "cell_type": "code",
   "execution_count": 11,
   "metadata": {},
   "outputs": [
    {
     "name": "stdout",
     "output_type": "stream",
     "text": [
      "Known songs ['Happy', 'Happy Birthday', 'Happy Birthday']\n"
     ]
    }
   ],
   "source": [
    "blu.sing(\"Happy Birthday\")\n",
    "print(\"Known songs\", blu.known_songs)\n",
    "\n"
   ]
  },
  {
   "cell_type": "code",
   "execution_count": null,
   "metadata": {},
   "outputs": [],
   "source": []
  }
 ],
 "metadata": {
  "kernelspec": {
   "display_name": "Python 3",
   "language": "python",
   "name": "python3"
  },
  "language_info": {
   "codemirror_mode": {
    "name": "ipython",
    "version": 3
   },
   "file_extension": ".py",
   "mimetype": "text/x-python",
   "name": "python",
   "nbconvert_exporter": "python",
   "pygments_lexer": "ipython3",
   "version": "3.6.5"
  }
 },
 "nbformat": 4,
 "nbformat_minor": 2
}
