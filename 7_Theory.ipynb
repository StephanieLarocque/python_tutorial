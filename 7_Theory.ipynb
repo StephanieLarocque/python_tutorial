{
 "cells": [
  {
   "cell_type": "markdown",
   "metadata": {},
   "source": [
    "# Lecture 7 : Theory\n",
    "\n",
    "# Topic - Working inside a terminal, Imports, Debugging, Documentation, Online forums\n",
    "\n",
    "by Simon Guiroy"
   ]
  },
  {
   "cell_type": "markdown",
   "metadata": {
    "collapsed": true
   },
   "source": [
    "## Working inside a terminal"
   ]
  },
  {
   "cell_type": "markdown",
   "metadata": {},
   "source": [
    "There are multiple versions and subversions of the Python programming language. The two most widely used versions nowadays are python 2 (2.7 is widely used) and python 3 (3.6 or the new 3.7.0). You can create different python environments, where an environment lets you specify the python version you're working with and the packages that are pre-installed for that version, as well as the packages you want to install yourself, again for a specific version. Environments therefore allow you to work with different versions of python and their related packages without any conflicts."
   ]
  },
  {
   "cell_type": "markdown",
   "metadata": {},
   "source": [
    "So far, we've worked inside Jupyter notebooks, but often you may want to work with Python directly from the terminal (the black window application with no visual interface other than text outputs and command lines entered through your keyboard).\n"
   ]
  },
  {
   "cell_type": "markdown",
   "metadata": {},
   "source": [
    "First open the terminal (Command Prompt):\n"
   ]
  },
  {
   "cell_type": "markdown",
   "metadata": {},
   "source": [
    "The simplest way to use with python is to work directly with the python interpreter. First launch the interpreter with the following command:"
   ]
  },
  {
   "cell_type": "raw",
   "metadata": {},
   "source": [
    "python"
   ]
  },
  {
   "cell_type": "markdown",
   "metadata": {},
   "source": [
    "Here you basically write your lines of code sequentially, and the interpreter will \"interpret\" them one by one, execute the required computations and operations, and produced the resulting outputs, if any. If you declare a variable or any object, you can redefine its value in a subsequent line of code to overwrite its value, as everything is interpreted sequentially.\n"
   ]
  },
  {
   "cell_type": "markdown",
   "metadata": {},
   "source": [
    "To exit the interpreter, use the command below:"
   ]
  },
  {
   "cell_type": "raw",
   "metadata": {},
   "source": [
    "Ctrl + z"
   ]
  },
  {
   "cell_type": "markdown",
   "metadata": {},
   "source": [
    "There is not data persistence between different interpreter sessions, so every variable you've decalred previously will be undefined if you launch another session and call them. Obviously, you may want to reuse your code, especially if you write a more complex program than just a few lines. You thus need to write your program in a python script. A python script is really jsut a text file with a \".py\" extension, and you can write it in any text editor (NotePad, NotePad++, Vim, Emacs, etc)."
   ]
  },
  {
   "cell_type": "markdown",
   "metadata": {},
   "source": [
    "Once you've saved your script, you can run it:"
   ]
  },
  {
   "cell_type": "raw",
   "metadata": {},
   "source": [
    "python example_script.py"
   ]
  },
  {
   "cell_type": "markdown",
   "metadata": {},
   "source": [
    "Doing this tells the interpreter to look at your script, and interpret each lines of code sequentially (just like in am interpreter session). The script must be in placed at the location of your current dicretory, otherwise you need to specify the relative path or absolute path, appended before the script filename."
   ]
  },
  {
   "cell_type": "markdown",
   "metadata": {},
   "source": [
    "Directories in a computer are organised in a tree like structure, with one \"root\" directory, and every other its child directories, which in turn may have their own child dicretories.\n"
   ]
  },
  {
   "cell_type": "markdown",
   "metadata": {},
   "source": [
    "## Imports"
   ]
  },
  {
   "cell_type": "markdown",
   "metadata": {},
   "source": [
    "### Python Modules"
   ]
  },
  {
   "cell_type": "markdown",
   "metadata": {},
   "source": [
    "Python has some built-in functions and constants that can be called directly:"
   ]
  },
  {
   "cell_type": "code",
   "execution_count": 1,
   "metadata": {},
   "outputs": [
    {
     "data": {
      "text/plain": [
       "4"
      ]
     },
     "execution_count": 1,
     "metadata": {},
     "output_type": "execute_result"
    }
   ],
   "source": [
    "abs(-4)"
   ]
  },
  {
   "cell_type": "markdown",
   "metadata": {},
   "source": [
    "But most of the basic functions, classes, constants, etc, are defined in modules. One needs to import those modules in order to use its functions, otherwise they remain undefined. You also need to append the module name before the function name:"
   ]
  },
  {
   "cell_type": "code",
   "execution_count": 2,
   "metadata": {},
   "outputs": [
    {
     "ename": "NameError",
     "evalue": "name 'sqrt' is not defined",
     "output_type": "error",
     "traceback": [
      "\u001b[1;31m---------------------------------------------------------------------------\u001b[0m",
      "\u001b[1;31mNameError\u001b[0m                                 Traceback (most recent call last)",
      "\u001b[1;32m<ipython-input-2-317e033d29d5>\u001b[0m in \u001b[0;36m<module>\u001b[1;34m()\u001b[0m\n\u001b[1;32m----> 1\u001b[1;33m \u001b[0msqrt\u001b[0m\u001b[1;33m(\u001b[0m\u001b[1;36m4\u001b[0m\u001b[1;33m)\u001b[0m\u001b[1;33m\u001b[0m\u001b[0m\n\u001b[0m",
      "\u001b[1;31mNameError\u001b[0m: name 'sqrt' is not defined"
     ]
    }
   ],
   "source": [
    "sqrt(4)"
   ]
  },
  {
   "cell_type": "code",
   "execution_count": null,
   "metadata": {},
   "outputs": [],
   "source": [
    "import math\n",
    "\n",
    "math.sqrt(4)"
   ]
  },
  {
   "cell_type": "markdown",
   "metadata": {},
   "source": [
    "You may also import only specific functions from a module by speficying their name, and by doing so you don't need to append the module name before those function name. You may also do this for all of the elements of the module, using the \" * \" character. You may also import a module with a alias, to shorten the module name appended each time you call its functions:"
   ]
  },
  {
   "cell_type": "code",
   "execution_count": null,
   "metadata": {},
   "outputs": [],
   "source": [
    "from datetime import date, time # importing more than one specific function from module\n",
    "date.today()"
   ]
  },
  {
   "cell_type": "code",
   "execution_count": null,
   "metadata": {},
   "outputs": [],
   "source": [
    "from statistics import * # importing all members from module\n",
    "\n",
    "mean([20,30,40])"
   ]
  },
  {
   "cell_type": "code",
   "execution_count": null,
   "metadata": {},
   "outputs": [],
   "source": [
    "import random as rdn # importing module with an alias\n",
    "\n",
    "rdn.choice([1,2,3,4,5])"
   ]
  },
  {
   "cell_type": "markdown",
   "metadata": {},
   "source": [
    "### Import your own scripts"
   ]
  },
  {
   "cell_type": "markdown",
   "metadata": {},
   "source": [
    "You may want to defined pieces of code, like classes or functions, in a script and use it in another program. Just like you can import modules, you can import your own scripts and everything that is defined within them. Here is an example of a simple script (its content) that is saved in the current directory:"
   ]
  },
  {
   "cell_type": "raw",
   "metadata": {},
   "source": [
    "# custom_module.py\n",
    "# Author: Simon Guiroy\n",
    "\n",
    "def fct(a):\n",
    "    return a+10"
   ]
  },
  {
   "cell_type": "markdown",
   "metadata": {},
   "source": [
    "You can import it and use its members:"
   ]
  },
  {
   "cell_type": "code",
   "execution_count": null,
   "metadata": {},
   "outputs": [],
   "source": [
    "import custom_module as cus_mod\n",
    "\n",
    "b = cus_mod.fct(5)\n",
    "\n",
    "b"
   ]
  },
  {
   "cell_type": "markdown",
   "metadata": {},
   "source": [
    "### Python packages"
   ]
  },
  {
   "cell_type": "markdown",
   "metadata": {},
   "source": [
    "What really makes Python so powerful, apart from its ease of use, is the vast community of users and institutions from various scientific, engineering and technical fields that use it, and who have developed packages. A python package is like a an add-on to the python standard library. A package (also called library) usually contains various functions, classes, data types and other piece of code, often specialised on a certain type of service. One relevant example is the Numpy package, specialized in scientific computing, that you will likely use when working on an engineering or scientific project."
   ]
  },
  {
   "cell_type": "markdown",
   "metadata": {},
   "source": [
    "To use a package, you first need to install it. Be sure to activate the right python environment first (to install the package for the python version you need to use). The most common way to install the \"binary package\", either with the \"pip\" command or to install the Anaconda version of the binary package:"
   ]
  },
  {
   "cell_type": "raw",
   "metadata": {},
   "source": [
    "pip install numpy # installation using pip\n",
    "\n",
    "or\n",
    "\n",
    "conda install -c anaconda numpy # installation using Anaconda "
   ]
  },
  {
   "cell_type": "markdown",
   "metadata": {},
   "source": [
    "Once the package is installed sucessfully, you can import it and then use its members:"
   ]
  },
  {
   "cell_type": "code",
   "execution_count": 3,
   "metadata": {},
   "outputs": [
    {
     "data": {
      "text/plain": [
       "array([[0., 0., 0., 0., 0.],\n",
       "       [0., 0., 0., 0., 0.],\n",
       "       [0., 0., 0., 0., 0.],\n",
       "       [0., 0., 0., 0., 0.],\n",
       "       [0., 0., 0., 0., 0.]])"
      ]
     },
     "execution_count": 3,
     "metadata": {},
     "output_type": "execute_result"
    }
   ],
   "source": [
    "import numpy as np\n",
    "\n",
    "array_2d = np.zeros([5,5])\n",
    "array_2d"
   ]
  },
  {
   "cell_type": "markdown",
   "metadata": {},
   "source": [
    "## Writing and reading data to a file"
   ]
  },
  {
   "cell_type": "markdown",
   "metadata": {},
   "source": [
    "To read data from a file or write data to a file you first need to open a file for handling it. You can use Python's built-in function *open* for that. You give *open* the name of the file and it will return a file object for you. The first argument is the name of the file and the second defines whether the file is open for reading ('r') or for writing ('w'). The default mode is 'r'.\n",
    "\n",
    "\\# You can also use open('testfile.txt')<br />\n",
    "f = open('testfile.txt', 'r')\n",
    "\n",
    "Now you can use *read* function on the file object to read the contents of the file:<br />\n",
    "data = f.read()\n",
    "\n",
    "And finally, you close the file with *close*. Not closing the file can cause problems if, for example, some other program needs\n",
    "to access the file. Here's how you close the file:<br />\n",
    "f.close()\n",
    "\n",
    "The following code will read content from a file. Note that the file needs to exist for the code to work."
   ]
  },
  {
   "cell_type": "code",
   "execution_count": 4,
   "metadata": {},
   "outputs": [],
   "source": [
    "f = open('testfile.txt', 'r')\n",
    "data = f.read()\n",
    "f.close()"
   ]
  },
  {
   "cell_type": "markdown",
   "metadata": {},
   "source": [
    "The default mode for read/write is 'r'. This means that you don't need to explicitly specify the mode when you want to read the file:"
   ]
  },
  {
   "cell_type": "code",
   "execution_count": 5,
   "metadata": {},
   "outputs": [],
   "source": [
    "f = open('testfile.txt')\n",
    "data = f.read()\n",
    "f.close()"
   ]
  },
  {
   "cell_type": "markdown",
   "metadata": {},
   "source": [
    "To write content to a file, you open it in 'w' mode:<br />\n",
    "f = open('testfile.txt', 'w')\n",
    "\n",
    "Then use *write* function to write a string into the file:<br />\n",
    "data = 'Sample string'<br />\n",
    "f.write(data)\n",
    "\n",
    "And finally, close the file handle:<br />\n",
    "f.close()\n",
    "\n",
    "Here's an example of writing a simple string to a file and reading it back again:"
   ]
  },
  {
   "cell_type": "code",
   "execution_count": 6,
   "metadata": {},
   "outputs": [
    {
     "name": "stdout",
     "output_type": "stream",
     "text": [
      "Sample string\n"
     ]
    }
   ],
   "source": [
    "f = open('testfile.txt', 'w')\n",
    "f.write('Sample string')\n",
    "f.close()\n",
    "\n",
    "f = open('testfile.txt', 'r')\n",
    "data = f.read()\n",
    "f.close()\n",
    "print(data)"
   ]
  },
  {
   "cell_type": "code",
   "execution_count": null,
   "metadata": {},
   "outputs": [],
   "source": []
  },
  {
   "cell_type": "markdown",
   "metadata": {},
   "source": [
    "You can also use so-called context manager. It will assign the open file handle to variable given after the command *as*, and close the file handle after you go out of context (indented part of the code):"
   ]
  },
  {
   "cell_type": "code",
   "execution_count": 7,
   "metadata": {},
   "outputs": [
    {
     "name": "stdout",
     "output_type": "stream",
     "text": [
      "Sample string\n"
     ]
    }
   ],
   "source": [
    "with open('testfile.txt', 'w') as f:\n",
    "    f.write('Sample string')\n",
    "\n",
    "with open('testfile.txt') as f:\n",
    "    data = f.read()\n",
    "    print(data)"
   ]
  },
  {
   "cell_type": "markdown",
   "metadata": {},
   "source": [
    "## Debugging"
   ]
  },
  {
   "cell_type": "markdown",
   "metadata": {},
   "source": [
    "When your program doesn't behave the way you would expect, we say that is has a bug. Debugging consist in finding and correcting such sources of unwanted behavior within your code. A bug may cause an error which crashes/interrupts the execution of your program. When this happens, the interpreter will output an error message, often times specifying the type of error and the location in the code, which helps in finding and correcting the bug. It may also produce a behavior that is undesired without crashing your program, which is then more tedious to debug."
   ]
  },
  {
   "cell_type": "markdown",
   "metadata": {},
   "source": [
    "### Simple debugging methods"
   ]
  },
  {
   "cell_type": "markdown",
   "metadata": {},
   "source": [
    "1. \n",
    "2. prints\n",
    "3. forced interruption\n",
    "4. documentation\n",
    "5. online forums"
   ]
  },
  {
   "cell_type": "markdown",
   "metadata": {},
   "source": [
    "#### commenting out snipets of code"
   ]
  },
  {
   "cell_type": "markdown",
   "metadata": {},
   "source": [
    "When you have a bug in your program, you may want to comment out specific lines of code, to prevent their execution, and try to spot where the bug lies."
   ]
  },
  {
   "cell_type": "markdown",
   "metadata": {},
   "source": [
    "#### use prints"
   ]
  },
  {
   "cell_type": "markdown",
   "metadata": {},
   "source": [
    "Whatever the nature of the bug, it often causes some variable to take a value it shoudn't take. You may want to inspect, at given locations of your program, the value of a certain variable, what is returned by a function, or the result of any operation, by printing that value. You can also use conditional statements for printing."
   ]
  },
  {
   "cell_type": "markdown",
   "metadata": {},
   "source": [
    "#### forced program interruption"
   ]
  },
  {
   "cell_type": "markdown",
   "metadata": {},
   "source": [
    "For some reason, you may want to interrupt the execution of your program at some location in the code or under a certain condition. The reason might be that you know that the bug lies at the beginning of the script and don't want to execute all of it each time you try something. You may also want to get out of an infinite loop, or want to inspect some variable or output of your program (ex: an outputted text file) after some point in time, but want to prevent subsequent operations from your program that will alter those outputs. In any case, you can forcibly interrupt your program using the \"sys\" module and its \"exit\" function:"
   ]
  },
  {
   "cell_type": "code",
   "execution_count": 8,
   "metadata": {},
   "outputs": [
    {
     "name": "stdout",
     "output_type": "stream",
     "text": [
      "51\n"
     ]
    },
    {
     "ename": "SystemExit",
     "evalue": "",
     "output_type": "error",
     "traceback": [
      "An exception has occurred, use %tb to see the full traceback.\n",
      "\u001b[1;31mSystemExit\u001b[0m\n"
     ]
    },
    {
     "name": "stderr",
     "output_type": "stream",
     "text": [
      "C:\\Users\\Stephanie\\AppData\\Local\\Programs\\Python\\Python36\\lib\\site-packages\\IPython\\core\\interactiveshell.py:2918: UserWarning: To exit: use 'exit', 'quit', or Ctrl-D.\n",
      "  warn(\"To exit: use 'exit', 'quit', or Ctrl-D.\", stacklevel=1)\n"
     ]
    }
   ],
   "source": [
    "import sys\n",
    "\n",
    "a = 0\n",
    "while True:\n",
    "    a += 1\n",
    "    if (a > 50):\n",
    "        print (a)\n",
    "        sys.exit()\n",
    "    "
   ]
  },
  {
   "cell_type": "markdown",
   "metadata": {},
   "source": [
    "### Errors in python"
   ]
  },
  {
   "cell_type": "markdown",
   "metadata": {},
   "source": [
    "1. Syntax errors\n",
    "2. Exceptions (runtime errors)"
   ]
  },
  {
   "cell_type": "markdown",
   "metadata": {},
   "source": [
    "#### Syntax errors"
   ]
  },
  {
   "cell_type": "markdown",
   "metadata": {},
   "source": [
    "When beginning programming in Python (but as for any language), many bugs provoke syntax errors. These errors, araise from not respecting the proper syntax of the language, which is essential for the interpreter to know how to execute the program. Luckily, those errors are ponited out by the interpreter's output and are usually more easy to solve."
   ]
  },
  {
   "cell_type": "markdown",
   "metadata": {},
   "source": [
    "*Don't run cell below:*"
   ]
  },
  {
   "cell_type": "code",
   "execution_count": 9,
   "metadata": {},
   "outputs": [
    {
     "ename": "SyntaxError",
     "evalue": "invalid syntax (<ipython-input-9-b940826e3ab3>, line 1)",
     "output_type": "error",
     "traceback": [
      "\u001b[1;36m  File \u001b[1;32m\"<ipython-input-9-b940826e3ab3>\"\u001b[1;36m, line \u001b[1;32m1\u001b[0m\n\u001b[1;33m    while True print('Hello world')\u001b[0m\n\u001b[1;37m                   ^\u001b[0m\n\u001b[1;31mSyntaxError\u001b[0m\u001b[1;31m:\u001b[0m invalid syntax\n"
     ]
    }
   ],
   "source": [
    ">>> while True print('Hello world')\n",
    "  File \"<stdin>\", line 1\n",
    "    while True print('Hello world')\n",
    "                   ^\n",
    "SyntaxError: invalid syntax"
   ]
  },
  {
   "cell_type": "markdown",
   "metadata": {},
   "source": [
    "#### Exceptions"
   ]
  },
  {
   "cell_type": "markdown",
   "metadata": {},
   "source": [
    "Even if a statement or expression is syntactically correct, it may cause an error when an attempt is made to execute it. Errors detected during execution are called exceptions."
   ]
  },
  {
   "cell_type": "markdown",
   "metadata": {},
   "source": [
    "*Don't run cell below:*"
   ]
  },
  {
   "cell_type": "code",
   "execution_count": 10,
   "metadata": {},
   "outputs": [
    {
     "ename": "SyntaxError",
     "evalue": "invalid syntax (<ipython-input-10-441f54fcbec9>, line 2)",
     "output_type": "error",
     "traceback": [
      "\u001b[1;36m  File \u001b[1;32m\"<ipython-input-10-441f54fcbec9>\"\u001b[1;36m, line \u001b[1;32m2\u001b[0m\n\u001b[1;33m    Traceback (most recent call last):\u001b[0m\n\u001b[1;37m                         ^\u001b[0m\n\u001b[1;31mSyntaxError\u001b[0m\u001b[1;31m:\u001b[0m invalid syntax\n"
     ]
    }
   ],
   "source": [
    ">>> 10 * (1/0)\n",
    "Traceback (most recent call last):\n",
    "  File \"<stdin>\", line 1, in <module>\n",
    "ZeroDivisionError: division by zero\n",
    ">>> 4 + spam*3\n",
    "Traceback (most recent call last):\n",
    "  File \"<stdin>\", line 1, in <module>\n",
    "NameError: name 'spam' is not defined\n",
    ">>> '2' + 2\n",
    "Traceback (most recent call last):\n",
    "  File \"<stdin>\", line 1, in <module>\n",
    "TypeError: Can't convert 'int' object to str implicitly"
   ]
  },
  {
   "cell_type": "markdown",
   "metadata": {},
   "source": [
    "### pdb - The Python Debugger"
   ]
  },
  {
   "cell_type": "markdown",
   "metadata": {},
   "source": [
    "Covering the python debugger module is beyond the scope of this course, but we encourage you to go look at its documentation online (part of your assignment):\n",
    "https://docs.python.org/3/library/pdb.html"
   ]
  },
  {
   "cell_type": "markdown",
   "metadata": {},
   "source": [
    "## Documentation"
   ]
  },
  {
   "cell_type": "markdown",
   "metadata": {},
   "source": [
    "The official documentation tell you everything you need to know about Python, its syntax, its modules, some tutorials, and more.\n",
    "\n",
    "https://docs.python.org/3/index.html\n",
    "\n",
    "The first thing to do when using the documentaiton is specifying the python version you are using (dropdown list in top left corner of the webpage)"
   ]
  },
  {
   "cell_type": "markdown",
   "metadata": {},
   "source": [
    "The first main component of the documentation is the The Python Language Reference. This reference manual describes the syntax and “core semantics” of the language. It basically contains all the information about \"how to write\" Python code."
   ]
  },
  {
   "cell_type": "markdown",
   "metadata": {},
   "source": [
    "The second main component is the The Python Standard Library. This library reference manual describes the standard library that is distributed with Python, describing all of the built-in elements but also all of the modules and their classes, functions, etc. It also describes some of the optional components that are commonly included in Python distributions."
   ]
  },
  {
   "cell_type": "markdown",
   "metadata": {},
   "source": [
    "When you are not sure about the behavior of a certain function, or if a some function already exist to do what you need to code, you should first look at this part of the documentation."
   ]
  },
  {
   "cell_type": "markdown",
   "metadata": {},
   "source": [
    "Modules are regrouped within sections. For example, when doing mathematical operations, you will often work with modules from the section \"9. Numeric and Mathematical Modules\", the module \"math\" being one of them. Its functions are in turn divided into subsections. Each function is described, along with its arguments, the operations performed by the function, and what is returned by the function. Some functions may have variants that use different arguments. Some functions are also provided with an example."
   ]
  },
  {
   "cell_type": "markdown",
   "metadata": {},
   "source": [
    "If you want to have a look at the exact operations performed by a function, you can have a look at  the source code, if publicly available, but the Standard Python Library is, as well as many packages. A good place to look for source code is github.com, a website for hosting code (it also provides version control services)."
   ]
  }
 ],
 "metadata": {
  "kernelspec": {
   "display_name": "Python 3",
   "language": "python",
   "name": "python3"
  },
  "language_info": {
   "codemirror_mode": {
    "name": "ipython",
    "version": 3
   },
   "file_extension": ".py",
   "mimetype": "text/x-python",
   "name": "python",
   "nbconvert_exporter": "python",
   "pygments_lexer": "ipython3",
   "version": "3.6.5"
  }
 },
 "nbformat": 4,
 "nbformat_minor": 2
}
