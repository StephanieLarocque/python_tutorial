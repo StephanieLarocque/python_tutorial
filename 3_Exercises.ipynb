{
 "cells": [
  {
   "cell_type": "markdown",
   "metadata": {
    "colab_type": "text",
    "id": "o6Bw80nGpabP"
   },
   "source": [
    "# Lecture 3 - Problem Solving\n",
    "# Topic : Using and Writing Functions"
   ]
  },
  {
   "cell_type": "markdown",
   "metadata": {
    "colab_type": "text",
    "id": "YTGhTm52pabT"
   },
   "source": [
    "Give a function that prints the 10 first integers."
   ]
  },
  {
   "cell_type": "code",
   "execution_count": null,
   "metadata": {
    "colab": {
     "autoexec": {
      "startup": false,
      "wait_interval": 0
     }
    },
    "colab_type": "code",
    "id": "pG-tduaPpabV"
   },
   "outputs": [],
   "source": [
    "def count_to_10():\n",
    "    #complete the body\n",
    "    pass"
   ]
  },
  {
   "cell_type": "markdown",
   "metadata": {
    "colab_type": "text",
    "id": "mpyTyWSxpabd"
   },
   "source": [
    "Give a function that prints the 15 first integers"
   ]
  },
  {
   "cell_type": "code",
   "execution_count": null,
   "metadata": {
    "colab": {
     "autoexec": {
      "startup": false,
      "wait_interval": 0
     }
    },
    "colab_type": "code",
    "id": "x2VXI9w0pabg"
   },
   "outputs": [],
   "source": [
    "def count_to_15():\n",
    "    #complete the body\n",
    "    pass"
   ]
  },
  {
   "cell_type": "markdown",
   "metadata": {
    "colab_type": "text",
    "id": "LA8j1yQwpabm"
   },
   "source": [
    "Give a function that prints the $n$ first integers, where $n$ is a parameter given by the user."
   ]
  },
  {
   "cell_type": "code",
   "execution_count": null,
   "metadata": {
    "colab": {
     "autoexec": {
      "startup": false,
      "wait_interval": 0
     }
    },
    "colab_type": "code",
    "id": "LfoahQjUpabo"
   },
   "outputs": [],
   "source": [
    "def count_to_n(n):\n",
    "    #complete the body\n",
    "    pass"
   ]
  },
  {
   "cell_type": "markdown",
   "metadata": {
    "colab_type": "text",
    "id": "nhduSwtspabu"
   },
   "source": [
    "What is wrong with the following calls?\n",
    "\n",
    "\n",
    "\n",
    "```\n",
    "count_to_10(10)\n",
    "count_to_n()\n",
    "count_to_n(3, 5)\n",
    "count_to_n(3.2)\n",
    "```\n",
    "\n"
   ]
  },
  {
   "cell_type": "code",
   "execution_count": null,
   "metadata": {
    "colab": {
     "autoexec": {
      "startup": false,
      "wait_interval": 0
     }
    },
    "colab_type": "code",
    "id": "_NXbzht3pabv"
   },
   "outputs": [],
   "source": []
  },
  {
   "cell_type": "markdown",
   "metadata": {
    "colab_type": "text",
    "id": "4ZKkcjz-pab8"
   },
   "source": [
    "### Write programs (functions) to find the area and volume of the following figures given their appropriate dimensions;\n",
    "- Cube\n",
    "- Cylinder\n",
    "- Sphere\n",
    "- Cone\n",
    "- Square Pyramid\n",
    "\n",
    "Recall that the areas and volumes are given by:\n",
    "- Cube. \n",
    "    - Surface area = 6$s^2$, where s = edge size\n",
    "    - Volume = $s^3$, where s = length of the side\n",
    "- Cylinder. \n",
    "    - Surface area = 2$\\pi r^2 + 2\\pi r h$, where $r$ is the radius and $h$ the height of the cylinder\n",
    "    - Volume = $\\pi r^2 h$, where $r$ is the radius and $h$ the height\n",
    "- Sphere. \n",
    "    - Surface area = $4\\pi r^2$\n",
    "    - Volume = $\\frac{4}{3}\\pi r^3$, where $r$ is the radius.\n",
    "- Cone. \n",
    "    - Surface area = $\\pi r s + \\pi r^2$, where $r$ is the radius an $s$ is the slant height.\n",
    "    - Volume =$\\frac{1}{3}\\pi r^2 h$, where $r$ is the radius and $h$ the height\n",
    "- Pyramid. \n",
    "    - Surface area = $2bs + b^2$, where $b$ is the side length of the square base and $s$, the slant height of the face of the square pyramid. \n",
    "    - Volume = $\\frac{1}{3}b^2 h$, where $b$ is the length of the base side and $h$ the height of the pyramid\n"
   ]
  },
  {
   "cell_type": "code",
   "execution_count": null,
   "metadata": {
    "colab": {
     "autoexec": {
      "startup": false,
      "wait_interval": 0
     },
     "base_uri": "https://localhost:8080/",
     "height": 33
    },
    "colab_type": "code",
    "executionInfo": {
     "elapsed": 301,
     "status": "ok",
     "timestamp": 1530635159996,
     "user": {
      "displayName": "Stephanie Larocque",
      "photoUrl": "https://lh3.googleusercontent.com/a/default-user=s128",
      "userId": "104636356411980802491"
     },
     "user_tz": 240
    },
    "id": "Aal8QNCPpab9",
    "outputId": "09f7c96d-e6d5-4403-e900-a5c190f98051"
   },
   "outputs": [],
   "source": [
    "# area_cube is given, complete the 9 other functions\n",
    "def area_cube(s):\n",
    "    return 6 * (s**2)\n",
    "\n",
    "def volume_cube(s):\n",
    "    return 0\n",
    "\n",
    "\n",
    "edge = 3  \n",
    "print(\"edge\", edge, \"area\", area_cube(edge), \"volume\",  volume_cube(edge))\n",
    "\n",
    "\n"
   ]
  },
  {
   "cell_type": "code",
   "execution_count": null,
   "metadata": {
    "colab": {
     "autoexec": {
      "startup": false,
      "wait_interval": 0
     },
     "base_uri": "https://localhost:8080/",
     "height": 37
    },
    "colab_type": "code",
    "executionInfo": {
     "elapsed": 366,
     "status": "ok",
     "timestamp": 1530635190237,
     "user": {
      "displayName": "Stephanie Larocque",
      "photoUrl": "https://lh3.googleusercontent.com/a/default-user=s128",
      "userId": "104636356411980802491"
     },
     "user_tz": 240
    },
    "id": "4fYHgE_F9TvO",
    "outputId": "0bea1f13-7d68-447e-cb1c-faea5247b160"
   },
   "outputs": [],
   "source": [
    "# Cylinder\n",
    "def area_cylinder():\n",
    "    return\n",
    "\n",
    "def volume_cylinder():\n",
    "    return\n",
    "\n",
    "# Test your answers\n"
   ]
  },
  {
   "cell_type": "code",
   "execution_count": null,
   "metadata": {
    "colab": {
     "autoexec": {
      "startup": false,
      "wait_interval": 0
     },
     "base_uri": "https://localhost:8080/",
     "height": 37
    },
    "colab_type": "code",
    "executionInfo": {
     "elapsed": 6175,
     "status": "ok",
     "timestamp": 1530635074037,
     "user": {
      "displayName": "Stephanie Larocque",
      "photoUrl": "https://lh3.googleusercontent.com/a/default-user=s128",
      "userId": "104636356411980802491"
     },
     "user_tz": 240
    },
    "id": "d9N7KeQA9YdT",
    "outputId": "26fadbb9-06f2-40ba-bd1d-a9503934fafa"
   },
   "outputs": [],
   "source": [
    "# Sphere"
   ]
  },
  {
   "cell_type": "code",
   "execution_count": null,
   "metadata": {
    "colab": {
     "autoexec": {
      "startup": false,
      "wait_interval": 0
     },
     "base_uri": "https://localhost:8080/",
     "height": 37
    },
    "colab_type": "code",
    "executionInfo": {
     "elapsed": 588,
     "status": "ok",
     "timestamp": 1530635074713,
     "user": {
      "displayName": "Stephanie Larocque",
      "photoUrl": "https://lh3.googleusercontent.com/a/default-user=s128",
      "userId": "104636356411980802491"
     },
     "user_tz": 240
    },
    "id": "GfuN4iq19YlC",
    "outputId": "699936a5-ff04-45e8-f121-c7a98ca8b03a"
   },
   "outputs": [],
   "source": [
    "# Cone"
   ]
  },
  {
   "cell_type": "code",
   "execution_count": null,
   "metadata": {
    "colab": {
     "autoexec": {
      "startup": false,
      "wait_interval": 0
     },
     "base_uri": "https://localhost:8080/",
     "height": 37
    },
    "colab_type": "code",
    "executionInfo": {
     "elapsed": 317,
     "status": "ok",
     "timestamp": 1530635075112,
     "user": {
      "displayName": "Stephanie Larocque",
      "photoUrl": "https://lh3.googleusercontent.com/a/default-user=s128",
      "userId": "104636356411980802491"
     },
     "user_tz": 240
    },
    "id": "awf9eXKx9Ypa",
    "outputId": "a7b74c44-93de-435d-f354-6eabad79131e"
   },
   "outputs": [],
   "source": [
    "# Pyramid"
   ]
  },
  {
   "cell_type": "markdown",
   "metadata": {
    "colab_type": "text",
    "id": "vWKutSykpacC"
   },
   "source": [
    "Combine these programs into a single program. This program should prompt the user to enter a solid figure with its dimensions and the program should return its volume and area. You can use your functions above inside that function"
   ]
  },
  {
   "cell_type": "code",
   "execution_count": null,
   "metadata": {
    "colab": {
     "autoexec": {
      "startup": false,
      "wait_interval": 0
     }
    },
    "colab_type": "code",
    "id": "pmJ-rYwMpacD"
   },
   "outputs": [],
   "source": [
    "def area_and_volume():\n",
    "  \n",
    "  \n",
    "  \n",
    "  pass"
   ]
  },
  {
   "cell_type": "code",
   "execution_count": null,
   "metadata": {
    "colab": {
     "autoexec": {
      "startup": false,
      "wait_interval": 0
     }
    },
    "colab_type": "code",
    "id": "nLI0IV2rpacH"
   },
   "outputs": [],
   "source": []
  },
  {
   "cell_type": "markdown",
   "metadata": {
    "colab_type": "text",
    "id": "XuLurS_upacL"
   },
   "source": [
    "Write a function that returns the average of 2 numbers (given in parameters). Your function should be names ```average```"
   ]
  },
  {
   "cell_type": "code",
   "execution_count": null,
   "metadata": {
    "colab": {
     "autoexec": {
      "startup": false,
      "wait_interval": 0
     }
    },
    "colab_type": "code",
    "id": "wlZ5h6rKpacL"
   },
   "outputs": [],
   "source": [
    "# Define your function here\n"
   ]
  },
  {
   "cell_type": "code",
   "execution_count": null,
   "metadata": {
    "colab": {
     "autoexec": {
      "startup": false,
      "wait_interval": 0
     }
    },
    "colab_type": "code",
    "id": "Ya-MHyf7pacO"
   },
   "outputs": [],
   "source": [
    "# This should print 15\n",
    "average(10, 20)"
   ]
  },
  {
   "cell_type": "code",
   "execution_count": null,
   "metadata": {
    "colab": {
     "autoexec": {
      "startup": false,
      "wait_interval": 0
     }
    },
    "colab_type": "code",
    "id": "soLOH2XbpacS"
   },
   "outputs": [],
   "source": [
    "a = 2\n",
    "b = 10\n",
    "c = average(a, b)\n",
    "d = average(10, 20)\n",
    "print(c + d, \"should be 21\")"
   ]
  },
  {
   "cell_type": "code",
   "execution_count": null,
   "metadata": {
    "colab": {
     "autoexec": {
      "startup": false,
      "wait_interval": 0
     }
    },
    "colab_type": "code",
    "id": "2sbdaXWipacW"
   },
   "outputs": [],
   "source": []
  },
  {
   "cell_type": "markdown",
   "metadata": {},
   "source": [
    "Write a Python function to check whether a number is in a given range."
   ]
  },
  {
   "cell_type": "code",
   "execution_count": null,
   "metadata": {},
   "outputs": [],
   "source": [
    "def in_range(number, min_range, max_range):\n",
    "    pass"
   ]
  },
  {
   "cell_type": "markdown",
   "metadata": {
    "colab_type": "text",
    "id": "k2WEZcQWpacY"
   },
   "source": [
    "Make a program that asks 2 integers to the user and then print them."
   ]
  },
  {
   "cell_type": "code",
   "execution_count": null,
   "metadata": {
    "colab": {
     "autoexec": {
      "startup": false,
      "wait_interval": 0
     }
    },
    "colab_type": "code",
    "id": "QEFsrvjApaca"
   },
   "outputs": [],
   "source": [
    "def get_int():\n",
    "    integer_from_user = int(input(\"Please enter an integer: \"))\n",
    "    return integer_from_user\n",
    "\n",
    "def main():\n",
    "    # Write your program here\n",
    "    pass\n",
    "\n",
    "\n",
    "# Run the program\n",
    "main()"
   ]
  },
  {
   "cell_type": "markdown",
   "metadata": {
    "colab": {
     "autoexec": {
      "startup": false,
      "wait_interval": 0
     }
    },
    "colab_type": "code",
    "id": "l_BFsBFupacb"
   },
   "source": [
    "Create a program that prints n! (1*2*3*...*n) for a given variable n.\n",
    "Check that 6! gives you 720."
   ]
  },
  {
   "cell_type": "code",
   "execution_count": null,
   "metadata": {},
   "outputs": [],
   "source": [
    "def factorial(n):\n",
    "    # Write program to calculate and print n! (1*2*3*...*n)"
   ]
  },
  {
   "cell_type": "markdown",
   "metadata": {},
   "source": [
    "Create a program that takes a number called base and an integer called power and prints out the value of a to the power of b.\n",
    "The value of b should be 2 by default."
   ]
  },
  {
   "cell_type": "code",
   "execution_count": null,
   "metadata": {},
   "outputs": [],
   "source": [
    "# Modify the following line to have 2 as the default value of power.\n",
    "def power(base, power):\n",
    "    # Calculate and print base to the power of the variable power."
   ]
  },
  {
   "cell_type": "markdown",
   "metadata": {},
   "source": [
    "Create a program that returns the result of the sum 1+2+3+...+n"
   ]
  },
  {
   "cell_type": "code",
   "execution_count": null,
   "metadata": {},
   "outputs": [],
   "source": [
    "def sum_up_to_n(n):\n",
    "    # Write a program to calculate 1+2+3+...+n and return the result here"
   ]
  },
  {
   "cell_type": "markdown",
   "metadata": {},
   "source": [
    "Create a program that returns the result of the sum 1+(1+2)+(1+2+3)+(1+2+3+4+...+n).\n",
    "Use the previous function sum_up_to_n to help you.\n",
    "Verify that the function with the value n=5 gives you 35."
   ]
  },
  {
   "cell_type": "code",
   "execution_count": null,
   "metadata": {},
   "outputs": [],
   "source": [
    "def sum_of_sums_up_to_n(n):\n",
    "    # Write a program to calculate the sums of 1, 3, 6, 10, 15, ... (1, 1+2, 1+2+3, ..., 1+2+3+...+n)"
   ]
  },
  {
   "cell_type": "code",
   "execution_count": null,
   "metadata": {},
   "outputs": [],
   "source": []
  },
  {
   "cell_type": "code",
   "execution_count": null,
   "metadata": {},
   "outputs": [],
   "source": []
  },
  {
   "cell_type": "code",
   "execution_count": null,
   "metadata": {},
   "outputs": [],
   "source": []
  }
 ],
 "metadata": {
  "colab": {
   "collapsed_sections": [],
   "default_view": {},
   "name": "3_Exercices.ipynb",
   "provenance": [],
   "version": "0.3.2",
   "views": {}
  },
  "kernelspec": {
   "display_name": "Python 3",
   "language": "python",
   "name": "python3"
  },
  "language_info": {
   "codemirror_mode": {
    "name": "ipython",
    "version": 3
   },
   "file_extension": ".py",
   "mimetype": "text/x-python",
   "name": "python",
   "nbconvert_exporter": "python",
   "pygments_lexer": "ipython3",
   "version": "3.6.5"
  }
 },
 "nbformat": 4,
 "nbformat_minor": 1
}
