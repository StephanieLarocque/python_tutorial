{
 "cells": [
  {
   "cell_type": "markdown",
   "metadata": {
    "colab_type": "text",
    "id": "6M4m1rwBRe1l"
   },
   "source": [
    "# Lecture 7 : Exercises\n",
    "\n",
    "# Topic - Working inside a terminal, Imports, Debugging, Documentation, Online forums"
   ]
  },
  {
   "cell_type": "markdown",
   "metadata": {
    "colab_type": "text",
    "id": "H9y74DNqRe1q"
   },
   "source": [
    "## Writing and reading files"
   ]
  },
  {
   "cell_type": "code",
   "execution_count": 0,
   "metadata": {
    "colab": {
     "autoexec": {
      "startup": false,
      "wait_interval": 0
     }
    },
    "colab_type": "code",
    "id": "-iYy31RqRe1t"
   },
   "outputs": [],
   "source": [
    "values = [1, 2, 3, 4, 5, 6, 7, 8, 9]"
   ]
  },
  {
   "cell_type": "markdown",
   "metadata": {
    "colab_type": "text",
    "id": "ojDmOXwKRe15"
   },
   "source": [
    "Write a function that stores values from a list to a file with one space between each value."
   ]
  },
  {
   "cell_type": "code",
   "execution_count": 0,
   "metadata": {
    "colab": {
     "autoexec": {
      "startup": false,
      "wait_interval": 0
     }
    },
    "colab_type": "code",
    "id": "RGHEE4rIRe18"
   },
   "outputs": [],
   "source": [
    "def write(filename, list1):\n",
    "    # Write your code here\n",
    "    pass"
   ]
  },
  {
   "cell_type": "markdown",
   "metadata": {
    "colab": {
     "autoexec": {
      "startup": false,
      "wait_interval": 0
     }
    },
    "colab_type": "code",
    "id": "D_M_Tr4ERe2G"
   },
   "source": [
    "Write a function that reads the previous values from a given file, separates values to a list and returns that list."
   ]
  },
  {
   "cell_type": "code",
   "execution_count": 0,
   "metadata": {
    "colab": {
     "autoexec": {
      "startup": false,
      "wait_interval": 0
     }
    },
    "colab_type": "code",
    "id": "0y9_fu3vRe2P"
   },
   "outputs": [],
   "source": [
    "def read(filename):\n",
    "    # Write your code here"
   ]
  },
  {
   "cell_type": "code",
   "execution_count": 0,
   "metadata": {
    "colab": {
     "autoexec": {
      "startup": false,
      "wait_interval": 0
     }
    },
    "colab_type": "code",
    "id": "bVIioXioRe2Z"
   },
   "outputs": [],
   "source": [
    "# Test your code\n",
    "write('values.txt', values)\n",
    "print(read('values.txt'))\n"
   ]
  },
  {
   "cell_type": "markdown",
   "metadata": {
    "colab_type": "text",
    "id": "QuiR7iVNRe2j"
   },
   "source": [
    "## Working inside a terminal, creating scripts, imports, doc strings, help"
   ]
  },
  {
   "cell_type": "markdown",
   "metadata": {
    "colab_type": "text",
    "id": "6l56QLgNRe2m"
   },
   "source": [
    "1. Open a python interactive session and through it, compute the value of 100! (factorial of 100), and then print a message to tell the user what is the value 100!. Then, exit the interactive session.\n",
    "\n",
    "2. Write a first python script (script1) that contains a function definition and some executable code. The function (compute_sphere) that computes the volume of a sphere. The program must prompt the user for the radius of the sphere, use that defined function, and then print the result volume, before terminating.\n",
    "\n",
    "3. call your python script from the command prompt\n",
    "\n",
    "4. Create a second python script (script2) where you will place your move your compute_volume function. Then, in script1, instead of the compute_volume function, define a function that computes the weight (compute_weight) of a sphere, given a radius and a volumetric density (the weights is computed from the density in kg/m^3 and the volume in m^3). Inside that function, instead of rewriting code to compute volume, use the compute_volume function from script2 using an import. Change the printed output of your script1 so that it displays the weight and the volume on two different lines.\n",
    "5. Go back to the compute_weight function, and write a doc string where you specify each of the following informations, one per line: author, date of creation, short description of what the function does.\n",
    "\n",
    "6. in an interactive session, try displaying the doc string of the compute_weight function using the help function."
   ]
  },
  {
   "cell_type": "markdown",
   "metadata": {
    "colab_type": "text",
    "id": "Sqq1ZrRfRe2p"
   },
   "source": [
    " "
   ]
  },
  {
   "cell_type": "code",
   "execution_count": 0,
   "metadata": {
    "colab": {
     "autoexec": {
      "startup": false,
      "wait_interval": 0
     }
    },
    "colab_type": "code",
    "id": "0ZNOA3QqRe2s"
   },
   "outputs": [],
   "source": []
  },
  {
   "cell_type": "code",
   "execution_count": 0,
   "metadata": {
    "colab": {
     "autoexec": {
      "startup": false,
      "wait_interval": 0
     }
    },
    "colab_type": "code",
    "id": "nawlUoUFRe3e"
   },
   "outputs": [],
   "source": []
  }
 ],
 "metadata": {
  "colab": {
   "default_view": {},
   "name": "7_Exercises.ipynb",
   "provenance": [],
   "version": "0.3.2",
   "views": {}
  },
  "kernelspec": {
   "display_name": "Python 3",
   "language": "python",
   "name": "python3"
  },
  "language_info": {
   "codemirror_mode": {
    "name": "ipython",
    "version": 3
   },
   "file_extension": ".py",
   "mimetype": "text/x-python",
   "name": "python",
   "nbconvert_exporter": "python",
   "pygments_lexer": "ipython3",
   "version": "3.6.5"
  }
 },
 "nbformat": 4,
 "nbformat_minor": 1
}
