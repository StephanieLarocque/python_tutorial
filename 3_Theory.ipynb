{
 "cells": [
  {
   "cell_type": "markdown",
   "metadata": {},
   "source": [
    "# Lecture 3 - Theory\n",
    "# Topic : Using and Writing Functions"
   ]
  },
  {
   "cell_type": "markdown",
   "metadata": {},
   "source": [
    "A function is a block of organized, reusable code that is used to perform a single action (preferably). When some operations are often needed, or when nothing changes except the input values, instead of rewriting the required code, one will instead write a function that performs those operations. Functions usually make a program shorter, more structured and readible.\n",
    "\n",
    "You've already seen many examples of Python built-in function. In this lesson we will cover how to use functions, as well as how to defining your own functions."
   ]
  },
  {
   "cell_type": "markdown",
   "metadata": {},
   "source": [
    "### Calling a function\n",
    "\n",
    "Once a function has been defined, it can be called and executed within a program. If the function returns a value (could be more than one) after its ```return``` statement, it can be assigned to a variable where the function is called.\n",
    "\n",
    "We already know some functions :\n",
    "- ```print``` function\n",
    "- ```range``` function\n",
    "- ```input``` function\n",
    "\n",
    "Here are some new mathematical functions. We can use them once we have import the right package using:\n",
    "\n",
    "```import math```\n",
    "\n",
    "- ```math.sqrt```\n",
    "- ```math.pow```\n",
    "- ```math.fabs```\n",
    "\n"
   ]
  },
  {
   "cell_type": "code",
   "execution_count": 1,
   "metadata": {},
   "outputs": [],
   "source": [
    "import math"
   ]
  },
  {
   "cell_type": "code",
   "execution_count": 2,
   "metadata": {},
   "outputs": [
    {
     "name": "stdout",
     "output_type": "stream",
     "text": [
      "x 16 square root 4.0\n"
     ]
    }
   ],
   "source": [
    "x = 16\n",
    "square_root = math.sqrt(x)\n",
    "print(\"x\", x, \"square root\", square_root)"
   ]
  },
  {
   "cell_type": "code",
   "execution_count": 3,
   "metadata": {
    "scrolled": true
   },
   "outputs": [
    {
     "name": "stdout",
     "output_type": "stream",
     "text": [
      "Help on built-in function pow in module math:\n",
      "\n",
      "pow(...)\n",
      "    pow(x, y)\n",
      "    \n",
      "    Return x**y (x to the power of y).\n",
      "\n",
      "Now we know how to use it!\n"
     ]
    }
   ],
   "source": [
    "# What is the math.pow function?\n",
    "\n",
    "help(math.pow)\n",
    "\n",
    "print(\"Now we know how to use it!\")"
   ]
  },
  {
   "cell_type": "code",
   "execution_count": 4,
   "metadata": {},
   "outputs": [
    {
     "name": "stdout",
     "output_type": "stream",
     "text": [
      "a^b using the pow function 9\n",
      "a^b using the exponentiation (**) symbol 9\n"
     ]
    }
   ],
   "source": [
    "a = 3\n",
    "b = 2\n",
    "\n",
    "print(\"a^b using the pow function\",pow(a, b))\n",
    "print(\"a^b using the exponentiation (**) symbol\", a**b)"
   ]
  },
  {
   "cell_type": "code",
   "execution_count": 5,
   "metadata": {},
   "outputs": [
    {
     "name": "stdout",
     "output_type": "stream",
     "text": [
      "Help on built-in function fabs in module math:\n",
      "\n",
      "fabs(...)\n",
      "    fabs(x)\n",
      "    \n",
      "    Return the absolute value of the float x.\n",
      "\n"
     ]
    }
   ],
   "source": [
    "# What is math.fabs function doing ??\n",
    "help(math.fabs)\n"
   ]
  },
  {
   "cell_type": "code",
   "execution_count": 6,
   "metadata": {},
   "outputs": [
    {
     "name": "stdout",
     "output_type": "stream",
     "text": [
      "x -14 absolute value 14.0\n",
      "y 14.5 absolute value 14.5\n",
      "z -7.5 absolute value 7.5\n"
     ]
    }
   ],
   "source": [
    "# Now we can use it !\n",
    "\n",
    "x = - 14\n",
    "y = 14.5\n",
    "z = -7.5\n",
    "\n",
    "print(\"x\", x, \"absolute value\", math.fabs(x))\n",
    "print(\"y\", y, \"absolute value\", math.fabs(y))\n",
    "print(\"z\", z, \"absolute value\", math.fabs(z))"
   ]
  },
  {
   "cell_type": "markdown",
   "metadata": {},
   "source": [
    "#### Defining a function\n",
    "\n",
    "Every function needs to be defined (created) before it can be called (used) within a program. Some are built-in functions (already defined), like ```print``` and ```range``` function. For personal use functions, you need to define them.\n",
    "\n",
    "A function definition begins with the keyword ```def```, followed by the function name and arguments between parentheses. \n",
    "\n",
    "Any input arguments that the function takes (if any) are placed within these parentheses.\n",
    "\n",
    "The parentheses are followd by a colon (:), and then the code block starts on the next line, with an indentation.\n",
    "\n",
    "The statement ```return``` exits the function, and can optionally return a value that is accessible where the function was called.\n",
    "\n",
    "It is also good practice, but optional, to write a textual description of what the function does, using what is called a \"doc string\", as the first statement within the function code block.\n",
    "\n",
    "\n",
    "#### Syntax:\n",
    "\n",
    "```\n",
    "def function_name(parameter1, parameter2, parameter3, ..., last_parameter):\n",
    "    body of function\n",
    "    return [something, or None]```"
   ]
  },
  {
   "cell_type": "code",
   "execution_count": 7,
   "metadata": {},
   "outputs": [],
   "source": [
    "def sum_of_two_numbers(a, b):\n",
    "    \"\"\"Useless function to return the sum of 2 numbers \n",
    "    (since it is already been taken care of using the + sign)\"\"\"\n",
    "    return a + b"
   ]
  },
  {
   "cell_type": "code",
   "execution_count": 8,
   "metadata": {},
   "outputs": [
    {
     "name": "stdout",
     "output_type": "stream",
     "text": [
      "sum of 2 numbers using the function 7\n",
      "sum of 2 numbers using the + symbol 7\n",
      "Same!\n"
     ]
    }
   ],
   "source": [
    "a = 5\n",
    "b = 2\n",
    "print(\"sum of 2 numbers using the function\", sum_of_two_numbers(a, b))\n",
    "print(\"sum of 2 numbers using the + symbol\", a+b)\n",
    "\n",
    "print(\"Same!\")\n",
    "\n"
   ]
  },
  {
   "cell_type": "code",
   "execution_count": 9,
   "metadata": {},
   "outputs": [
    {
     "name": "stdout",
     "output_type": "stream",
     "text": [
      "Sum of the 2 numbers -2\n"
     ]
    }
   ],
   "source": [
    "# We can have different variable names (beside a and b)\n",
    "c = 3\n",
    "d = -5\n",
    "print(\"Sum of the 2 numbers\", sum_of_two_numbers(c, d))"
   ]
  },
  {
   "cell_type": "code",
   "execution_count": 10,
   "metadata": {},
   "outputs": [],
   "source": [
    "def hello_you(name, age):\n",
    "    print(\"Hi\", name, \"You are\", age, \"years old\")\n",
    "    "
   ]
  },
  {
   "cell_type": "code",
   "execution_count": 11,
   "metadata": {},
   "outputs": [
    {
     "name": "stdout",
     "output_type": "stream",
     "text": [
      "Hi Stephanie You are 100 years old\n"
     ]
    }
   ],
   "source": [
    "my_name = \"Stephanie\"\n",
    "my_age = 100\n",
    "hello_you(my_name, my_age)"
   ]
  },
  {
   "cell_type": "code",
   "execution_count": 12,
   "metadata": {},
   "outputs": [
    {
     "name": "stdout",
     "output_type": "stream",
     "text": [
      "Hi 100 You are Stephanie years old\n",
      "\n",
      "Then the name variable inside the function is the my_age variable outside, and vice-versa.\n"
     ]
    }
   ],
   "source": [
    "# What happens if we switch the name and age by accident ?\n",
    "\n",
    "hello_you(my_age, my_name)\n",
    "print(\"\\nThen the name variable inside the function is the my_age variable outside, and vice-versa.\")"
   ]
  },
  {
   "cell_type": "code",
   "execution_count": 13,
   "metadata": {},
   "outputs": [],
   "source": [
    "def function(a):\n",
    "    # Useless function that returns a + 2\n",
    "    a = a + 2\n",
    "    b = a\n",
    "    return b"
   ]
  },
  {
   "cell_type": "code",
   "execution_count": 14,
   "metadata": {},
   "outputs": [
    {
     "name": "stdout",
     "output_type": "stream",
     "text": [
      "Result of the function 7\n",
      "Didn't change a : 5\n"
     ]
    }
   ],
   "source": [
    "a = 5\n",
    "print(\"Result of the function\", function(a))\n",
    "print(\"Didn't change a :\", a)\n"
   ]
  },
  {
   "cell_type": "markdown",
   "metadata": {},
   "source": [
    "### Pass by reference vs. value\n",
    "\n",
    "When passing arguments to a function, you can either pass values, or you can pass variables."
   ]
  },
  {
   "cell_type": "code",
   "execution_count": 15,
   "metadata": {},
   "outputs": [
    {
     "name": "stdout",
     "output_type": "stream",
     "text": [
      "3\n",
      "3\n"
     ]
    }
   ],
   "source": [
    "print(sum_of_two_numbers(1, 2))\n",
    "\n",
    "# or\n",
    "a = 1\n",
    "b = 2\n",
    "print(sum_of_two_numbers(a, b))"
   ]
  },
  {
   "cell_type": "markdown",
   "metadata": {},
   "source": [
    "A variable passed as an argument is said to be passed by reference, and if its value is changed within the function, that change will also take effect outside the function, if this object is mutable. For example, lists, dictionaries."
   ]
  },
  {
   "cell_type": "code",
   "execution_count": 16,
   "metadata": {},
   "outputs": [],
   "source": [
    "def change_value_list(my_list):\n",
    "    my_list[2] = 5\n",
    "    return None"
   ]
  },
  {
   "cell_type": "code",
   "execution_count": 17,
   "metadata": {},
   "outputs": [
    {
     "name": "stdout",
     "output_type": "stream",
     "text": [
      "List before the function [1, 2, 3, 4, 5]\n",
      "List after the function [1, 2, 5, 4, 5]\n"
     ]
    }
   ],
   "source": [
    "list1 = [1,2,3,4,5]\n",
    "print(\"List before the function\", list1)\n",
    "change_value_list(list1)\n",
    "print(\"List after the function\", list1)"
   ]
  },
  {
   "cell_type": "markdown",
   "metadata": {},
   "source": [
    "However, if that variable is redefined within the function, it becomes defined locally for the function, like a new local variable, and changes to its value won't be reflected outside the function."
   ]
  },
  {
   "cell_type": "code",
   "execution_count": 18,
   "metadata": {},
   "outputs": [],
   "source": [
    "def useless_function(my_list):\n",
    "    # This is a totally new variable\n",
    "    my_list = [0,0,0,0,0]\n",
    "    my_list[2] = 5\n",
    "    return None\n"
   ]
  },
  {
   "cell_type": "code",
   "execution_count": 19,
   "metadata": {},
   "outputs": [
    {
     "name": "stdout",
     "output_type": "stream",
     "text": [
      "List before the function [1, 2, 3, 4, 5]\n",
      "List after the function [1, 2, 3, 4, 5]\n"
     ]
    }
   ],
   "source": [
    "list1 = [1,2,3,4,5]\n",
    "print(\"List before the function\", list1)\n",
    "useless_function(list1)\n",
    "print(\"List after the function\", list1)"
   ]
  },
  {
   "cell_type": "markdown",
   "metadata": {},
   "source": [
    "### Function arguments\n",
    "\n",
    "A function can be called by using the following types of formal arguments:\n",
    "\n",
    "- Required arguments\n",
    "- Keyword arguments\n",
    "- Default arguments\n",
    "- Variable-length arguments"
   ]
  },
  {
   "cell_type": "markdown",
   "metadata": {},
   "source": [
    "#### Required arguments\n",
    "\n",
    "Required arguments are the arguments passed to a function in correct positional order."
   ]
  },
  {
   "cell_type": "code",
   "execution_count": 20,
   "metadata": {},
   "outputs": [],
   "source": [
    "def hello1(name, age):\n",
    "    print(\"My name is\", name, \"and I am\", age, \"years old\")\n",
    "    return None"
   ]
  },
  {
   "cell_type": "code",
   "execution_count": 21,
   "metadata": {},
   "outputs": [
    {
     "name": "stdout",
     "output_type": "stream",
     "text": [
      "My name is Stephanie and I am 100 years old\n"
     ]
    }
   ],
   "source": [
    "hello1(\"Stephanie\", 100)"
   ]
  },
  {
   "cell_type": "code",
   "execution_count": 22,
   "metadata": {},
   "outputs": [
    {
     "name": "stdout",
     "output_type": "stream",
     "text": [
      "My name is 100 and I am Stephanie years old\n"
     ]
    }
   ],
   "source": [
    "# Correct positional order matters!!\n",
    "hello1(100, \"Stephanie\")"
   ]
  },
  {
   "cell_type": "markdown",
   "metadata": {},
   "source": [
    "#### Keyword arguments\n",
    "\n",
    "When using keyword arguments in a function call, the caller identifies the arguments by the parameter name, allowing to skip arguments or place them out of order because the Python interpreter is able to use the keywords provided to match the values with parameters."
   ]
  },
  {
   "cell_type": "code",
   "execution_count": 23,
   "metadata": {},
   "outputs": [
    {
     "name": "stdout",
     "output_type": "stream",
     "text": [
      "My name is Stephanie and I am 100 years old\n"
     ]
    }
   ],
   "source": [
    "# Unless you use keyword arguments \n",
    "# But good practice to place it in correct order\n",
    "hello1(age=100, name=\"Stephanie\")"
   ]
  },
  {
   "cell_type": "markdown",
   "metadata": {},
   "source": [
    "#### Default arguments\n",
    "\n",
    "A default argument is an argument that assumes a default value if a value is not provided in the function call for that argument."
   ]
  },
  {
   "cell_type": "code",
   "execution_count": 24,
   "metadata": {},
   "outputs": [],
   "source": [
    "def power(a, b = 2):\n",
    "    # Will compute a^b\n",
    "    return math.pow(a, b) # or use a**b"
   ]
  },
  {
   "cell_type": "code",
   "execution_count": 25,
   "metadata": {},
   "outputs": [
    {
     "name": "stdout",
     "output_type": "stream",
     "text": [
      "3^2 is 9.0\n",
      "3^2 is 9.0\n",
      "3^3 is 27.0\n",
      "3^4 is 81.0\n"
     ]
    }
   ],
   "source": [
    "a1 = 3\n",
    "\n",
    "# We don't need to put the default argument if we want to use b=2\n",
    "print(\"3^2 is\", power(a1))\n",
    "print(\"3^2 is\", power(a1, 2))\n",
    "print(\"3^3 is\", power(a1, 3))\n",
    "print(\"3^4 is\", power(a1, 4))"
   ]
  },
  {
   "cell_type": "markdown",
   "metadata": {},
   "source": [
    "### The *return* statement\n",
    "\n",
    "The statement ```return [expression]``` exits a function, optionally passing back an expression/value to the caller. Writing a ```return``` with no returned expression is equivalent to writing ```return None```."
   ]
  },
  {
   "cell_type": "code",
   "execution_count": 26,
   "metadata": {},
   "outputs": [],
   "source": [
    "def smaller_than_3(number):\n",
    "    \n",
    "    if number<3:\n",
    "        print(\"Smaller than 3 !! :)\")\n",
    "        return True\n",
    "    else:\n",
    "        print(\"Not smaller :(\")\n",
    "        return False"
   ]
  },
  {
   "cell_type": "code",
   "execution_count": 27,
   "metadata": {},
   "outputs": [
    {
     "name": "stdout",
     "output_type": "stream",
     "text": [
      "Not smaller :(\n",
      "False\n"
     ]
    }
   ],
   "source": [
    "result = smaller_than_3(5)\n",
    "print(result)"
   ]
  },
  {
   "cell_type": "code",
   "execution_count": 28,
   "metadata": {},
   "outputs": [
    {
     "name": "stdout",
     "output_type": "stream",
     "text": [
      "Smaller than 3 !! :)\n",
      "True\n"
     ]
    }
   ],
   "source": [
    "result = smaller_than_3(-2)\n",
    "print(result)"
   ]
  },
  {
   "cell_type": "code",
   "execution_count": 29,
   "metadata": {},
   "outputs": [],
   "source": [
    "def element_in_list(element, my_list):\n",
    "    if element in my_list:\n",
    "        return True\n",
    "    else:\n",
    "        return None"
   ]
  },
  {
   "cell_type": "code",
   "execution_count": 30,
   "metadata": {},
   "outputs": [
    {
     "name": "stdout",
     "output_type": "stream",
     "text": [
      "True\n",
      "None\n"
     ]
    }
   ],
   "source": [
    "print(element_in_list(3, [1,2,3,4]))\n",
    "\n",
    "print(element_in_list(5, [1,2,3,4]))"
   ]
  },
  {
   "cell_type": "markdown",
   "metadata": {},
   "source": [
    "More than one expression may be returned at the end of a function, and those need to be separated by commas. If those expression are assigned to variables defined outside the function, the number of such variables must match the number of returned expressions."
   ]
  },
  {
   "cell_type": "code",
   "execution_count": 31,
   "metadata": {},
   "outputs": [],
   "source": [
    "def perimeter_area_square(edge):\n",
    "    perimeter = 4*edge\n",
    "    area = edge*edge # or edge**2, or math.pow(edge, 2), or power(edge), or power(edge, 2)\n",
    "    return perimeter, area"
   ]
  },
  {
   "cell_type": "code",
   "execution_count": 32,
   "metadata": {},
   "outputs": [
    {
     "name": "stdout",
     "output_type": "stream",
     "text": [
      "Edge size is 3\n",
      "Perimeter is 12\n",
      "Area is 9\n"
     ]
    }
   ],
   "source": [
    "edge_length = 3\n",
    "per, area = perimeter_area_square(edge_length)\n",
    "print(\"Edge size is\", edge_length)\n",
    "print(\"Perimeter is\", per)\n",
    "print(\"Area is\", area)"
   ]
  },
  {
   "cell_type": "markdown",
   "metadata": {},
   "source": [
    "### Scope of variables\n",
    "\n",
    "All variables in a program may not be accessible at all locations in that program. This depends on where these variables have been declared, which determines their **scope**. The scope of a variable determines the portion of the program where it can accessed.\n",
    "\n",
    "When a variable is declared within a function, it is said to be **local** to that function, and it is not accessible outside the function."
   ]
  },
  {
   "cell_type": "code",
   "execution_count": 33,
   "metadata": {},
   "outputs": [],
   "source": [
    "def nb_seconds_in_days(nb_days):\n",
    "    seconds_by_minute = 60\n",
    "    minutes_by_hour = 60\n",
    "    hours_by_days = 24\n",
    "    total = seconds_by_minute * minutes_by_hour * hours_by_days * nb_days\n",
    "    \n",
    "    return total"
   ]
  },
  {
   "cell_type": "code",
   "execution_count": 34,
   "metadata": {},
   "outputs": [
    {
     "name": "stdout",
     "output_type": "stream",
     "text": [
      "432000\n"
     ]
    }
   ],
   "source": [
    "print(nb_seconds_in_days(5))"
   ]
  },
  {
   "cell_type": "code",
   "execution_count": 35,
   "metadata": {},
   "outputs": [
    {
     "ename": "NameError",
     "evalue": "name 'seconds_by_minute' is not defined",
     "output_type": "error",
     "traceback": [
      "\u001b[1;31m---------------------------------------------------------------------------\u001b[0m",
      "\u001b[1;31mNameError\u001b[0m                                 Traceback (most recent call last)",
      "\u001b[1;32m<ipython-input-35-67317f532398>\u001b[0m in \u001b[0;36m<module>\u001b[1;34m()\u001b[0m\n\u001b[0;32m      1\u001b[0m \u001b[1;31m#Unknown !!!\u001b[0m\u001b[1;33m\u001b[0m\u001b[1;33m\u001b[0m\u001b[0m\n\u001b[1;32m----> 2\u001b[1;33m \u001b[0mseconds_by_minute\u001b[0m\u001b[1;33m\u001b[0m\u001b[0m\n\u001b[0m",
      "\u001b[1;31mNameError\u001b[0m: name 'seconds_by_minute' is not defined"
     ]
    }
   ],
   "source": [
    "#Unknown !!!\n",
    "seconds_by_minute"
   ]
  },
  {
   "cell_type": "code",
   "execution_count": null,
   "metadata": {},
   "outputs": [],
   "source": []
  }
 ],
 "metadata": {
  "kernelspec": {
   "display_name": "Python 3",
   "language": "python",
   "name": "python3"
  },
  "language_info": {
   "codemirror_mode": {
    "name": "ipython",
    "version": 3
   },
   "file_extension": ".py",
   "mimetype": "text/x-python",
   "name": "python",
   "nbconvert_exporter": "python",
   "pygments_lexer": "ipython3",
   "version": "3.6.5"
  }
 },
 "nbformat": 4,
 "nbformat_minor": 2
}
