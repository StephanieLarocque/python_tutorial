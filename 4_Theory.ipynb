{
 "cells": [
  {
   "cell_type": "markdown",
   "metadata": {},
   "source": [
    "# Lecture 4 - Theory\n",
    "# Topic : Strings and Lists"
   ]
  },
  {
   "cell_type": "markdown",
   "metadata": {},
   "source": [
    "## 1. Strings"
   ]
  },
  {
   "cell_type": "markdown",
   "metadata": {},
   "source": [
    "### Overview\n",
    "\n",
    "We can see a string as a list, only that each element of that list is a character. For example, the string \"summer\" has length 6, the first character being \"s\" and the last one being \"r\". As we will see, the order in which the letters come from is important, like the order in a list.\n",
    "\n",
    "With strings (and lists), we can extract some of the characters (or elements) by using brackets. Note that all indices start at 0. In \"summer\", the $s$ is the character 0, $u$ is the character 1, ... and $r$ is the character 5.\n",
    "\n",
    "Like in the ```range``` function, *a string*```[start: end]``` outputs the start$^{th}$ character up to the (end -1)$^{th}$ character of the string, where the indices start at 0."
   ]
  },
  {
   "cell_type": "code",
   "execution_count": 1,
   "metadata": {},
   "outputs": [
    {
     "name": "stdout",
     "output_type": "stream",
     "text": [
      "character 0 : H\n",
      "character 1 : e\n",
      "character 2 : l\n",
      "character 3 : l\n",
      "character 4 : o\n"
     ]
    }
   ],
   "source": [
    "string1 = \"Hello\"\n",
    "string2 = \"Summer\"\n",
    "\n",
    "\n",
    "# To take the characters individually \n",
    "print(\"character 0 :\", string1[0])\n",
    "print(\"character 1 :\",string1[1])\n",
    "print(\"character 2 :\", string1[2])\n",
    "print(\"character 3 :\", string1[3])\n",
    "print(\"character 4 :\", string1[4])\n",
    "\n",
    "# This would yield an Error\n",
    "#print(string1[5])\n",
    "\n"
   ]
  },
  {
   "cell_type": "code",
   "execution_count": 2,
   "metadata": {},
   "outputs": [
    {
     "name": "stdout",
     "output_type": "stream",
     "text": [
      "3 first characters of Hello : Hel or equivalently Hel\n",
      "Characters 1, 2, 3 of Summer (indices always start at 0): umm\n",
      "Last 4 characters of Hello : ello\n"
     ]
    }
   ],
   "source": [
    "# To take the 3 first letters of \"Hello\", we write:\n",
    "print(\"3 first characters of Hello :\", string1[:3], \"or equivalently\", string1[0:3])\n",
    "\n",
    "# To take the characters 1, 2, 3 of \"Summer\", we write:\n",
    "print(\"Characters 1, 2, 3 of Summer (indices always start at 0):\", string2[1:4])\n",
    "\n",
    "# We can also begin from the end\n",
    "# This gives the last 4 characters\n",
    "# The \"end\" parameters is set to default (the end of the string) \n",
    "print(\"Last 4 characters of Hello :\", string1[-4:])\n"
   ]
  },
  {
   "cell_type": "markdown",
   "metadata": {},
   "source": [
    "### Escape Characters"
   ]
  },
  {
   "cell_type": "markdown",
   "metadata": {},
   "source": [
    "Strings are defined as a sequence of characters, but there also exist a a number of espace characters, which are non-printable, that get interpreted at runtime and are used to define things like tabulation, newline, carriage return (end line), etc. They are always made of a combination of the \"\\\" character followed by a character (sometimes more than one). \n",
    "\n",
    "Below is a short list of some useful escape characters:"
   ]
  },
  {
   "cell_type": "markdown",
   "metadata": {},
   "source": [
    "| Backslash notation |   Description   |\n",
    "|:------------------:|:---------------:|\n",
    "| \\t                 | Tab             |\n",
    "| \\n                 | Newline         |\n",
    "| \\s                 | Space           |\n",
    "| \\b                 | Backspace       |\n",
    "| \\r                 | Carriage return |\n",
    "| \\e                 | Escape          |\n",
    "| \\cx                | Control-x       |"
   ]
  },
  {
   "cell_type": "markdown",
   "metadata": {},
   "source": [
    "### String Special Operators"
   ]
  },
  {
   "cell_type": "markdown",
   "metadata": {},
   "source": [
    "There exist a number of special operators for strings, which obviously allow performing operations on strings, like concatenating two strings, slicing, repeating, etc.\n",
    "\n",
    "Below is a list of some of these operators:"
   ]
  },
  {
   "cell_type": "code",
   "execution_count": 3,
   "metadata": {},
   "outputs": [],
   "source": [
    "a = \"Hello\"\n",
    "b = \"Python\""
   ]
  },
  {
   "cell_type": "markdown",
   "metadata": {},
   "source": [
    "| Operator |                                     Description                                    |           Example           |\n",
    "|:--------:|:----------------------------------------------------------------------------------:|:---------------------------:|\n",
    "| +        | Concatenation - Adds values on either side of the operator                         | a + b will give HelloPython |\n",
    "| *        | Repetition - Creates new strings, concatenating multiple copies of the same string | a*2 will give HelloHello   |\n",
    "| []       | Slice - Gives the character from the given index                                   | a[1] will give e            |\n",
    "| [ : ]    | Range Slice - Gives the characters from the given range                            | a[1:4] will give ell        |\n",
    "| in       | Membership - Returns true if a character exists in the given string                | H in a will give 1          |\n",
    "| not in   | Membership - Returns true if a character does not exist in the given string        | M not in a will give 1      |"
   ]
  },
  {
   "cell_type": "markdown",
   "metadata": {},
   "source": [
    "### Triple Quotes\n",
    "\n",
    "Triple quotes in Python allow strings to span multiple lines, and it is defined between three successive quotes on each side, using either single quotes characters (') or double quotes characters (\")."
   ]
  },
  {
   "cell_type": "code",
   "execution_count": 4,
   "metadata": {},
   "outputs": [
    {
     "name": "stdout",
     "output_type": "stream",
     "text": [
      "this is a long string that is made up of\n",
      "several lines and non-printable characters such as\n",
      "TAB ( \t ) and they will show up that way when displayed.\n",
      "NEWLINEs within the string, whether explicitly given like\n",
      "this within the brackets [ \n",
      " ], or just a NEWLINE within\n",
      "the variable assignment will also show up.\n",
      "\n"
     ]
    }
   ],
   "source": [
    "paragraph = \"\"\"this is a long string that is made up of\n",
    "several lines and non-printable characters such as\n",
    "TAB ( \\t ) and they will show up that way when displayed.\n",
    "NEWLINEs within the string, whether explicitly given like\n",
    "this within the brackets [ \\n ], or just a NEWLINE within\n",
    "the variable assignment will also show up.\n",
    "\"\"\"\n",
    "\n",
    "print (paragraph)"
   ]
  },
  {
   "cell_type": "markdown",
   "metadata": {},
   "source": [
    "**TIP:** In practice, triple quotes may be used to comment out multiple lines of code, instead of inserting a (#) character at the beginning of each line to be commented out:"
   ]
  },
  {
   "cell_type": "markdown",
   "metadata": {},
   "source": [
    "### Built-in String Methods (functions)"
   ]
  },
  {
   "cell_type": "markdown",
   "metadata": {},
   "source": [
    "There exist a number of Python built-in functions to manipulate strings (and there exist many more with additional modules and third party packages... 😉 )\n",
    "\n",
    "Below is a list of such built-in functions:"
   ]
  },
  {
   "cell_type": "markdown",
   "metadata": {},
   "source": [
    "|               Function               |                                                                          Description                                                                          |\n",
    "|:------------------------------------:|:-------------------------------------------------------------------------------------------------------------------------------------------------------------:|\n",
    "| count(str, beg= 0,end=len(string))   | Counts how many times str occurs in string or in a substring  of string if starting index beg and ending index end are given.                                 |\n",
    "| find(str, beg=0 end=len(string))     | Determine if str occurs in string or in a substring of string  if starting index beg and ending index end are given returns  index if found and -1 otherwise. |\n",
    "| len(string)                          | Returns the length of the string.                                                                                                                             |\n",
    "| lower()                              | Converts all uppercase letters in string to lowercase.                                                                                                        |\n",
    "| upper()                              | Converts lowercase letters in string to uppercase.                                                                                                            |\n",
    "| replace(old, new [, max])            | Replaces all occurrences of old in string with new or at most  max occurrences if max given.                                                                  |\n",
    "| strip()                              | Performs ltrip() and rstrip(), which respectively remove leading  and trailing whitespaces.                                                                   |\n",
    "| split(str=\"\", num=string.count(str)) | Splits string according to delimiter str (space if not provided)  and returns list of substrings; split into at most num substrings  if given.                |"
   ]
  },
  {
   "cell_type": "code",
   "execution_count": 5,
   "metadata": {
    "scrolled": true
   },
   "outputs": [
    {
     "name": "stdout",
     "output_type": "stream",
     "text": [
      "Numbers of o : 2\n",
      "Len of string : 11\n",
      "Find a P : 5\n",
      "Find a p : -1 which means.. never\n"
     ]
    }
   ],
   "source": [
    "string1 = \"HelloPython\"\n",
    "print(\"Numbers of o :\", string1.count(\"o\"))\n",
    "print(\"Len of string :\", len(string1))\n",
    "print(\"Find a P :\", string1.find(\"P\"))\n",
    "print(\"Find a p :\", string1.find(\"p\"), \"which means.. never\")"
   ]
  },
  {
   "cell_type": "markdown",
   "metadata": {},
   "source": [
    "## 2. Lists\n",
    "\n",
    "Lists are important to keep an arbitrary number of variables inside 1 variable (the list) in order to be able to make some operations on it. Unlike strings, we can store any type of variable inside of a list. We have access to those elements via their index. Lists are one of the three basic types of Sequence Data Types (the other two will be covered in the next lecture)."
   ]
  },
  {
   "cell_type": "code",
   "execution_count": 6,
   "metadata": {},
   "outputs": [
    {
     "name": "stdout",
     "output_type": "stream",
     "text": [
      "[0, 1, 3, -5]\n",
      "[0, 1, 3, -5]\n"
     ]
    }
   ],
   "source": [
    "# Simple list containing integers\n",
    "# Lists are delimited by square brackets []\n",
    "# Elements are delimited by commas.\n",
    "lst = [0,1,3,-5]\n",
    "#2 different ways of printing this list\n",
    "print(lst)\n",
    "print([0,1,3,-5])"
   ]
  },
  {
   "cell_type": "code",
   "execution_count": 7,
   "metadata": {},
   "outputs": [
    {
     "name": "stdout",
     "output_type": "stream",
     "text": [
      "My list is [3, 'Hello', 7.5, True] \n",
      "\n",
      "First element (element #0) : 3\n",
      "Second element (element #1) : Hello\n",
      "Third element (element #2) : 7.5\n",
      "Last element (element #3) : True\n"
     ]
    }
   ],
   "source": [
    "my_list = [3, \"Hello\", 7.5, True]\n",
    "print(\"My list is\", my_list, \"\\n\")\n",
    "print(\"First element (element #0) :\", my_list[0])\n",
    "print(\"Second element (element #1) :\", my_list[1])\n",
    "print(\"Third element (element #2) :\", my_list[2])\n",
    "print(\"Last element (element #3) :\", my_list[3])"
   ]
  },
  {
   "cell_type": "markdown",
   "metadata": {},
   "source": [
    "The function ```len``` gives the length of a list (number of elements in it) and is very useful."
   ]
  },
  {
   "cell_type": "code",
   "execution_count": 8,
   "metadata": {
    "scrolled": true
   },
   "outputs": [
    {
     "name": "stdout",
     "output_type": "stream",
     "text": [
      "6\n"
     ]
    }
   ],
   "source": [
    "lst = [3,4,5, [2,\"hello\"], True, False]\n",
    "print(len(lst))"
   ]
  },
  {
   "cell_type": "code",
   "execution_count": 9,
   "metadata": {},
   "outputs": [
    {
     "name": "stdout",
     "output_type": "stream",
     "text": [
      "HelloBonjour\n",
      "15.5\n"
     ]
    }
   ],
   "source": [
    "# we can use elements like variables as well\n",
    "\n",
    "my_list = [3, \"Hello\", \"Bonjour\", 5, 7.5]\n",
    "\n",
    "print(my_list[1]+my_list[2])\n",
    "print(my_list[0]+my_list[3]+my_list[4])"
   ]
  },
  {
   "cell_type": "markdown",
   "metadata": {},
   "source": [
    "We can change the value of the elements by re-assigning it like normal variables."
   ]
  },
  {
   "cell_type": "code",
   "execution_count": 10,
   "metadata": {},
   "outputs": [
    {
     "name": "stdout",
     "output_type": "stream",
     "text": [
      "The list before changing element 1: [0, 1, 2, 3, 4]\n",
      "The list after changing element 1 : [0, 'something else', 2, 3, 4]\n"
     ]
    }
   ],
   "source": [
    "lst = [0,1,2,3,4]\n",
    "# In order to change the element 1, we do :\n",
    "print(\"The list before changing element 1:\", lst)\n",
    "lst[1] = \"something else\"\n",
    "print(\"The list after changing element 1 :\", lst)"
   ]
  },
  {
   "cell_type": "code",
   "execution_count": 11,
   "metadata": {},
   "outputs": [
    {
     "name": "stdout",
     "output_type": "stream",
     "text": [
      "The list:  [[1, 2, 3], [5, 6, 7, 8, 9, 10], ['hello', 'summer']] \n",
      "\n"
     ]
    }
   ],
   "source": [
    "# We can also have lists inside lists (concatenation)\n",
    "\n",
    "list_of_list = [[1,2,3], [5,6,7, 8, 9, 10], [\"hello\", \"summer\"]]\n",
    "\n",
    "print(\"The list: \",list_of_list, \"\\n\")\n"
   ]
  },
  {
   "cell_type": "code",
   "execution_count": 12,
   "metadata": {},
   "outputs": [
    {
     "name": "stdout",
     "output_type": "stream",
     "text": [
      "Element 0:  [1, 2, 3]\n",
      "Element 1:  [5, 6, 7, 8, 9, 10]\n",
      "Element 2:  ['hello', 'summer'] \n",
      "\n",
      "7\n"
     ]
    }
   ],
   "source": [
    "# In that case, what is the element #0 ?\n",
    "print(\"Element 0: \", list_of_list[0])\n",
    "print(\"Element 1: \", list_of_list[1])\n",
    "print(\"Element 2: \", list_of_list[2], \"\\n\")\n",
    "\n",
    "# We can access the elements inside the lists\n",
    "print(list_of_list[1][2])"
   ]
  },
  {
   "cell_type": "markdown",
   "metadata": {},
   "source": [
    "Accessing multiple elements"
   ]
  },
  {
   "cell_type": "code",
   "execution_count": 13,
   "metadata": {},
   "outputs": [
    {
     "name": "stdout",
     "output_type": "stream",
     "text": [
      "['hi', 5, -45]\n",
      "[2, 3.7, 4, 7]\n",
      "['hi', 5, -45, 2, 3.7, 4, 7]\n",
      "['hi', 5, -45, 2, 3.7, 4, 7]\n",
      "['hi', 5, -45, 2, 3.7, 4, 7]\n",
      "['hi', 5, -45, 2]\n",
      "['hi', 5, -45, 2]\n"
     ]
    }
   ],
   "source": [
    "my_list = [\"hi\", 5, -45, 2, 3.7, 4, 7, 10]\n",
    "\n",
    "# To access the 3 first elements:\n",
    "print(my_list[:3])\n",
    "\n",
    "# To access elements 3, 4, 5 and 6:\n",
    "print(my_list[3:7])\n",
    "\n",
    "# To access every element but the last\n",
    "print(my_list[:7])\n",
    "print(my_list[:len(my_list)-1])\n",
    "print(my_list[:-1])\n",
    "\n",
    "# TO access last 4 elements:\n",
    "print(my_list[:len(my_list)-4])\n",
    "print(my_list[:-4])\n",
    "\n"
   ]
  },
  {
   "cell_type": "markdown",
   "metadata": {},
   "source": [
    "There are some already built-in function, like ```sum```, that outputs the sum of a list that contains numerical values"
   ]
  },
  {
   "cell_type": "code",
   "execution_count": 14,
   "metadata": {},
   "outputs": [
    {
     "name": "stdout",
     "output_type": "stream",
     "text": [
      "21\n"
     ]
    }
   ],
   "source": [
    "lst = [1,2,3,4,5,6]\n",
    "print(sum(lst))"
   ]
  },
  {
   "cell_type": "markdown",
   "metadata": {},
   "source": [
    "You already have programmed a function that averages 2 numbers. Now we can do it for an arbitrary number of elements in a list!"
   ]
  },
  {
   "cell_type": "code",
   "execution_count": 15,
   "metadata": {},
   "outputs": [],
   "source": [
    "def average(a, b):\n",
    "    return (a+b)/2"
   ]
  },
  {
   "cell_type": "code",
   "execution_count": 16,
   "metadata": {},
   "outputs": [],
   "source": [
    "def average_list(lst):\n",
    "    sum_of_elements = 0\n",
    "    for elem in lst:\n",
    "        sum_of_elements += elem\n",
    "    print(\"The sum is\", sum_of_elements)\n",
    "    print(\"There is\", len(lst), \"elements\")\n",
    "    \n",
    "    avg = sum_of_elements/len(lst)\n",
    "    print(\"So the average is\", avg)\n",
    "    return avg\n",
    "        "
   ]
  },
  {
   "cell_type": "code",
   "execution_count": 17,
   "metadata": {},
   "outputs": [
    {
     "name": "stdout",
     "output_type": "stream",
     "text": [
      "The sum is 21\n",
      "There is 6 elements\n",
      "So the average is 3.5\n"
     ]
    },
    {
     "data": {
      "text/plain": [
       "3.5"
      ]
     },
     "execution_count": 17,
     "metadata": {},
     "output_type": "execute_result"
    }
   ],
   "source": [
    "lst =[1,2,3,4,5,6]\n",
    "average_list(lst)"
   ]
  },
  {
   "cell_type": "code",
   "execution_count": 18,
   "metadata": {},
   "outputs": [
    {
     "name": "stdout",
     "output_type": "stream",
     "text": [
      "3.5\n"
     ]
    }
   ],
   "source": [
    "# Or simply use the built-in function sum:\n",
    "print(sum(lst)/len(lst))"
   ]
  },
  {
   "cell_type": "markdown",
   "metadata": {},
   "source": [
    "### List comprehension\n",
    "\n",
    "A list comprehension is a syntactic construct available in some programming languages for creating a list based on existing list. It follows the mathematical set builder notation. For example the set of even numbers is defined as $$\\{2n : n \\in N\\}$$"
   ]
  },
  {
   "cell_type": "code",
   "execution_count": 19,
   "metadata": {},
   "outputs": [
    {
     "name": "stdout",
     "output_type": "stream",
     "text": [
      "First way to generate it : [0, 2, 4, 6, 8, 10, 12, 14, 16, 18, 20, 22, 24] \n",
      "\n",
      "Second way to generate it : [0, 2, 4, 6, 8, 10, 12, 14, 16, 18, 20, 22, 24]\n"
     ]
    }
   ],
   "source": [
    "# Generates the list of even numbers less than 25:\n",
    "lst = [i for i in range(0, 25, 2)]\n",
    "print(\"First way to generate it :\",lst, \"\\n\")\n",
    "lst2 = [i for i in range(25) if i%2 ==0]\n",
    "print(\"Second way to generate it :\",lst2)"
   ]
  },
  {
   "cell_type": "code",
   "execution_count": 20,
   "metadata": {},
   "outputs": [
    {
     "name": "stdout",
     "output_type": "stream",
     "text": [
      "[0, 4, 8, 12, 16, 20, 24]\n"
     ]
    }
   ],
   "source": [
    "lst3 = [elem for elem in lst2 if elem%4==0]\n",
    "print(lst3)"
   ]
  },
  {
   "cell_type": "code",
   "execution_count": null,
   "metadata": {},
   "outputs": [],
   "source": []
  }
 ],
 "metadata": {
  "kernelspec": {
   "display_name": "Python 3",
   "language": "python",
   "name": "python3"
  },
  "language_info": {
   "codemirror_mode": {
    "name": "ipython",
    "version": 3
   },
   "file_extension": ".py",
   "mimetype": "text/x-python",
   "name": "python",
   "nbconvert_exporter": "python",
   "pygments_lexer": "ipython3",
   "version": "3.6.5"
  }
 },
 "nbformat": 4,
 "nbformat_minor": 2
}
