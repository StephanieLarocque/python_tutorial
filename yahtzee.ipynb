{
 "cells": [
  {
   "cell_type": "markdown",
   "metadata": {
    "colab_type": "text",
    "id": "L_YUX0WBAVqE"
   },
   "source": [
    "# Lectures 8-9-10\n",
    "# Project : Yahtzee\n",
    "\n",
    "\n",
    "See here for rules : https://en.wikipedia.org/wiki/Yahtzee#Rules\n",
    "\n",
    "Play online (and see rules also) here : https://cardgames.io/yahtzee/\n",
    "\n",
    "Useful to start by playing online to understand the rules.\n",
    "\n",
    "#### See the yahtzee_instructions PDF for the general code structure and the detailed steps "
   ]
  },
  {
   "cell_type": "code",
   "execution_count": 1,
   "metadata": {
    "colab": {
     "autoexec": {
      "startup": false,
      "wait_interval": 0
     }
    },
    "colab_type": "code",
    "id": "e_MkXtv7AVqH"
   },
   "outputs": [],
   "source": [
    "# Import random package (needed to roll the dices)\n",
    "import random"
   ]
  },
  {
   "cell_type": "code",
   "execution_count": 2,
   "metadata": {
    "colab": {
     "autoexec": {
      "startup": false,
      "wait_interval": 0
     }
    },
    "colab_type": "code",
    "id": "lYq0ShsKAVqO"
   },
   "outputs": [],
   "source": [
    "class dice():\n",
    "    # Class dice\n",
    "    \n",
    "    def __init__(self):\n",
    "        # Should have 2 instance attributes (value and keep)\n",
    "        pass\n",
    "        \n",
    "    def roll(self):\n",
    "        # Modify the value of the dice according to a random integer (1,2,3,4,5,6)\n",
    "        # Only if we don't keep the dice\n",
    "        pass\n",
    "      \n",
    "    # Do not modify these functions.\n",
    "    # Helps with the representation of the dices using print(dice)\n",
    "    def __repr__(self):\n",
    "        return str(self.value)\n",
    "    def __str__(self):\n",
    "        return str(self.value)\n",
    "        "
   ]
  },
  {
   "cell_type": "code",
   "execution_count": 3,
   "metadata": {},
   "outputs": [],
   "source": [
    "class turn():\n",
    "    \n",
    "    def __init__(self):\n",
    "        # Should have 2 instance attributes (dices and round_done)\n",
    "        pass\n",
    "        \n",
    "        \n",
    "    def roll_dices(self):\n",
    "        # Should roll each of the dices in self.dices\n",
    "        pass\n",
    "            \n",
    "    def play_turn(self):\n",
    "        # Must take care of everything happening in a turn (3 dice rolls and the kept dices)\n",
    "        # Should return None if the user wants to quit the game (by writing 'q')\n",
    "        # And return the final dices otherwise\n",
    "        \n",
    "\n",
    "        # COMPLETE HERE\n",
    "        \n",
    "        return self.dices\n",
    "    "
   ]
  },
  {
   "cell_type": "code",
   "execution_count": 4,
   "metadata": {
    "colab": {
     "autoexec": {
      "startup": false,
      "wait_interval": 0
     }
    },
    "colab_type": "code",
    "id": "x3cmtNavAVqR"
   },
   "outputs": [],
   "source": [
    "class game_yahtzee():\n",
    "    \n",
    "    def __init__(self):\n",
    "        # Should have 4 instance attributes\n",
    "        pass\n",
    "        \n",
    "    def play(self):\n",
    "        # This simply prints the instructions\n",
    "        print(\"\"\"\n",
    "        INSTRUCTIONS:\n",
    "        You have 5 dices and 13 turns. In every turn, you have up to 3 rolls. \n",
    "          You decide which dice(s) to keep between each roll. For example, if you\n",
    "          want to keep dices 1 and 5, you can write '15' or '51'. If you want to \n",
    "          keep dices 1, 3 and 4, you can write 314, for example. \n",
    "          - If you want to keep all dices, type 12345. \n",
    "          - If you want to re-roll all the dices, type 0. \n",
    "          - If you want to quit, type 'q' or 'quit'. \n",
    "          At the end of a turn, you will be asked to select a category.\n",
    "          The available categories are : 1, 2, 3, 4, 5, 6, 3K (3 Of A Kind), 4K (4 Of A Kind), \n",
    "          FH (Full House), SS (Short Straight), LS (Long Straight), C (Chance), and Y (Yahtzee).\n",
    "          A category can only be picked once. Type one of these category exactly as it is (with the caps).\n",
    "          You may choose a category even though it gives you 0 point.\n",
    "        \"\"\")\n",
    "        \n",
    "        for _ in range(13):\n",
    "            \n",
    "            t = turn()\n",
    "            dices = t.play_turn()\n",
    "            \n",
    "            # This will take care of ending the game if the user press 'q' or 'quit'\n",
    "            if dices == None:\n",
    "                print(\"Quit game\")\n",
    "                break\n",
    "                \n",
    "                \n",
    "            # Complete here (ask for the category, etc.)\n",
    "            \n",
    "            \n",
    "            \n",
    "            \n",
    "            \n",
    "        # The end of the function    \n",
    "        print(\"End of the game !!! \")\n",
    "        print(\"Congratulations. Your score is\", self.total_score())\n",
    "          \n",
    "    def compute_score(self, dices, category):\n",
    "        if category =='1':\n",
    "            # Compute the real scores\n",
    "            return 0 \n",
    "        elif category =='2':\n",
    "            return 0\n",
    "        elif category =='3':\n",
    "            return 0\n",
    "        # Do this for every category\n",
    "        else:\n",
    "            print(\"Invalid category\")\n",
    "            return None\n",
    "        \n",
    "        \n",
    "        \n",
    "    def total_score(self):\n",
    "        pass\n",
    "        \n",
    "    def print_scoreboard(self):\n",
    "        # You can modify this method if you like a different scoreboard display\n",
    "        # But otherwise it already works\n",
    "        print(\"---------------------Scoreboard---------------------\")\n",
    "        for categ in self.scoreboard:\n",
    "            print(self.categories_dict[categ], \":\", self.scoreboard[categ], \"points\")\n",
    "        print()\n",
    "        print(\"TOTAL :\", self.total_score(), \"points\" )\n",
    "        print(\"----------------------------------------------------\")\n"
   ]
  },
  {
   "cell_type": "code",
   "execution_count": null,
   "metadata": {},
   "outputs": [],
   "source": []
  },
  {
   "cell_type": "code",
   "execution_count": 5,
   "metadata": {
    "colab": {
     "autoexec": {
      "startup": false,
      "wait_interval": 0
     },
     "base_uri": "https://localhost:8080/",
     "height": 125
    },
    "colab_type": "code",
    "id": "eJkR4LR8AVqU",
    "outputId": "e168ae4b-8fbd-49ba-f98a-6110dcfd5142",
    "scrolled": true
   },
   "outputs": [
    {
     "name": "stdout",
     "output_type": "stream",
     "text": [
      "\n",
      "        INSTRUCTIONS:\n",
      "        You have 5 dices and 13 turns. In every turn, you have up to 3 rolls. \n",
      "          You decide which dice(s) to keep between each roll. For example, if you\n",
      "          want to keep dices 1 and 5, you can write '15' or '51'. If you want to \n",
      "          keep dices 1, 3 and 4, you can write 314, for example. \n",
      "          - If you want to keep all dices, type 12345. \n",
      "          - If you want to re-roll all the dices, type 0. \n",
      "          - If you want to quit, type 'q' or 'quit'. \n",
      "          At the end of a turn, you will be asked to select a category.\n",
      "          The available categories are : 1, 2, 3, 4, 5, 6, 3K (3 Of A Kind), 4K (4 Of A Kind), \n",
      "          FH (Full House), SS (Short Straight), LS (Long Straight), C (Chance), and Y (Yahtzee).\n",
      "          A category can only be picked once. Type one of these category exactly as it is (with the caps).\n",
      "          You may choose a category even though it gives you 0 point.\n",
      "        \n"
     ]
    },
    {
     "ename": "AttributeError",
     "evalue": "'turn' object has no attribute 'dices'",
     "output_type": "error",
     "traceback": [
      "\u001b[1;31m---------------------------------------------------------------------------\u001b[0m",
      "\u001b[1;31mAttributeError\u001b[0m                            Traceback (most recent call last)",
      "\u001b[1;32m<ipython-input-5-2bbe1cf66109>\u001b[0m in \u001b[0;36m<module>\u001b[1;34m()\u001b[0m\n\u001b[0;32m      1\u001b[0m \u001b[0my\u001b[0m \u001b[1;33m=\u001b[0m \u001b[0mgame_yahtzee\u001b[0m\u001b[1;33m(\u001b[0m\u001b[1;33m)\u001b[0m\u001b[1;33m\u001b[0m\u001b[0m\n\u001b[1;32m----> 2\u001b[1;33m \u001b[0my\u001b[0m\u001b[1;33m.\u001b[0m\u001b[0mplay\u001b[0m\u001b[1;33m(\u001b[0m\u001b[1;33m)\u001b[0m\u001b[1;33m\u001b[0m\u001b[0m\n\u001b[0m",
      "\u001b[1;32m<ipython-input-4-5814ae1b4081>\u001b[0m in \u001b[0;36mplay\u001b[1;34m(self)\u001b[0m\n\u001b[0;32m     26\u001b[0m \u001b[1;33m\u001b[0m\u001b[0m\n\u001b[0;32m     27\u001b[0m             \u001b[0mt\u001b[0m \u001b[1;33m=\u001b[0m \u001b[0mturn\u001b[0m\u001b[1;33m(\u001b[0m\u001b[1;33m)\u001b[0m\u001b[1;33m\u001b[0m\u001b[0m\n\u001b[1;32m---> 28\u001b[1;33m             \u001b[0mdices\u001b[0m \u001b[1;33m=\u001b[0m \u001b[0mt\u001b[0m\u001b[1;33m.\u001b[0m\u001b[0mplay_turn\u001b[0m\u001b[1;33m(\u001b[0m\u001b[1;33m)\u001b[0m\u001b[1;33m\u001b[0m\u001b[0m\n\u001b[0m\u001b[0;32m     29\u001b[0m \u001b[1;33m\u001b[0m\u001b[0m\n\u001b[0;32m     30\u001b[0m             \u001b[1;31m# This will take care of ending the game if the user press 'q' or 'quit'\u001b[0m\u001b[1;33m\u001b[0m\u001b[1;33m\u001b[0m\u001b[0m\n",
      "\u001b[1;32m<ipython-input-3-5db149a959df>\u001b[0m in \u001b[0;36mplay_turn\u001b[1;34m(self)\u001b[0m\n\u001b[0;32m     18\u001b[0m         \u001b[1;31m# COMPLETE HERE\u001b[0m\u001b[1;33m\u001b[0m\u001b[1;33m\u001b[0m\u001b[0m\n\u001b[0;32m     19\u001b[0m \u001b[1;33m\u001b[0m\u001b[0m\n\u001b[1;32m---> 20\u001b[1;33m         \u001b[1;32mreturn\u001b[0m \u001b[0mself\u001b[0m\u001b[1;33m.\u001b[0m\u001b[0mdices\u001b[0m\u001b[1;33m\u001b[0m\u001b[0m\n\u001b[0m\u001b[0;32m     21\u001b[0m \u001b[1;33m\u001b[0m\u001b[0m\n",
      "\u001b[1;31mAttributeError\u001b[0m: 'turn' object has no attribute 'dices'"
     ]
    }
   ],
   "source": [
    "y = game_yahtzee()\n",
    "y.play()"
   ]
  },
  {
   "cell_type": "code",
   "execution_count": null,
   "metadata": {},
   "outputs": [],
   "source": []
  }
 ],
 "metadata": {
  "colab": {
   "default_view": {},
   "name": "yahtzee.ipynb",
   "provenance": [],
   "version": "0.3.2",
   "views": {}
  },
  "kernelspec": {
   "display_name": "Python 3",
   "language": "python",
   "name": "python3"
  },
  "language_info": {
   "codemirror_mode": {
    "name": "ipython",
    "version": 3
   },
   "file_extension": ".py",
   "mimetype": "text/x-python",
   "name": "python",
   "nbconvert_exporter": "python",
   "pygments_lexer": "ipython3",
   "version": "3.6.5"
  }
 },
 "nbformat": 4,
 "nbformat_minor": 1
}
