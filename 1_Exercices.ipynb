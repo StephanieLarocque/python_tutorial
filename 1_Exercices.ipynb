{
 "cells": [
  {
   "cell_type": "markdown",
   "metadata": {
    "colab_type": "text",
    "id": "0bKnU1jiNbdZ"
   },
   "source": [
    "# Lecture 1 - Problem Solving\n",
    "# Topic : Variables, Types, Basic Arithmetics Operators"
   ]
  },
  {
   "cell_type": "markdown",
   "metadata": {
    "colab_type": "text",
    "id": "bfSUNKUYNbdc"
   },
   "source": [
    "## Assign variables and use print function"
   ]
  },
  {
   "cell_type": "markdown",
   "metadata": {},
   "source": [
    "What is wrong with the following statement that attempts to assign the value ten to variable x?\n",
    "\n",
    "```\n",
    "10 = x\n",
    "```\n",
    "\n"
   ]
  },
  {
   "cell_type": "code",
   "execution_count": null,
   "metadata": {},
   "outputs": [],
   "source": []
  },
  {
   "cell_type": "markdown",
   "metadata": {
    "colab_type": "text",
    "id": "up5mV4JLNbde"
   },
   "source": [
    "Make a variable named ``` var1 ``` and assign it to 8.0. Then display your variable using ```print```.\n"
   ]
  },
  {
   "cell_type": "code",
   "execution_count": null,
   "metadata": {
    "colab": {
     "autoexec": {
      "startup": false,
      "wait_interval": 0
     },
     "base_uri": "https://localhost:8080/",
     "height": 17
    },
    "colab_type": "code",
    "executionInfo": {
     "elapsed": 469,
     "status": "ok",
     "timestamp": 1530632813146,
     "user": {
      "displayName": "Stephanie Larocque",
      "photoUrl": "https://lh3.googleusercontent.com/a/default-user=s128",
      "userId": "104636356411980802491"
     },
     "user_tz": 240
    },
    "id": "D5LJQGtrNbdh",
    "outputId": "0ecf1af9-8d13-49f3-fada-c66be3785d16"
   },
   "outputs": [],
   "source": []
  },
  {
   "cell_type": "markdown",
   "metadata": {
    "colab_type": "text",
    "id": "o9ge6G_XNbdo"
   },
   "source": [
    "Modify your variable\n",
    "\n",
    "1- By assigning it to 5.6 instead of 8.0.  Display your result using ```print```.\n",
    "\n",
    "2 - By adding 2 to it. Display your result using ```print```."
   ]
  },
  {
   "cell_type": "code",
   "execution_count": null,
   "metadata": {
    "colab": {
     "autoexec": {
      "startup": false,
      "wait_interval": 0
     },
     "base_uri": "https://localhost:8080/",
     "height": 17
    },
    "colab_type": "code",
    "executionInfo": {
     "elapsed": 288,
     "status": "ok",
     "timestamp": 1530632814017,
     "user": {
      "displayName": "Stephanie Larocque",
      "photoUrl": "https://lh3.googleusercontent.com/a/default-user=s128",
      "userId": "104636356411980802491"
     },
     "user_tz": 240
    },
    "id": "MYhcpFR8Nbdq",
    "outputId": "1af0d25a-e989-4701-c602-e634d4686cf9"
   },
   "outputs": [],
   "source": []
  },
  {
   "cell_type": "markdown",
   "metadata": {
    "colab_type": "text",
    "id": "6S63HbsfNbdx"
   },
   "source": [
    "Make another variable ```\n",
    "var2\n",
    "``` and assign the string 'Hello World' to it. Then display it using ```print```."
   ]
  },
  {
   "cell_type": "code",
   "execution_count": null,
   "metadata": {
    "colab": {
     "autoexec": {
      "startup": false,
      "wait_interval": 0
     },
     "base_uri": "https://localhost:8080/",
     "height": 17
    },
    "colab_type": "code",
    "executionInfo": {
     "elapsed": 324,
     "status": "ok",
     "timestamp": 1530632815722,
     "user": {
      "displayName": "Stephanie Larocque",
      "photoUrl": "https://lh3.googleusercontent.com/a/default-user=s128",
      "userId": "104636356411980802491"
     },
     "user_tz": 240
    },
    "id": "q-HbgmeVNbdz",
    "outputId": "209e1c59-4034-4acf-a3c2-2f20e4bd9c62"
   },
   "outputs": [],
   "source": []
  },
  {
   "cell_type": "markdown",
   "metadata": {
    "colab_type": "text",
    "id": "RILV7CmyNbd5"
   },
   "source": [
    "Ask the user for their country and their city (using ```input```). Then print a sentence like \"I live in [name] in the city [age] \""
   ]
  },
  {
   "cell_type": "code",
   "execution_count": null,
   "metadata": {
    "colab": {
     "autoexec": {
      "startup": false,
      "wait_interval": 0
     }
    },
    "colab_type": "code",
    "id": "sBOJ9DYa6e28"
   },
   "outputs": [],
   "source": []
  },
  {
   "cell_type": "markdown",
   "metadata": {
    "colab_type": "text",
    "id": "3sf_TJob6fVl"
   },
   "source": [
    "Write a Python program which accepts the user's first and last name (using ```input```) and print them in reverse order with a space between them."
   ]
  },
  {
   "cell_type": "code",
   "execution_count": null,
   "metadata": {
    "colab": {
     "autoexec": {
      "startup": false,
      "wait_interval": 0
     },
     "base_uri": "https://localhost:8080/",
     "height": 17
    },
    "colab_type": "code",
    "executionInfo": {
     "elapsed": 325,
     "status": "ok",
     "timestamp": 1530632845268,
     "user": {
      "displayName": "Stephanie Larocque",
      "photoUrl": "https://lh3.googleusercontent.com/a/default-user=s128",
      "userId": "104636356411980802491"
     },
     "user_tz": 240
    },
    "id": "pPbouIxANbd6",
    "outputId": "189e61d8-a434-4cb8-bca4-d166119ee202"
   },
   "outputs": [],
   "source": []
  },
  {
   "cell_type": "markdown",
   "metadata": {
    "colab_type": "text",
    "id": "qsvmot_0NbeB"
   },
   "source": [
    "## Casts"
   ]
  },
  {
   "cell_type": "markdown",
   "metadata": {
    "colab_type": "text",
    "id": "yzEOvyyFNbeD"
   },
   "source": [
    " Use int() to create an integer from a string.\n",
    " \n",
    " 1- Assign a string '4.0' to a variable named ```x ```\n",
    " \n",
    " 2- Make sure the variable ```x ``` is really a string using the function ```type()```\n",
    " \n",
    " 3- Use int() to create an integer named ```y ``` from ```x ```\n",
    " \n",
    " 4- Make sure the result ```y``` is really an integer using the function ```type()```.\n"
   ]
  },
  {
   "cell_type": "code",
   "execution_count": null,
   "metadata": {
    "colab": {
     "autoexec": {
      "startup": false,
      "wait_interval": 0
     },
     "base_uri": "https://localhost:8080/",
     "height": 17
    },
    "colab_type": "code",
    "executionInfo": {
     "elapsed": 299,
     "status": "ok",
     "timestamp": 1530632848863,
     "user": {
      "displayName": "Stephanie Larocque",
      "photoUrl": "https://lh3.googleusercontent.com/a/default-user=s128",
      "userId": "104636356411980802491"
     },
     "user_tz": 240
    },
    "id": "ZrpIYaUgNbeF",
    "outputId": "2278be9f-1614-4ba3-c2c5-e28ef6d017fc"
   },
   "outputs": [],
   "source": []
  },
  {
   "cell_type": "markdown",
   "metadata": {
    "colab_type": "text",
    "id": "x4QShgqSNbeL"
   },
   "source": [
    "Cast from float to integer.\n",
    "\n",
    "1- Define two variables ```a``` and ```b``` respectively assigned to 123.2 and 56.78\n",
    "\n",
    "2- Print the variables and their respective types.\n",
    "\n",
    "3- Cast those two variables into integers and store the result in variables ```a_integer``` and ```b_integer```.\n",
    "\n",
    "4- Print the new variables and their respective types.\n",
    "\n",
    "5 - Did the answer get rounded up or down?\n"
   ]
  },
  {
   "cell_type": "code",
   "execution_count": null,
   "metadata": {
    "colab": {
     "autoexec": {
      "startup": false,
      "wait_interval": 0
     },
     "base_uri": "https://localhost:8080/",
     "height": 17
    },
    "colab_type": "code",
    "executionInfo": {
     "elapsed": 305,
     "status": "ok",
     "timestamp": 1530632853021,
     "user": {
      "displayName": "Stephanie Larocque",
      "photoUrl": "https://lh3.googleusercontent.com/a/default-user=s128",
      "userId": "104636356411980802491"
     },
     "user_tz": 240
    },
    "id": "VsZafKBqNbeN",
    "outputId": "8b5c2556-ebee-4489-f678-b477639cab7b"
   },
   "outputs": [],
   "source": []
  },
  {
   "cell_type": "markdown",
   "metadata": {
    "colab_type": "text",
    "id": "x-GAfkUaNbeT"
   },
   "source": [
    "Try using int() to create an integer from a string. Make sure the result is really an integer.\n",
    "\n",
    "1 - Assign a variable ```_hello_1``` to the string '1.0'\n",
    "\n",
    "2 - Print the variable and its type (should be a string)\n",
    "\n",
    "3 - Cast the variable into an integer and store it in a variable named ```_hello_2```\n",
    "\n",
    "4- Print the new variable and its type.\n",
    "\n",
    "5 - Would it work well if ```_hello_1``` was assigned to the string '3.5' ? And if it was assigned to 'one' ? Try it.\n"
   ]
  },
  {
   "cell_type": "code",
   "execution_count": null,
   "metadata": {
    "colab": {
     "autoexec": {
      "startup": false,
      "wait_interval": 0
     },
     "base_uri": "https://localhost:8080/",
     "height": 17
    },
    "colab_type": "code",
    "executionInfo": {
     "elapsed": 278,
     "status": "ok",
     "timestamp": 1530632857192,
     "user": {
      "displayName": "Stephanie Larocque",
      "photoUrl": "https://lh3.googleusercontent.com/a/default-user=s128",
      "userId": "104636356411980802491"
     },
     "user_tz": 240
    },
    "id": "q1IGdXirNbeX",
    "outputId": "7dedaff9-6fbe-47a4-fad0-5a211a6de272"
   },
   "outputs": [],
   "source": []
  },
  {
   "cell_type": "markdown",
   "metadata": {
    "colab_type": "text",
    "id": "QHRNKU47Nbee"
   },
   "source": [
    "## Operations"
   ]
  },
  {
   "cell_type": "markdown",
   "metadata": {
    "colab_type": "text",
    "id": "zT9dTsu3Nbeh"
   },
   "source": [
    "1 - Assign variables ```x``` to “Hello” and ```y``` to “Ghana”. \n",
    "\n",
    "2- Add them together and store the result in the variable ```z```.\n",
    "\n",
    "3 - Print it. What happen?\n",
    "\n",
    "4- Add a space between \"Hello\" and \"Ghana\" such that the output should be \"Hello Ghana\" instead of \"HelloGhana\"."
   ]
  },
  {
   "cell_type": "code",
   "execution_count": null,
   "metadata": {
    "colab": {
     "autoexec": {
      "startup": false,
      "wait_interval": 0
     },
     "base_uri": "https://localhost:8080/",
     "height": 17
    },
    "colab_type": "code",
    "executionInfo": {
     "elapsed": 282,
     "status": "ok",
     "timestamp": 1530632859840,
     "user": {
      "displayName": "Stephanie Larocque",
      "photoUrl": "https://lh3.googleusercontent.com/a/default-user=s128",
      "userId": "104636356411980802491"
     },
     "user_tz": 240
    },
    "id": "W8jUVDdiNbem",
    "outputId": "13a31c08-0376-461e-f3d0-ab4761ed3591"
   },
   "outputs": [],
   "source": [
    "\n"
   ]
  },
  {
   "cell_type": "markdown",
   "metadata": {
    "colab_type": "text",
    "id": "q0WaObIHNbes"
   },
   "source": [
    "Let ```s= \"3\"``` and ```t = 4```.\n",
    "1. Add them together. What happen? Why?\n",
    "2. Cast $s$ as an integer before adding them together. What happen? Why?\n",
    "3. Cast $t$ as a string before adding them together. What happen? Why?\n",
    "\n",
    "You can print the results."
   ]
  },
  {
   "cell_type": "code",
   "execution_count": null,
   "metadata": {
    "colab": {
     "autoexec": {
      "startup": false,
      "wait_interval": 0
     },
     "base_uri": "https://localhost:8080/",
     "height": 17
    },
    "colab_type": "code",
    "executionInfo": {
     "elapsed": 294,
     "status": "ok",
     "timestamp": 1530632863715,
     "user": {
      "displayName": "Stephanie Larocque",
      "photoUrl": "https://lh3.googleusercontent.com/a/default-user=s128",
      "userId": "104636356411980802491"
     },
     "user_tz": 240
    },
    "id": "a5I7cE9lNbeu",
    "outputId": "a0f4fd05-c8d3-449d-c404-ff0d89bf3ab3"
   },
   "outputs": [],
   "source": []
  },
  {
   "cell_type": "markdown",
   "metadata": {
    "colab_type": "text",
    "id": "UfSeEGdyNbey"
   },
   "source": [
    "Calculate the number of minutes in a week by making use of variable.\n",
    "\n",
    "\n",
    "HINT: Make a variable for `DaysPerWeek`, `HoursPerDay` and `MinutesPerHour` and then multiply them (you can define your own variables).\n"
   ]
  },
  {
   "cell_type": "code",
   "execution_count": null,
   "metadata": {
    "colab": {
     "autoexec": {
      "startup": false,
      "wait_interval": 0
     },
     "base_uri": "https://localhost:8080/",
     "height": 17
    },
    "colab_type": "code",
    "executionInfo": {
     "elapsed": 302,
     "status": "ok",
     "timestamp": 1530632868252,
     "user": {
      "displayName": "Stephanie Larocque",
      "photoUrl": "https://lh3.googleusercontent.com/a/default-user=s128",
      "userId": "104636356411980802491"
     },
     "user_tz": 240
    },
    "id": "GceTl7CnNbe0",
    "outputId": "0eb78e9f-977e-4c59-bd10-5b4641776cad"
   },
   "outputs": [],
   "source": []
  },
  {
   "cell_type": "markdown",
   "metadata": {
    "colab_type": "text",
    "id": "3i6Nrz631BgY"
   },
   "source": [
    "Write a Python program to print alphabet pattern 'A'.\n",
    "\n",
    "\n",
    "\n",
    "```\n",
    " **** \n",
    "*    *\n",
    "*    *\n",
    "******\n",
    "*    *\n",
    "*    *\n",
    "*    *\n",
    "```\n",
    "\n",
    "\n",
    "\n"
   ]
  },
  {
   "cell_type": "code",
   "execution_count": null,
   "metadata": {
    "colab": {
     "autoexec": {
      "startup": false,
      "wait_interval": 0
     }
    },
    "colab_type": "code",
    "id": "LA6mnFJ1Nbe7"
   },
   "outputs": [],
   "source": []
  },
  {
   "cell_type": "markdown",
   "metadata": {
    "colab_type": "text",
    "id": "zIlGBR4X19d-"
   },
   "source": [
    "Write a Python program to print alphabet pattern 'E'\n",
    "\n",
    "```\n",
    " *****                                                                  \n",
    " *                                                                      \n",
    " *                                                                      \n",
    " ****                                                                   \n",
    " *                                                                      \n",
    " *                                                                      \n",
    " *****\n",
    "```\n",
    "\n"
   ]
  },
  {
   "cell_type": "markdown",
   "metadata": {
    "colab_type": "text",
    "id": "IkVWibix8znf"
   },
   "source": [
    "## Arithmetic Operators"
   ]
  },
  {
   "cell_type": "markdown",
   "metadata": {
    "colab_type": "text",
    "id": "wSrRxUs081hq"
   },
   "source": [
    "1- Define 2 variables  ```a = 10``` and ```b=2```\n",
    "\n",
    "2- Store their sum in a variable ```a_plus_b```. Print the result.\n",
    "\n",
    "3- Store their difference in a variable ```a_minus_b```. Print the result.\n",
    "\n",
    "4- Store their product in a variable ```a_times_b```. Print the result.\n",
    "\n",
    "5 - Store their quotient in a variable ```a_divided_by_b```. Print the result. \n",
    "\n"
   ]
  },
  {
   "cell_type": "code",
   "execution_count": null,
   "metadata": {
    "colab": {
     "autoexec": {
      "startup": false,
      "wait_interval": 0
     }
    },
    "colab_type": "code",
    "id": "CHhBk0NE82Ri"
   },
   "outputs": [],
   "source": []
  },
  {
   "cell_type": "markdown",
   "metadata": {
    "colab_type": "text",
    "id": "JDu26wxh81pA"
   },
   "source": [
    "1 - Assign a variable ```var1 = 7```. Print it.\n",
    "\n",
    "2 - Assign a variable ```var2``` to ```var1```. Print the 2 variables.\n",
    "\n",
    "3 - Assign ```var2``` to 10. Print the 2 variables."
   ]
  },
  {
   "cell_type": "code",
   "execution_count": null,
   "metadata": {
    "colab": {
     "autoexec": {
      "startup": false,
      "wait_interval": 0
     }
    },
    "colab_type": "code",
    "id": "y-_JT7vl82rt"
   },
   "outputs": [],
   "source": []
  },
  {
   "cell_type": "markdown",
   "metadata": {
    "colab_type": "text",
    "id": "okokkC-t81l2"
   },
   "source": [
    "1- Define a variable ```x=3``` \n",
    "\n",
    "2 - Increment this variable of 2 by using ```x = x + 2```. Print the result. \n",
    "\n",
    "3 - Write an other way to increment this variable of 2."
   ]
  },
  {
   "cell_type": "code",
   "execution_count": null,
   "metadata": {
    "colab": {
     "autoexec": {
      "startup": false,
      "wait_interval": 0
     }
    },
    "colab_type": "code",
    "id": "0tVSzgEg83PV"
   },
   "outputs": [],
   "source": []
  },
  {
   "cell_type": "markdown",
   "metadata": {
    "colab_type": "text",
    "id": "BQjoPflF812Y"
   },
   "source": [
    "1 - Assign a variable ```var1 = 12```. Print it.\n",
    "\n",
    "2 - Assign a variable ```var2``` to ```var1```. Print the 2 variables.\n",
    "\n",
    "3 - Increment ```var2``` of 5 units . Print the 2 variables. Which variable(s) is modified?\n",
    "\n"
   ]
  },
  {
   "cell_type": "code",
   "execution_count": null,
   "metadata": {
    "colab": {
     "autoexec": {
      "startup": false,
      "wait_interval": 0
     }
    },
    "colab_type": "code",
    "id": "MJ2iSpYf83p9"
   },
   "outputs": [],
   "source": []
  },
  {
   "cell_type": "markdown",
   "metadata": {
    "colab_type": "text",
    "id": "lrYlUdSk-Vin"
   },
   "source": [
    "Compute the perimeter and area of a rectangle of given dimensions.\n",
    "\n",
    "1- Define variables ```length = 10``` and ```height = 5```\n",
    "\n",
    "2- Compute the perimeter of the rectangle. Store it in a variable ```perimeter```.\n",
    "\n",
    "3 - Print the result (it should be 30)\n",
    "\n",
    "4 - Compute the area of the rectangle. Store it in a variable ```area```.\n",
    "\n",
    "5- Print the result (it should be 50)"
   ]
  },
  {
   "cell_type": "markdown",
   "metadata": {
    "colab_type": "text",
    "id": "23j0654P6cz7"
   },
   "source": [
    "## Find the errors\n",
    "\n",
    "There is an error in each of the following code snippets. The desired output is given. Correct the code and test it such that it gives the right output."
   ]
  },
  {
   "cell_type": "markdown",
   "metadata": {
    "colab_type": "text",
    "id": "CXx_01fy6r4Q"
   },
   "source": [
    "The output should be : \"The variable a is 5\".\n",
    "\n",
    "\n",
    "```\n",
    "a = 5\n",
    "print(The variable a is\" a)\n",
    "```\n",
    "\n"
   ]
  },
  {
   "cell_type": "code",
   "execution_count": null,
   "metadata": {
    "colab": {
     "autoexec": {
      "startup": false,
      "wait_interval": 0
     }
    },
    "colab_type": "code",
    "id": "MmlKzNyn7BLF"
   },
   "outputs": [],
   "source": []
  },
  {
   "cell_type": "markdown",
   "metadata": {
    "colab_type": "text",
    "id": "DpWXAiHM6hAQ"
   },
   "source": [
    "The output should be \"The variable a is 5\".\n",
    "\n",
    "```\n",
    "a = 5\n",
    "print(\"The variable a is\", A)\n",
    "\n",
    "```\n",
    "\n"
   ]
  },
  {
   "cell_type": "code",
   "execution_count": null,
   "metadata": {
    "colab": {
     "autoexec": {
      "startup": false,
      "wait_interval": 0
     }
    },
    "colab_type": "code",
    "id": "rQuL5uIk7Mh7"
   },
   "outputs": [],
   "source": []
  },
  {
   "cell_type": "markdown",
   "metadata": {
    "colab_type": "text",
    "id": "jbL-1EEM7JMa"
   },
   "source": [
    "The output should be : 9\n",
    "\n",
    "\n",
    "\n",
    "```\n",
    "a = '5'\n",
    "b = '4'\n",
    "print(a+b)\n",
    "```\n",
    "\n"
   ]
  },
  {
   "cell_type": "code",
   "execution_count": null,
   "metadata": {
    "colab": {
     "autoexec": {
      "startup": false,
      "wait_interval": 0
     }
    },
    "colab_type": "code",
    "id": "HbFJ8Opi75Rr"
   },
   "outputs": [],
   "source": []
  },
  {
   "cell_type": "markdown",
   "metadata": {
    "colab_type": "text",
    "id": "wk7s90dm6r_H"
   },
   "source": [
    "The output should be : 5\n",
    "\n",
    "\n",
    "\n",
    "```\n",
    "1var = 5\n",
    "print(1var)\n",
    "```\n",
    "\n"
   ]
  },
  {
   "cell_type": "code",
   "execution_count": null,
   "metadata": {
    "colab": {
     "autoexec": {
      "startup": false,
      "wait_interval": 0
     }
    },
    "colab_type": "code",
    "id": "pW_f5SS38Bqb"
   },
   "outputs": [],
   "source": []
  },
  {
   "cell_type": "markdown",
   "metadata": {
    "colab_type": "text",
    "id": "77q4I7ED6sBq"
   },
   "source": [
    "The output should be (assuming the user follows the instructions and writes the number 5) : 7\n",
    "\n",
    "\n",
    "\n",
    "```\n",
    "number = input(\"Please write 5\")\n",
    "print(number+2)\n",
    "\n",
    "```\n",
    "\n"
   ]
  },
  {
   "cell_type": "code",
   "execution_count": null,
   "metadata": {
    "colab": {
     "autoexec": {
      "startup": false,
      "wait_interval": 0
     }
    },
    "colab_type": "code",
    "id": "QA29svpX8TBn"
   },
   "outputs": [],
   "source": []
  },
  {
   "cell_type": "markdown",
   "metadata": {
    "colab_type": "text",
    "id": "sJiCLQHW6sEd"
   },
   "source": [
    "The output should be : \"Hello 5\"\n",
    "\n",
    "\n",
    "\n",
    "```\n",
    "x = \"Hello\"\n",
    "y = 5\n",
    "\n",
    "print(x + y)\n",
    "```\n",
    "\n"
   ]
  },
  {
   "cell_type": "code",
   "execution_count": null,
   "metadata": {
    "colab": {
     "autoexec": {
      "startup": false,
      "wait_interval": 0
     }
    },
    "colab_type": "code",
    "id": "Mlub4EcbNbfA"
   },
   "outputs": [],
   "source": []
  },
  {
   "cell_type": "markdown",
   "metadata": {
    "colab_type": "text",
    "id": "xe7eN1snBB-q"
   },
   "source": [
    "The output should be \"Hello 5\"\n",
    "\n",
    "\n",
    "```\n",
    "x = Hello\n",
    "y = \"5\"\n",
    "\n",
    "print(x + y)\n",
    "```\n",
    "\n"
   ]
  },
  {
   "cell_type": "code",
   "execution_count": null,
   "metadata": {
    "colab": {
     "autoexec": {
      "startup": false,
      "wait_interval": 0
     }
    },
    "colab_type": "code",
    "id": "EW7AjmEANbfC"
   },
   "outputs": [],
   "source": []
  },
  {
   "cell_type": "markdown",
   "metadata": {
    "colab": {
     "autoexec": {
      "startup": false,
      "wait_interval": 0
     }
    },
    "colab_type": "code",
    "id": "_ZJTTaiVNbfG"
   },
   "source": [
    "Will the following lines of code print the same thing? Explain why or why not.\n",
    "\n",
    "\n",
    "\n",
    "```\n",
    "x = 6\n",
    "print(6)\n",
    "print(\"6\")\n",
    "\n",
    "```\n",
    "\n"
   ]
  },
  {
   "cell_type": "code",
   "execution_count": null,
   "metadata": {
    "colab": {
     "autoexec": {
      "startup": false,
      "wait_interval": 0
     }
    },
    "colab_type": "code",
    "id": "MFBViyf0NbfJ"
   },
   "outputs": [],
   "source": []
  },
  {
   "cell_type": "markdown",
   "metadata": {
    "colab": {
     "autoexec": {
      "startup": false,
      "wait_interval": 0
     }
    },
    "colab_type": "code",
    "id": "8TLRsrOGNbfM"
   },
   "source": [
    "Will the following lines of code print the same thing? Explain why or why not.\n",
    "\n",
    "\n",
    "\n",
    "```\n",
    "x = 7\n",
    "print(x)\n",
    "print(\"x\")\n",
    "```\n",
    "\n",
    "\n"
   ]
  },
  {
   "cell_type": "code",
   "execution_count": null,
   "metadata": {
    "colab": {
     "autoexec": {
      "startup": false,
      "wait_interval": 0
     }
    },
    "colab_type": "code",
    "id": "Elj2GgSLNbfQ"
   },
   "outputs": [],
   "source": []
  }
 ],
 "metadata": {
  "colab": {
   "collapsed_sections": [],
   "default_view": {},
   "name": "1_Exercices.ipynb",
   "provenance": [],
   "version": "0.3.2",
   "views": {}
  },
  "kernelspec": {
   "display_name": "Python 3",
   "language": "python",
   "name": "python3"
  },
  "language_info": {
   "codemirror_mode": {
    "name": "ipython",
    "version": 3
   },
   "file_extension": ".py",
   "mimetype": "text/x-python",
   "name": "python",
   "nbconvert_exporter": "python",
   "pygments_lexer": "ipython3",
   "version": "3.6.5"
  }
 },
 "nbformat": 4,
 "nbformat_minor": 1
}
