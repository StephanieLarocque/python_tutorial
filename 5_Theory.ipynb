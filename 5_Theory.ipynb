{
 "cells": [
  {
   "cell_type": "markdown",
   "metadata": {
    "colab_type": "text",
    "id": "jHB4XnmiJH7p"
   },
   "source": [
    "# Lecture 5 - Theory\n",
    "# Topic - Tuples, Ranges, Sets, Dictionaries and Random Numbers"
   ]
  },
  {
   "cell_type": "markdown",
   "metadata": {
    "colab_type": "text",
    "id": "8urgJXqij-8e"
   },
   "source": [
    "## Tuples"
   ]
  },
  {
   "cell_type": "markdown",
   "metadata": {
    "colab_type": "text",
    "id": "gg1Kf322K076"
   },
   "source": [
    "Tuples, like lists, are an example of Sequence Data Types, with the three basic types being List, Tuple and Range. Tuples contains elements that are separated by commas."
   ]
  },
  {
   "cell_type": "code",
   "execution_count": 1,
   "metadata": {
    "colab": {
     "autoexec": {
      "startup": false,
      "wait_interval": 0
     }
    },
    "colab_type": "code",
    "id": "qFHqbTUlK08A",
    "outputId": "dd059ca4-cf07-42c7-8472-304f162ca1d9"
   },
   "outputs": [
    {
     "name": "stdout",
     "output_type": "stream",
     "text": [
      "(4, 5, 6)\n",
      "5\n",
      "('blue', 5, 6, 'red')\n"
     ]
    }
   ],
   "source": [
    "tuple1 = (4,5,6)\n",
    "# or tuple1= 4,5,6\n",
    "tuple2 = ('blue', 5, 6, 'red')\n",
    "\n",
    "print(tuple1)\n",
    "# You can access the elements (same as for lists)\n",
    "print (tuple1[1])\n",
    "print (tuple2)"
   ]
  },
  {
   "cell_type": "markdown",
   "metadata": {
    "colab_type": "text",
    "id": "iZMw3oLvK08k"
   },
   "source": [
    "Contrary to lists, their elements are not mutable. That means that once a tuple is created, we cannot change the values in it."
   ]
  },
  {
   "cell_type": "code",
   "execution_count": 2,
   "metadata": {
    "colab": {
     "autoexec": {
      "startup": false,
      "wait_interval": 0
     }
    },
    "colab_type": "code",
    "id": "IjWBZqq-K08p",
    "outputId": "58a83c7b-e62e-4f03-9dad-383f087a3e1d"
   },
   "outputs": [
    {
     "ename": "TypeError",
     "evalue": "'tuple' object does not support item assignment",
     "output_type": "error",
     "traceback": [
      "\u001b[1;31m---------------------------------------------------------------------------\u001b[0m",
      "\u001b[1;31mTypeError\u001b[0m                                 Traceback (most recent call last)",
      "\u001b[1;32m<ipython-input-2-9619b11511bc>\u001b[0m in \u001b[0;36m<module>\u001b[1;34m()\u001b[0m\n\u001b[0;32m      1\u001b[0m \u001b[1;31m# trying to mutate an element from a tuple\u001b[0m\u001b[1;33m\u001b[0m\u001b[1;33m\u001b[0m\u001b[0m\n\u001b[1;32m----> 2\u001b[1;33m \u001b[0mtuple1\u001b[0m\u001b[1;33m[\u001b[0m\u001b[1;36m0\u001b[0m\u001b[1;33m]\u001b[0m \u001b[1;33m=\u001b[0m \u001b[1;36m1000\u001b[0m\u001b[1;33m\u001b[0m\u001b[0m\n\u001b[0m",
      "\u001b[1;31mTypeError\u001b[0m: 'tuple' object does not support item assignment"
     ]
    }
   ],
   "source": [
    "# trying to mutate an element from a tuple\n",
    "tuple1[0] = 1000"
   ]
  },
  {
   "cell_type": "markdown",
   "metadata": {
    "colab_type": "text",
    "id": "8rmlmQA3K087"
   },
   "source": [
    "Tuples may be nested. Thay may also contain types that themselves are mutable, like a list:"
   ]
  },
  {
   "cell_type": "code",
   "execution_count": 3,
   "metadata": {
    "colab": {
     "autoexec": {
      "startup": false,
      "wait_interval": 0
     }
    },
    "colab_type": "code",
    "id": "n7sHSbtaK09A",
    "outputId": "f536169d-12e6-417c-d947-cb37b04d19be"
   },
   "outputs": [
    {
     "name": "stdout",
     "output_type": "stream",
     "text": [
      "(1, 2, (10, 11, 12))\n"
     ]
    }
   ],
   "source": [
    "#A tuple with a nested tuple inside\n",
    "tuple2 = (1,2, (10,11,12))\n",
    "print (tuple2)"
   ]
  },
  {
   "cell_type": "code",
   "execution_count": 4,
   "metadata": {
    "colab": {
     "autoexec": {
      "startup": false,
      "wait_interval": 0
     }
    },
    "colab_type": "code",
    "id": "HYr8eCW6K09T",
    "outputId": "1715816b-4ab4-4207-cf86-fce5fbc8d3a8"
   },
   "outputs": [
    {
     "name": "stdout",
     "output_type": "stream",
     "text": [
      "(1, 2, [10, 11, 12])\n"
     ]
    }
   ],
   "source": [
    "#A tuple with a nested list inside\n",
    "tuple3 = (1,2,[10,11,12])\n",
    "print (tuple3)"
   ]
  },
  {
   "cell_type": "code",
   "execution_count": 5,
   "metadata": {
    "colab": {
     "autoexec": {
      "startup": false,
      "wait_interval": 0
     }
    },
    "colab_type": "code",
    "id": "LgNooWgdK09i",
    "outputId": "40282995-1088-4bc1-baf6-018c9d104c70"
   },
   "outputs": [
    {
     "ename": "TypeError",
     "evalue": "'tuple' object does not support item assignment",
     "output_type": "error",
     "traceback": [
      "\u001b[1;31m---------------------------------------------------------------------------\u001b[0m",
      "\u001b[1;31mTypeError\u001b[0m                                 Traceback (most recent call last)",
      "\u001b[1;32m<ipython-input-5-28a707e20efd>\u001b[0m in \u001b[0;36m<module>\u001b[1;34m()\u001b[0m\n\u001b[0;32m      1\u001b[0m \u001b[1;31m# trying to mutate directly an element (a list) from a tuple\u001b[0m\u001b[1;33m\u001b[0m\u001b[1;33m\u001b[0m\u001b[0m\n\u001b[1;32m----> 2\u001b[1;33m \u001b[0mtuple3\u001b[0m\u001b[1;33m[\u001b[0m\u001b[1;36m2\u001b[0m\u001b[1;33m]\u001b[0m \u001b[1;33m=\u001b[0m \u001b[1;33m[\u001b[0m\u001b[1;36m20\u001b[0m\u001b[1;33m,\u001b[0m\u001b[1;36m21\u001b[0m\u001b[1;33m,\u001b[0m\u001b[1;36m22\u001b[0m\u001b[1;33m]\u001b[0m\u001b[1;33m\u001b[0m\u001b[0m\n\u001b[0m",
      "\u001b[1;31mTypeError\u001b[0m: 'tuple' object does not support item assignment"
     ]
    }
   ],
   "source": [
    "# trying to mutate directly an element (a list) from a tuple\n",
    "tuple3[2] = [20,21,22]"
   ]
  },
  {
   "cell_type": "code",
   "execution_count": 6,
   "metadata": {
    "colab": {
     "autoexec": {
      "startup": false,
      "wait_interval": 0
     }
    },
    "colab_type": "code",
    "id": "lGxbeI3XK090",
    "outputId": "20522d1a-5ebe-4ca8-ee11-eb5ba6374b0d"
   },
   "outputs": [
    {
     "name": "stdout",
     "output_type": "stream",
     "text": [
      "(1, 2, [1000, 11, 12])\n"
     ]
    }
   ],
   "source": [
    "# Mutating an element from a list that is nested within a tuple\n",
    "tuple3[2][0] = 1000\n",
    "print(tuple3)"
   ]
  },
  {
   "cell_type": "markdown",
   "metadata": {
    "colab_type": "text",
    "id": "vH_fY243K0-F"
   },
   "source": [
    "Special cases: empty tuple and tuple with only one element:"
   ]
  },
  {
   "cell_type": "code",
   "execution_count": 7,
   "metadata": {
    "colab": {
     "autoexec": {
      "startup": false,
      "wait_interval": 0
     }
    },
    "colab_type": "code",
    "id": "0VmtJWnDK0-L",
    "outputId": "2dff17c3-8aee-4669-9b90-1f5990f2f230"
   },
   "outputs": [
    {
     "name": "stdout",
     "output_type": "stream",
     "text": [
      "()\n",
      "(4,)\n",
      "(4,)\n"
     ]
    }
   ],
   "source": [
    "# Creatig an empty tuple requires using empty parenthesis\n",
    "empty_tuple = ()\n",
    "\n",
    "# Creating a tuple with one element requires placing a comme after that element\n",
    "singleton_tuple = 4,\n",
    "singleton_tuple2 = (4,) #(4) doesn't work\n",
    "\n",
    "print (empty_tuple)\n",
    "print (singleton_tuple)\n",
    "print(singleton_tuple2)"
   ]
  },
  {
   "cell_type": "markdown",
   "metadata": {
    "colab_type": "text",
    "id": "Dav_9oilK0-Z"
   },
   "source": [
    "## Ranges"
   ]
  },
  {
   "cell_type": "markdown",
   "metadata": {
    "colab_type": "text",
    "id": "Bn-oGfwrK0-c"
   },
   "source": [
    "A Range type also defines a sequence of elements. Those are integer numbers, and the range includes the starting number but excludes the ending number. The elements of a Range data type can be accessed in the same way as for lists. When printed, the symbolic definition of the range is displayed."
   ]
  },
  {
   "cell_type": "code",
   "execution_count": 8,
   "metadata": {
    "colab": {
     "autoexec": {
      "startup": false,
      "wait_interval": 0
     }
    },
    "colab_type": "code",
    "id": "hD8_QbTtK0-e",
    "outputId": "edd54385-a27e-4122-8406-7693ccce2c3c"
   },
   "outputs": [
    {
     "name": "stdout",
     "output_type": "stream",
     "text": [
      "range(1, 10)\n",
      "4\n",
      "9\n"
     ]
    }
   ],
   "source": [
    "range1 = range(1, 10)\n",
    "\n",
    "print(range1)\n",
    "print (range1[3])\n",
    "print(range1[-1])"
   ]
  },
  {
   "cell_type": "markdown",
   "metadata": {
    "colab_type": "text",
    "id": "fn_NPnSrj-t2"
   },
   "source": [
    "## Sets"
   ]
  },
  {
   "cell_type": "markdown",
   "metadata": {
    "colab_type": "text",
    "id": "Wij9LR4yK0-u"
   },
   "source": [
    "A set is an unordered collection with no duplicate elements. Curly braces or the ```set()``` function can be used to create sets. Note: to create an empty set you have to use ```set()```, not ```{}```; the latter creates an empty dictionary."
   ]
  },
  {
   "cell_type": "code",
   "execution_count": 9,
   "metadata": {
    "colab": {
     "autoexec": {
      "startup": false,
      "wait_interval": 0
     }
    },
    "colab_type": "code",
    "id": "q7741II3K0-3",
    "outputId": "ba3639fa-1ac8-4d4f-f773-c6660db820d0"
   },
   "outputs": [
    {
     "name": "stdout",
     "output_type": "stream",
     "text": [
      "{'red', 'blue', 'green'}\n",
      "{'c', 'b', 'a'}\n",
      "set()\n"
     ]
    }
   ],
   "source": [
    "#creation using curly braces\n",
    "set1 = {'red', 'green', 'blue'}\n",
    "\n",
    "#creation using the set() function, to create a set of characters\n",
    "set2 = set('abc')\n",
    "\n",
    "#creating an empty set\n",
    "set3 = set()\n",
    "\n",
    "print (set1)\n",
    "print (set2)\n",
    "print (set3)"
   ]
  },
  {
   "cell_type": "markdown",
   "metadata": {
    "colab_type": "text",
    "id": "gQUTGpDjK0_I"
   },
   "source": [
    "When creating a set, duplicate elements are automatically removed"
   ]
  },
  {
   "cell_type": "code",
   "execution_count": 10,
   "metadata": {
    "colab": {
     "autoexec": {
      "startup": false,
      "wait_interval": 0
     },
     "base_uri": "https://localhost:8080/",
     "height": 33
    },
    "colab_type": "code",
    "executionInfo": {
     "elapsed": 287,
     "status": "ok",
     "timestamp": 1530888419520,
     "user": {
      "displayName": "Stephanie Larocque",
      "photoUrl": "https://lh3.googleusercontent.com/a/default-user=s128",
      "userId": "104636356411980802491"
     },
     "user_tz": 240
    },
    "id": "iZimTqDRK0_M",
    "outputId": "77eaec76-efb2-400d-fc22-f49c0000134b"
   },
   "outputs": [
    {
     "name": "stdout",
     "output_type": "stream",
     "text": [
      "{'three', 'four', 'one', 'two'}\n"
     ]
    }
   ],
   "source": [
    "set4 = {'one', 'two', 'three', 'four', 'two'}\n",
    "\n",
    "# It prints in arbitrary order\n",
    "print (set4)"
   ]
  },
  {
   "cell_type": "markdown",
   "metadata": {
    "colab_type": "text",
    "id": "L2oXODkiK0_Z"
   },
   "source": [
    "Unlike sequential data types, sets don't define any order for their elements, which therefore\n",
    "cannot be accessed individually via indexing:"
   ]
  },
  {
   "cell_type": "code",
   "execution_count": 11,
   "metadata": {
    "colab": {
     "autoexec": {
      "startup": false,
      "wait_interval": 0
     }
    },
    "colab_type": "code",
    "id": "y2Gixng7K0_d",
    "outputId": "6d448503-afbf-4116-96a5-c05c7fb2bc07"
   },
   "outputs": [
    {
     "ename": "TypeError",
     "evalue": "'set' object does not support indexing",
     "output_type": "error",
     "traceback": [
      "\u001b[1;31m---------------------------------------------------------------------------\u001b[0m",
      "\u001b[1;31mTypeError\u001b[0m                                 Traceback (most recent call last)",
      "\u001b[1;32m<ipython-input-11-69a272f361c6>\u001b[0m in \u001b[0;36m<module>\u001b[1;34m()\u001b[0m\n\u001b[1;32m----> 1\u001b[1;33m \u001b[0mset4\u001b[0m\u001b[1;33m[\u001b[0m\u001b[1;36m2\u001b[0m\u001b[1;33m]\u001b[0m\u001b[1;33m\u001b[0m\u001b[0m\n\u001b[0m",
      "\u001b[1;31mTypeError\u001b[0m: 'set' object does not support indexing"
     ]
    }
   ],
   "source": [
    "set4[2]"
   ]
  },
  {
   "cell_type": "markdown",
   "metadata": {
    "colab_type": "text",
    "id": "hQtbJrEDK0_z"
   },
   "source": [
    "### Operations on Sets"
   ]
  },
  {
   "cell_type": "markdown",
   "metadata": {
    "colab_type": "text",
    "id": "twsYHLgAK0_4"
   },
   "source": [
    "#### Algebra of sets"
   ]
  },
  {
   "cell_type": "code",
   "execution_count": 12,
   "metadata": {
    "colab": {
     "autoexec": {
      "startup": false,
      "wait_interval": 0
     }
    },
    "colab_type": "code",
    "id": "kJ_5iod2K0_8",
    "outputId": "f4021388-1d54-440b-c616-12c398570f36"
   },
   "outputs": [
    {
     "name": "stdout",
     "output_type": "stream",
     "text": [
      "{'blue', 'green'}\n",
      "{'red'}\n",
      "{'red', 'black', 'blue', 'green'}\n",
      "{'red', 'yellow'}\n",
      "False\n",
      "False\n"
     ]
    }
   ],
   "source": [
    "set1 = {'green', 'red', 'blue'}\n",
    "set2 = {'yellow', 'black'}\n",
    "set3 = {'red', 'black'}\n",
    "\n",
    "print (set1 - set3) # returns elements of set1 that aren't present in set3 (difference)\n",
    "print (set1 & set3) # returns elements that are present in both sets (union)\n",
    "print (set1 | set3) # returns elements that are present in either set (intersection)\n",
    "print (set2 ^ set3) # returns elements that belong to only one set but not both \n",
    "                    # (symmetric difference)\n",
    "\n",
    "print (set1 == set3) # comparison of equality\n",
    "print (set1.issubset(set2)) # test whether every element in set1 is in set2\n",
    "\n"
   ]
  },
  {
   "cell_type": "markdown",
   "metadata": {
    "colab_type": "text",
    "id": "DQdDTR3gK1AH"
   },
   "source": [
    "#### Manipulations on sets"
   ]
  },
  {
   "cell_type": "code",
   "execution_count": 13,
   "metadata": {},
   "outputs": [
    {
     "name": "stdout",
     "output_type": "stream",
     "text": [
      "set1 {'red', 'blue', 'green'}\n",
      "set2 {'yellow', 'black'}\n"
     ]
    }
   ],
   "source": [
    "print(\"set1\", set1)\n",
    "print(\"set2\", set2)"
   ]
  },
  {
   "cell_type": "code",
   "execution_count": 14,
   "metadata": {
    "colab": {
     "autoexec": {
      "startup": false,
      "wait_interval": 0
     }
    },
    "colab_type": "code",
    "id": "2SQ-0rq-K1AK",
    "outputId": "eade4f29-ba23-408c-a92b-51e9ee38ca2c"
   },
   "outputs": [
    {
     "name": "stdout",
     "output_type": "stream",
     "text": [
      "{'red', 'yellow', 'black', 'blue', 'green'}\n"
     ]
    }
   ],
   "source": [
    "set1.update(set2) # add elements of a set (set2) into another set (set1)\n",
    "\n",
    "# This updates set1\n",
    "print(set1)"
   ]
  },
  {
   "cell_type": "code",
   "execution_count": 15,
   "metadata": {
    "colab": {
     "autoexec": {
      "startup": false,
      "wait_interval": 0
     }
    },
    "colab_type": "code",
    "id": "JGd53vsuK1Ak",
    "outputId": "3fb134ed-d5a8-4026-c9dc-098ab872daab"
   },
   "outputs": [
    {
     "name": "stdout",
     "output_type": "stream",
     "text": [
      "{'brown', 'red', 'yellow', 'black', 'blue', 'green'}\n"
     ]
    }
   ],
   "source": [
    "set1.add('brown') #  #add an element to set1\n",
    "print(set1)"
   ]
  },
  {
   "cell_type": "code",
   "execution_count": 16,
   "metadata": {
    "colab": {
     "autoexec": {
      "startup": false,
      "wait_interval": 0
     }
    },
    "colab_type": "code",
    "id": "IrfKxUbOK1A7",
    "outputId": "3af29e3b-ea36-4414-d1db-2fa6869f4838"
   },
   "outputs": [
    {
     "name": "stdout",
     "output_type": "stream",
     "text": [
      "{'red', 'yellow', 'black', 'blue', 'green'}\n"
     ]
    }
   ],
   "source": [
    "set1.remove('brown') #  #remove an element from set; raises KeyError if not present\n",
    "print(set1)"
   ]
  },
  {
   "cell_type": "code",
   "execution_count": 17,
   "metadata": {},
   "outputs": [
    {
     "ename": "KeyError",
     "evalue": "'hello'",
     "output_type": "error",
     "traceback": [
      "\u001b[1;31m---------------------------------------------------------------------------\u001b[0m",
      "\u001b[1;31mKeyError\u001b[0m                                  Traceback (most recent call last)",
      "\u001b[1;32m<ipython-input-17-24ead30ecc84>\u001b[0m in \u001b[0;36m<module>\u001b[1;34m()\u001b[0m\n\u001b[1;32m----> 1\u001b[1;33m \u001b[0mset1\u001b[0m\u001b[1;33m.\u001b[0m\u001b[0mremove\u001b[0m\u001b[1;33m(\u001b[0m\u001b[1;34m\"hello\"\u001b[0m\u001b[1;33m)\u001b[0m \u001b[1;31m# hello was never present in set1\u001b[0m\u001b[1;33m\u001b[0m\u001b[0m\n\u001b[0m",
      "\u001b[1;31mKeyError\u001b[0m: 'hello'"
     ]
    }
   ],
   "source": [
    "set1.remove(\"hello\") # hello was never present in set1"
   ]
  },
  {
   "cell_type": "code",
   "execution_count": 18,
   "metadata": {
    "colab": {
     "autoexec": {
      "startup": false,
      "wait_interval": 0
     }
    },
    "colab_type": "code",
    "id": "TwIPvaHgK1BK",
    "outputId": "0b5231e8-75e6-441f-9abd-46cfa0c1c2cb"
   },
   "outputs": [
    {
     "ename": "KeyError",
     "evalue": "'brown'",
     "output_type": "error",
     "traceback": [
      "\u001b[1;31m---------------------------------------------------------------------------\u001b[0m",
      "\u001b[1;31mKeyError\u001b[0m                                  Traceback (most recent call last)",
      "\u001b[1;32m<ipython-input-18-ee2675c2fc1c>\u001b[0m in \u001b[0;36m<module>\u001b[1;34m()\u001b[0m\n\u001b[1;32m----> 1\u001b[1;33m \u001b[0mset1\u001b[0m\u001b[1;33m.\u001b[0m\u001b[0mremove\u001b[0m\u001b[1;33m(\u001b[0m\u001b[1;34m'brown'\u001b[0m\u001b[1;33m)\u001b[0m \u001b[1;31m# brown isn't present anymore in set1\u001b[0m\u001b[1;33m\u001b[0m\u001b[0m\n\u001b[0m\u001b[0;32m      2\u001b[0m \u001b[1;33m\u001b[0m\u001b[0m\n\u001b[0;32m      3\u001b[0m \u001b[1;31m# KeyError\u001b[0m\u001b[1;33m\u001b[0m\u001b[1;33m\u001b[0m\u001b[0m\n",
      "\u001b[1;31mKeyError\u001b[0m: 'brown'"
     ]
    }
   ],
   "source": [
    "set1.remove('brown') # brown isn't present anymore in set1\n",
    "\n",
    "# KeyError"
   ]
  },
  {
   "cell_type": "code",
   "execution_count": 19,
   "metadata": {
    "colab": {
     "autoexec": {
      "startup": false,
      "wait_interval": 0
     }
    },
    "colab_type": "code",
    "id": "LXiZRMAwK1BU"
   },
   "outputs": [],
   "source": [
    "set1.discard('brown') #removes element from set s if that element is present, \n",
    "                        # otherwise do nothing"
   ]
  },
  {
   "cell_type": "code",
   "execution_count": 20,
   "metadata": {
    "colab": {
     "autoexec": {
      "startup": false,
      "wait_interval": 0
     }
    },
    "colab_type": "code",
    "id": "KhlhhO0TK1Be",
    "outputId": "6288e7a0-8781-488c-da8c-42f89298ddd6"
   },
   "outputs": [
    {
     "name": "stdout",
     "output_type": "stream",
     "text": [
      "red\n"
     ]
    }
   ],
   "source": [
    "color = set1.pop() #  #remove and return an arbitrary element from set; raises KeyError if empty\n",
    "print (color)"
   ]
  },
  {
   "cell_type": "code",
   "execution_count": 21,
   "metadata": {
    "colab": {
     "autoexec": {
      "startup": false,
      "wait_interval": 0
     }
    },
    "colab_type": "code",
    "id": "WrARhXHqK1Bq",
    "outputId": "716c26a5-6ef3-4f9c-e20f-73f7746bb015"
   },
   "outputs": [
    {
     "name": "stdout",
     "output_type": "stream",
     "text": [
      "set()\n"
     ]
    }
   ],
   "source": [
    "set1.clear() # remove all elements from set\n",
    "print(set1)"
   ]
  },
  {
   "cell_type": "markdown",
   "metadata": {
    "colab_type": "text",
    "id": "SVEofxm-LS17"
   },
   "source": [
    "## Dictionaries\n",
    "Dictionary is an unordered collection of items. While lists are an ordered collection of items (meaning that the order in which the items are stored is important), dictionaries have unordered collection. The other difference is the way to index the elements. While lists are indexed by 0, 1, 2, ... , dictionaries are indexed by keys.\n",
    "\n",
    "A dictionary is created with curly bracket { } and elements are separated by commas. An element is a pair key:value.\n",
    "\n",
    "\n",
    "ref : https://www.programiz.com/python-programming/dictionary#what"
   ]
  },
  {
   "cell_type": "code",
   "execution_count": 22,
   "metadata": {
    "colab": {
     "autoexec": {
      "startup": false,
      "wait_interval": 0
     }
    },
    "colab_type": "code",
    "id": "Z7fGmaj7JJzR"
   },
   "outputs": [],
   "source": [
    "# Empty dictionary\n",
    "d1 = {}\n",
    "\n",
    "# Dictionary containing only 1 element\n",
    "d2 = {1 : \"apple\"}\n",
    "\n",
    "# Dictionary containing only integer keys\n",
    "d3 = {1 : \"apple\", 2 : \"orange\", 3 : \"banana\"}\n",
    "\n",
    "# Dictionary containing only string keys\n",
    "d4 = {\"name\" : \"John\", \"age\": 24, \"nationality\":\"Canadian\"}\n",
    "\n",
    "# We can also create dictionaries using **dict()**\n",
    "d5 = dict({1 : \"apple\", 2 : \"orange\", 3 : \"banana\"})\n",
    "\n"
   ]
  },
  {
   "cell_type": "markdown",
   "metadata": {
    "colab_type": "text",
    "id": "Tq0xj1BgfXor"
   },
   "source": [
    "### Access the elements\n",
    "We have access to the elements with their respective key"
   ]
  },
  {
   "cell_type": "code",
   "execution_count": 23,
   "metadata": {
    "colab": {
     "autoexec": {
      "startup": false,
      "wait_interval": 0
     },
     "base_uri": "https://localhost:8080/",
     "height": 105
    },
    "colab_type": "code",
    "executionInfo": {
     "elapsed": 349,
     "status": "ok",
     "timestamp": 1530392516551,
     "user": {
      "displayName": "Stephanie Larocque",
      "photoUrl": "https://lh3.googleusercontent.com/a/default-user=s128",
      "userId": "104636356411980802491"
     },
     "user_tz": 240
    },
    "id": "0D0ZT44rK4ZU",
    "outputId": "26139ea7-d8f4-4db5-85e7-325d325e2b47"
   },
   "outputs": [
    {
     "name": "stdout",
     "output_type": "stream",
     "text": [
      "Element with key 2 orange\n",
      "Element with key 'name' John\n",
      "Element with key 'age' 24\n",
      "Element with key 'name' John\n",
      "Element with key 'NAME' None\n"
     ]
    }
   ],
   "source": [
    "my_dict_1 = {1 : \"apple\", 2 : \"orange\", 3 : \"banana\"}\n",
    "print(\"Element with key 2\", my_dict_1[2])\n",
    "\n",
    "my_dict_2 = {\"name\" : \"John\", \"age\": 24, \"nationality\":\"Canadian\"}\n",
    "print(\"Element with key 'name'\", my_dict_2['name'])\n",
    "print(\"Element with key 'age'\", my_dict_2['age'])\n",
    "\n",
    "# Will raise a KeyError if you uncomment the next line\n",
    "# Since \"NAME\" is not a valid key\n",
    "\n",
    "#print(\"Element with key 'NAME'\", my_dict_2['NAME'])\n",
    "\n",
    "# Can also use the function get( )\n",
    "print(\"Element with key 'name'\", my_dict_2.get('name'))\n",
    "print(\"Element with key 'NAME'\", my_dict_2.get('NAME'))\n",
    "\n"
   ]
  },
  {
   "cell_type": "markdown",
   "metadata": {
    "colab_type": "text",
    "id": "YUYmYLbigPPA"
   },
   "source": [
    "### Change, add and remove elements\n",
    "\n",
    "We can use the assignment operator = to add and change elements. If the *key* is already present, then the value gets updated. Otherwise, a new pair key:value is created"
   ]
  },
  {
   "cell_type": "code",
   "execution_count": 24,
   "metadata": {
    "colab": {
     "autoexec": {
      "startup": false,
      "wait_interval": 0
     },
     "base_uri": "https://localhost:8080/",
     "height": 70
    },
    "colab_type": "code",
    "executionInfo": {
     "elapsed": 363,
     "status": "ok",
     "timestamp": 1530393838275,
     "user": {
      "displayName": "Stephanie Larocque",
      "photoUrl": "https://lh3.googleusercontent.com/a/default-user=s128",
      "userId": "104636356411980802491"
     },
     "user_tz": 240
    },
    "id": "1EalV1grK4eh",
    "outputId": "f51510a9-3a3c-4fb3-fdaa-f064623f9bac"
   },
   "outputs": [
    {
     "name": "stdout",
     "output_type": "stream",
     "text": [
      "Initial dict {'name': 'Jack', 'age': 26}\n",
      "Updated value {'name': 'Jack', 'age': 27}\n",
      "New key_value pair {'name': 'Jack', 'age': 27, 'address': 'Downtown'}\n"
     ]
    }
   ],
   "source": [
    "my_dict = {'name':'Jack', 'age': 26}\n",
    "print(\"Initial dict\", my_dict)\n",
    "\n",
    "# update value\n",
    "my_dict['age'] = 27\n",
    "\n",
    "#Output: {'age': 27, 'name': 'Jack'}\n",
    "print(\"Updated value\", my_dict)\n",
    "\n",
    "# add item\n",
    "my_dict['address'] = 'Downtown'  \n",
    "\n",
    "# Output: {'address': 'Downtown', 'age': 27, 'name': 'Jack'}\n",
    "print(\"New key_value pair\", my_dict)\n"
   ]
  },
  {
   "cell_type": "code",
   "execution_count": 25,
   "metadata": {
    "colab": {
     "autoexec": {
      "startup": false,
      "wait_interval": 0
     },
     "base_uri": "https://localhost:8080/",
     "height": 70
    },
    "colab_type": "code",
    "executionInfo": {
     "elapsed": 346,
     "status": "ok",
     "timestamp": 1530394265027,
     "user": {
      "displayName": "Stephanie Larocque",
      "photoUrl": "https://lh3.googleusercontent.com/a/default-user=s128",
      "userId": "104636356411980802491"
     },
     "user_tz": 240
    },
    "id": "zIOPNTx5mfAK",
    "outputId": "b3703824-6983-4a2f-8f81-fb3ee3d28607"
   },
   "outputs": [
    {
     "name": "stdout",
     "output_type": "stream",
     "text": [
      "Initial dict {'name': 'Jack', 'age': 26}\n",
      "Removing element 'name'\n",
      "Updated dict {'age': 26}\n"
     ]
    }
   ],
   "source": [
    "my_dict = {'name':'Jack', 'age': 26}\n",
    "print(\"Initial dict\", my_dict)\n",
    "\n",
    "elem = my_dict.pop(\"name\")\n",
    "print(\"Removing element 'name'\")\n",
    "print(\"Updated dict\", my_dict)\n"
   ]
  },
  {
   "cell_type": "markdown",
   "metadata": {
    "colab_type": "text",
    "id": "Osa1zVe1gcU3"
   },
   "source": [
    "### Python Dictionary Comprehension"
   ]
  },
  {
   "cell_type": "code",
   "execution_count": 26,
   "metadata": {
    "colab": {
     "autoexec": {
      "startup": false,
      "wait_interval": 0
     }
    },
    "colab_type": "code",
    "id": "aXVWgT_Rgbk4"
   },
   "outputs": [
    {
     "name": "stdout",
     "output_type": "stream",
     "text": [
      "{0: 0, 1: 1, 2: 4, 3: 9, 4: 16, 5: 25, 6: 36, 7: 49, 8: 64, 9: 81}\n"
     ]
    }
   ],
   "source": [
    "squares = {x: x*x for x in range(10)}\n",
    "\n",
    "print(squares)"
   ]
  },
  {
   "cell_type": "code",
   "execution_count": 27,
   "metadata": {
    "colab": {
     "autoexec": {
      "startup": false,
      "wait_interval": 0
     },
     "base_uri": "https://localhost:8080/",
     "height": 52
    },
    "colab_type": "code",
    "executionInfo": {
     "elapsed": 408,
     "status": "ok",
     "timestamp": 1530392674837,
     "user": {
      "displayName": "Stephanie Larocque",
      "photoUrl": "https://lh3.googleusercontent.com/a/default-user=s128",
      "userId": "104636356411980802491"
     },
     "user_tz": 240
    },
    "id": "-Cbzn6BWgbpr",
    "outputId": "50c3b28e-36ea-4d0e-cd44-d94661bc17e6"
   },
   "outputs": [
    {
     "name": "stdout",
     "output_type": "stream",
     "text": [
      "{0: 0, 1: 1, 2: 4, 3: 9, 4: 16, 5: 25, 6: 36, 7: 49, 8: 64, 9: 81}\n"
     ]
    }
   ],
   "source": [
    "# Code equivalent to\n",
    "squares_2 = {}\n",
    "\n",
    "for x in range(10):\n",
    "    squares_2[x] = x * x\n",
    "print(squares_2)"
   ]
  },
  {
   "cell_type": "code",
   "execution_count": 28,
   "metadata": {
    "colab": {
     "autoexec": {
      "startup": false,
      "wait_interval": 0
     },
     "base_uri": "https://localhost:8080/",
     "height": 52
    },
    "colab_type": "code",
    "executionInfo": {
     "elapsed": 451,
     "status": "ok",
     "timestamp": 1530392680177,
     "user": {
      "displayName": "Stephanie Larocque",
      "photoUrl": "https://lh3.googleusercontent.com/a/default-user=s128",
      "userId": "104636356411980802491"
     },
     "user_tz": 240
    },
    "id": "L0Led8ySgbnN",
    "outputId": "6a918cbc-5a08-4519-90d4-4c54b254c58a"
   },
   "outputs": [
    {
     "name": "stdout",
     "output_type": "stream",
     "text": [
      "9\n",
      "9\n"
     ]
    }
   ],
   "source": [
    "print(squares[3])\n",
    "print(squares_2[3])"
   ]
  },
  {
   "cell_type": "code",
   "execution_count": null,
   "metadata": {
    "colab": {
     "autoexec": {
      "startup": false,
      "wait_interval": 0
     }
    },
    "colab_type": "code",
    "id": "uXJEMEkTgk_V"
   },
   "outputs": [],
   "source": []
  },
  {
   "cell_type": "markdown",
   "metadata": {
    "colab_type": "text",
    "id": "zQts9GVYg18t"
   },
   "source": [
    "### Membership Test and Iteration Through a Dictionary"
   ]
  },
  {
   "cell_type": "code",
   "execution_count": 29,
   "metadata": {
    "colab": {
     "autoexec": {
      "startup": false,
      "wait_interval": 0
     },
     "base_uri": "https://localhost:8080/",
     "height": 70
    },
    "colab_type": "code",
    "executionInfo": {
     "elapsed": 364,
     "status": "ok",
     "timestamp": 1530394323463,
     "user": {
      "displayName": "Stephanie Larocque",
      "photoUrl": "https://lh3.googleusercontent.com/a/default-user=s128",
      "userId": "104636356411980802491"
     },
     "user_tz": 240
    },
    "id": "YRyfdQ6Kg4n9",
    "outputId": "3e2fb5ac-7cf7-4353-b636-132164427e64"
   },
   "outputs": [
    {
     "name": "stdout",
     "output_type": "stream",
     "text": [
      "True\n",
      "False\n",
      "False\n"
     ]
    }
   ],
   "source": [
    "squares = {1: 1, 3: 9, 5: 25, 7: 49, 9: 81}\n",
    "\n",
    "# Output: True\n",
    "print(1 in squares)\n",
    "\n",
    "# Output: False\n",
    "print(2 in squares)\n",
    "\n",
    "# membership tests only for key (not values)\n",
    "# Output: False\n",
    "print(49 in squares)"
   ]
  },
  {
   "cell_type": "code",
   "execution_count": 30,
   "metadata": {
    "colab": {
     "autoexec": {
      "startup": false,
      "wait_interval": 0
     },
     "base_uri": "https://localhost:8080/",
     "height": 105
    },
    "colab_type": "code",
    "executionInfo": {
     "elapsed": 320,
     "status": "ok",
     "timestamp": 1530394345265,
     "user": {
      "displayName": "Stephanie Larocque",
      "photoUrl": "https://lh3.googleusercontent.com/a/default-user=s128",
      "userId": "104636356411980802491"
     },
     "user_tz": 240
    },
    "id": "WHhlAOirm-3a",
    "outputId": "050ad9ac-16c3-4b3d-8fb6-45bdda72a9f9"
   },
   "outputs": [
    {
     "name": "stdout",
     "output_type": "stream",
     "text": [
      "1\n",
      "9\n",
      "25\n",
      "49\n",
      "81\n"
     ]
    }
   ],
   "source": [
    "# Iteration through the keys\n",
    "squares = {1: 1, 3: 9, 5: 25, 7: 49, 9: 81}\n",
    "for i in squares:\n",
    "    print(squares[i])"
   ]
  },
  {
   "cell_type": "markdown",
   "metadata": {
    "colab": {
     "autoexec": {
      "startup": false,
      "wait_interval": 0
     },
     "base_uri": "https://localhost:8080/",
     "height": 37
    },
    "colab_type": "code",
    "executionInfo": {
     "elapsed": 417,
     "status": "ok",
     "timestamp": 1530806420241,
     "user": {
      "displayName": "Simon Guiroy",
      "photoUrl": "//lh4.googleusercontent.com/-JA1Do3Su2d4/AAAAAAAAAAI/AAAAAAAAAdE/LzdgJ0kR1Dw/s50-c-k-no/photo.jpg",
      "userId": "112028306624519358161"
     },
     "user_tz": 240
    },
    "id": "zKNGP-ZynEH9",
    "outputId": "acdb5bce-382f-40e8-9732-c2c22282910d"
   },
   "source": [
    "### Random number generation"
   ]
  },
  {
   "cell_type": "markdown",
   "metadata": {
    "colab_type": "text",
    "id": "EnUFUb3-K1FR"
   },
   "source": [
    "Random numbers (here actually pseudo-random) require a generator that needs to be initialized with a seed. Random number can then be generated by a variety of functions."
   ]
  },
  {
   "cell_type": "code",
   "execution_count": 31,
   "metadata": {
    "colab": {
     "autoexec": {
      "startup": false,
      "wait_interval": 0
     }
    },
    "colab_type": "code",
    "id": "BOoG0cd1K1FT"
   },
   "outputs": [],
   "source": [
    "import random"
   ]
  },
  {
   "cell_type": "markdown",
   "metadata": {
    "colab_type": "text",
    "id": "kZqpS6p2K1Fb"
   },
   "source": [
    "#### Random integer"
   ]
  },
  {
   "cell_type": "code",
   "execution_count": 32,
   "metadata": {
    "colab": {
     "autoexec": {
      "startup": false,
      "wait_interval": 0
     }
    },
    "colab_type": "code",
    "id": "COzbWMpoK1Fd",
    "outputId": "54ae6b00-b92b-4d41-9100-784cc0e023fb"
   },
   "outputs": [
    {
     "name": "stdout",
     "output_type": "stream",
     "text": [
      "1\n",
      "6\n"
     ]
    }
   ],
   "source": [
    "# random integer within inclusive range [a,b]\n",
    "num1_1 = random.randint(0,1) # equivalent to random.random()\n",
    "num1_2 = random.randint(4,12)\n",
    "\n",
    "print (num1_1)\n",
    "print (num1_2)"
   ]
  },
  {
   "cell_type": "markdown",
   "metadata": {
    "colab_type": "text",
    "id": "VyCF6nIKK1Fs"
   },
   "source": [
    "#### Random float"
   ]
  },
  {
   "cell_type": "code",
   "execution_count": 33,
   "metadata": {
    "colab": {
     "autoexec": {
      "startup": false,
      "wait_interval": 0
     }
    },
    "colab_type": "code",
    "id": "3ejz6g0wK1Fv",
    "outputId": "a54b5b4d-a650-4788-d53e-4801f8258334"
   },
   "outputs": [
    {
     "name": "stdout",
     "output_type": "stream",
     "text": [
      "0.9380550769012542\n",
      "18.601417559123014\n"
     ]
    }
   ],
   "source": [
    "#Using the uniform probability distribution, meaning\n",
    "# that every possible number within the range has an\n",
    "#equal probability of being generated.\n",
    "\n",
    "num2_1 = random.uniform(0,1)\n",
    "num2_2 = random.uniform(10.5, 20)\n",
    "\n",
    "print (num2_1)\n",
    "print (num2_2)"
   ]
  },
  {
   "cell_type": "markdown",
   "metadata": {
    "colab_type": "text",
    "id": "bMher4eRK1GH"
   },
   "source": [
    "#### Random choice from a list"
   ]
  },
  {
   "cell_type": "code",
   "execution_count": 34,
   "metadata": {
    "colab": {
     "autoexec": {
      "startup": false,
      "wait_interval": 0
     }
    },
    "colab_type": "code",
    "id": "XT9iN4ZQK1GM",
    "outputId": "f5284cf7-e6ee-4d16-c317-d6b704c2e4ab"
   },
   "outputs": [
    {
     "name": "stdout",
     "output_type": "stream",
     "text": [
      "8\n",
      "20.25\n",
      "blue\n"
     ]
    }
   ],
   "source": [
    "seq1 = [6, 7, 8, 9]\n",
    "seq2 = [1.5, 3, 20.25]\n",
    "seq3 = ['green', 'red', 'blue']\n",
    "\n",
    "num3_1 = random.choice(seq1)\n",
    "num3_2 = random.choice(seq2)\n",
    "num3_3 = random.choice(seq3)\n",
    "\n",
    "\n",
    "print (num3_1)\n",
    "print (num3_2)\n",
    "print (num3_3)"
   ]
  },
  {
   "cell_type": "code",
   "execution_count": null,
   "metadata": {},
   "outputs": [],
   "source": []
  },
  {
   "cell_type": "code",
   "execution_count": null,
   "metadata": {},
   "outputs": [],
   "source": []
  },
  {
   "cell_type": "code",
   "execution_count": null,
   "metadata": {},
   "outputs": [],
   "source": []
  }
 ],
 "metadata": {
  "colab": {
   "collapsed_sections": [],
   "default_view": {},
   "name": "5_Theory.ipynb",
   "provenance": [],
   "version": "0.3.2",
   "views": {}
  },
  "kernelspec": {
   "display_name": "Python 3",
   "language": "python",
   "name": "python3"
  },
  "language_info": {
   "codemirror_mode": {
    "name": "ipython",
    "version": 3
   },
   "file_extension": ".py",
   "mimetype": "text/x-python",
   "name": "python",
   "nbconvert_exporter": "python",
   "pygments_lexer": "ipython3",
   "version": "3.6.5"
  }
 },
 "nbformat": 4,
 "nbformat_minor": 1
}
